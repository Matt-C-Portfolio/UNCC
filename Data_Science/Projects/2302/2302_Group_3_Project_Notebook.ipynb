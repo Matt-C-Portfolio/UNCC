{
 "cells": [
  {
   "cell_type": "code",
   "execution_count": 1,
   "id": "a790c641-805e-4ee9-b87b-aec8ffe4cc50",
   "metadata": {
    "tags": []
   },
   "outputs": [],
   "source": [
    "# Import Packages\n",
    "import numpy as np\n",
    "import pandas as pd\n",
    "import matplotlib.pyplot as plt\n",
    "import seaborn as sns"
   ]
  },
  {
   "cell_type": "code",
   "execution_count": 4,
   "id": "c27f4251-0c08-44c6-bfac-888c0c123c14",
   "metadata": {
    "tags": []
   },
   "outputs": [
    {
     "name": "stdout",
     "output_type": "stream",
     "text": [
      "            timestamp    company level                         title  \\\n",
      "0    06-07-2017 11:33     Oracle    L3               Product Manager   \n",
      "1    06-10-2017 17:11       eBay  SE 2             Software Engineer   \n",
      "2    06-11-2017 14:53     Amazon    L7               Product Manager   \n",
      "3   6/17/2017 0:23:14      Apple    M1  Software Engineering Manager   \n",
      "4  6/20/2017 10:58:51  Microsoft    60             Software Engineer   \n",
      "\n",
      "   totalyearlycompensation           location  yearsofexperience  \\\n",
      "0                   127000   Redwood City, CA                1.5   \n",
      "1                   100000  San Francisco, CA                5.0   \n",
      "2                   310000        Seattle, WA                8.0   \n",
      "3                   372000      Sunnyvale, CA                7.0   \n",
      "4                   157000  Mountain View, CA                5.0   \n",
      "\n",
      "   yearsatcompany  tag  basesalary  ...  Doctorate_Degree  Highschool  \\\n",
      "0             1.5  NaN      107000  ...                 0           0   \n",
      "1             3.0  NaN           0  ...                 0           0   \n",
      "2             0.0  NaN      155000  ...                 0           0   \n",
      "3             5.0  NaN      157000  ...                 0           0   \n",
      "4             3.0  NaN           0  ...                 0           0   \n",
      "\n",
      "  Some_College Race_Asian  Race_White  Race_Two_Or_More  Race_Black  \\\n",
      "0            0          0           0                 0           0   \n",
      "1            0          0           0                 0           0   \n",
      "2            0          0           0                 0           0   \n",
      "3            0          0           0                 0           0   \n",
      "4            0          0           0                 0           0   \n",
      "\n",
      "   Race_Hispanic  Race  Education  \n",
      "0              0   NaN        NaN  \n",
      "1              0   NaN        NaN  \n",
      "2              0   NaN        NaN  \n",
      "3              0   NaN        NaN  \n",
      "4              0   NaN        NaN  \n",
      "\n",
      "[5 rows x 29 columns]\n"
     ]
    },
    {
     "data": {
      "text/plain": [
       "<bound method DataFrame.info of                 timestamp     company     level                         title  \\\n",
       "0        06-07-2017 11:33      Oracle        L3               Product Manager   \n",
       "1        06-10-2017 17:11        eBay      SE 2             Software Engineer   \n",
       "2        06-11-2017 14:53      Amazon        L7               Product Manager   \n",
       "3       6/17/2017 0:23:14       Apple        M1  Software Engineering Manager   \n",
       "4      6/20/2017 10:58:51   Microsoft        60             Software Engineer   \n",
       "...                   ...         ...       ...                           ...   \n",
       "62637    09-09-2018 11:52      Google        T4             Software Engineer   \n",
       "62638   9/13/2018 8:23:32   Microsoft        62             Software Engineer   \n",
       "62639  9/13/2018 14:35:59        MSFT        63             Software Engineer   \n",
       "62640  9/16/2018 16:10:35  Salesforce  Lead MTS             Software Engineer   \n",
       "62641   1/29/2019 5:12:59       apple      ict3             Software Engineer   \n",
       "\n",
       "       totalyearlycompensation           location  yearsofexperience  \\\n",
       "0                       127000   Redwood City, CA                1.5   \n",
       "1                       100000  San Francisco, CA                5.0   \n",
       "2                       310000        Seattle, WA                8.0   \n",
       "3                       372000      Sunnyvale, CA                7.0   \n",
       "4                       157000  Mountain View, CA                5.0   \n",
       "...                        ...                ...                ...   \n",
       "62637                   327000        Seattle, WA               10.0   \n",
       "62638                   237000        Redmond, WA                2.0   \n",
       "62639                   220000        Seattle, WA               14.0   \n",
       "62640                   280000  San Francisco, CA                8.0   \n",
       "62641                   200000      Sunnyvale, CA                0.0   \n",
       "\n",
       "       yearsatcompany                             tag  basesalary  ...  \\\n",
       "0                 1.5                             NaN      107000  ...   \n",
       "1                 3.0                             NaN           0  ...   \n",
       "2                 0.0                             NaN      155000  ...   \n",
       "3                 5.0                             NaN      157000  ...   \n",
       "4                 3.0                             NaN           0  ...   \n",
       "...               ...                             ...         ...  ...   \n",
       "62637             1.0  Distributed Systems (Back-End)      155000  ...   \n",
       "62638             2.0                      Full Stack      146900  ...   \n",
       "62639            12.0                      Full Stack      157000  ...   \n",
       "62640             4.0                             iOS      194688  ...   \n",
       "62641             0.0                         ML / AI      155000  ...   \n",
       "\n",
       "       Doctorate_Degree  Highschool Some_College Race_Asian  Race_White  \\\n",
       "0                     0           0            0          0           0   \n",
       "1                     0           0            0          0           0   \n",
       "2                     0           0            0          0           0   \n",
       "3                     0           0            0          0           0   \n",
       "4                     0           0            0          0           0   \n",
       "...                 ...         ...          ...        ...         ...   \n",
       "62637                 0           0            0          0           0   \n",
       "62638                 0           0            0          0           0   \n",
       "62639                 0           0            0          0           0   \n",
       "62640                 0           0            0          0           0   \n",
       "62641                 0           0            0          0           0   \n",
       "\n",
       "       Race_Two_Or_More  Race_Black  Race_Hispanic  Race  Education  \n",
       "0                     0           0              0   NaN        NaN  \n",
       "1                     0           0              0   NaN        NaN  \n",
       "2                     0           0              0   NaN        NaN  \n",
       "3                     0           0              0   NaN        NaN  \n",
       "4                     0           0              0   NaN        NaN  \n",
       "...                 ...         ...            ...   ...        ...  \n",
       "62637                 0           0              0   NaN        NaN  \n",
       "62638                 0           0              0   NaN        NaN  \n",
       "62639                 0           0              0   NaN        NaN  \n",
       "62640                 0           0              0   NaN        NaN  \n",
       "62641                 0           0              0   NaN        NaN  \n",
       "\n",
       "[62642 rows x 29 columns]>"
      ]
     },
     "execution_count": 4,
     "metadata": {},
     "output_type": "execute_result"
    }
   ],
   "source": [
    "# Load the dataset\n",
    "df = pd.read_csv('tech_companies_salary.csv')\n",
    "# Display the first few rows of the dataframe\n",
    "print(df.head())\n",
    "# Display summary information about the dataframe\n",
    "df.info"
   ]
  },
  {
   "cell_type": "code",
   "execution_count": 5,
   "id": "ea22b23f-ef98-4a2e-95b7-5ecd53b45016",
   "metadata": {
    "tags": []
   },
   "outputs": [
    {
     "data": {
      "text/plain": [
       "timestamp                      0\n",
       "company                        5\n",
       "level                        123\n",
       "title                          0\n",
       "totalyearlycompensation        0\n",
       "location                       0\n",
       "yearsofexperience              0\n",
       "yearsatcompany                 0\n",
       "tag                          870\n",
       "basesalary                     0\n",
       "stockgrantvalue                0\n",
       "bonus                          0\n",
       "gender                     19540\n",
       "otherdetails               22508\n",
       "cityid                         0\n",
       "dmaid                          2\n",
       "rowNumber                      0\n",
       "Masters_Degree                 0\n",
       "Bachelors_Degree               0\n",
       "Doctorate_Degree               0\n",
       "Highschool                     0\n",
       "Some_College                   0\n",
       "Race_Asian                     0\n",
       "Race_White                     0\n",
       "Race_Two_Or_More               0\n",
       "Race_Black                     0\n",
       "Race_Hispanic                  0\n",
       "Race                       40215\n",
       "Education                  32272\n",
       "dtype: int64"
      ]
     },
     "execution_count": 5,
     "metadata": {},
     "output_type": "execute_result"
    }
   ],
   "source": [
    "# Number of null values in each column\n",
    "df.isna().sum()"
   ]
  },
  {
   "cell_type": "code",
   "execution_count": 6,
   "id": "c69d4602-4b79-49d3-9d75-32d578e47806",
   "metadata": {
    "tags": []
   },
   "outputs": [
    {
     "name": "stdout",
     "output_type": "stream",
     "text": [
      "19540\n",
      "timestamp                      0\n",
      "company                        4\n",
      "level                         72\n",
      "title                          0\n",
      "totalyearlycompensation        0\n",
      "location                       0\n",
      "yearsofexperience              0\n",
      "yearsatcompany                 0\n",
      "tag                          354\n",
      "basesalary                     0\n",
      "stockgrantvalue                0\n",
      "bonus                          0\n",
      "gender                         0\n",
      "otherdetails               12915\n",
      "cityid                         0\n",
      "dmaid                          1\n",
      "rowNumber                      0\n",
      "Masters_Degree                 0\n",
      "Bachelors_Degree               0\n",
      "Doctorate_Degree               0\n",
      "Highschool                     0\n",
      "Some_College                   0\n",
      "Race_Asian                     0\n",
      "Race_White                     0\n",
      "Race_Two_Or_More               0\n",
      "Race_Black                     0\n",
      "Race_Hispanic                  0\n",
      "Race                       20791\n",
      "Education                  15336\n",
      "dtype: int64\n"
     ]
    }
   ],
   "source": [
    "# Count null values in 'gender' column\n",
    "print(df['gender'].isna().sum())\n",
    "# Remove rows with null 'gender' column\n",
    "df = df.dropna(subset='gender')\n",
    "# Verify removal\n",
    "print(df.isna().sum())"
   ]
  },
  {
   "cell_type": "code",
   "execution_count": 8,
   "id": "cea9f333-7955-4bcd-864b-818a19cb22ac",
   "metadata": {
    "tags": []
   },
   "outputs": [
    {
     "name": "stdout",
     "output_type": "stream",
     "text": [
      "15336\n",
      "timestamp                     0\n",
      "company                       2\n",
      "level                        57\n",
      "title                         0\n",
      "totalyearlycompensation       0\n",
      "location                      0\n",
      "yearsofexperience             0\n",
      "yearsatcompany                0\n",
      "tag                          25\n",
      "basesalary                    0\n",
      "stockgrantvalue               0\n",
      "bonus                         0\n",
      "gender                        0\n",
      "otherdetails                  0\n",
      "cityid                        0\n",
      "dmaid                         0\n",
      "rowNumber                     0\n",
      "Masters_Degree                0\n",
      "Bachelors_Degree              0\n",
      "Doctorate_Degree              0\n",
      "Highschool                    0\n",
      "Some_College                  0\n",
      "Race_Asian                    0\n",
      "Race_White                    0\n",
      "Race_Two_Or_More              0\n",
      "Race_Black                    0\n",
      "Race_Hispanic                 0\n",
      "Race                       6175\n",
      "Education                     0\n",
      "dtype: int64\n"
     ]
    }
   ],
   "source": [
    "# Count null values in 'Education' column\n",
    "print(df['Education'].isna().sum())\n",
    "# Remove rows with null 'Education' column\n",
    "df = df.dropna(subset='Education')\n",
    "# Verify removal\n",
    "print(df.isna().sum())"
   ]
  },
  {
   "cell_type": "code",
   "execution_count": 9,
   "id": "21f7b98c-05cd-4286-83b3-a60a8a80dcaa",
   "metadata": {
    "tags": []
   },
   "outputs": [
    {
     "data": {
      "text/plain": [
       "<bound method DataFrame.info of                 timestamp      company              level  \\\n",
       "3427   12/28/2018 6:53:55  Capital One   Senior Associate   \n",
       "5037   3/18/2019 10:03:34    Bloomberg  Software Engineer   \n",
       "5392   3/31/2019 16:58:35       Amazon                 L5   \n",
       "6055   4/25/2019 23:33:26        Apple               ICT3   \n",
       "7218     06-12-2019 21:08     Synopsys                100   \n",
       "...                   ...          ...                ...   \n",
       "61981  2/15/2021 19:50:36     Facebook                 M2   \n",
       "61982    03-09-2021 17:03       Google                L10   \n",
       "61984  3/25/2021 10:45:03       Zapier                 L8   \n",
       "61987  5/18/2021 15:34:21     Facebook                 D1   \n",
       "61991  7/30/2021 22:23:24     Facebook                 E9   \n",
       "\n",
       "                              title  totalyearlycompensation  \\\n",
       "3427                 Data Scientist                   125000   \n",
       "5037              Software Engineer                   170000   \n",
       "5392                 Data Scientist                   332000   \n",
       "6055              Software Engineer                   240000   \n",
       "7218              Software Engineer                   310000   \n",
       "...                             ...                      ...   \n",
       "61981  Software Engineering Manager                  1470000   \n",
       "61982               Product Manager                  4500000   \n",
       "61984  Software Engineering Manager                  1605000   \n",
       "61987  Software Engineering Manager                  2372000   \n",
       "61991               Product Manager                  4980000   \n",
       "\n",
       "                location  yearsofexperience  yearsatcompany  \\\n",
       "3427      Washington, DC                1.0             0.0   \n",
       "5037        New York, NY                0.0             0.0   \n",
       "5392       Palo Alto, CA                1.0             0.0   \n",
       "6055       Cupertino, CA                3.0             3.0   \n",
       "7218   Mountain View, CA               25.0             9.0   \n",
       "...                  ...                ...             ...   \n",
       "61981     Menlo Park, CA                9.0             7.0   \n",
       "61982  San Francisco, CA               20.0            14.0   \n",
       "61984         Denver, CO               16.0             2.0   \n",
       "61987     Menlo Park, CA               22.0             2.0   \n",
       "61991     Menlo Park, CA               17.0             0.0   \n",
       "\n",
       "                                  tag  basesalary  ...  Doctorate_Degree  \\\n",
       "3427                          ML / AI      121000  ...                 1   \n",
       "5037   Distributed Systems (Back-End)      142000  ...                 0   \n",
       "5392                     Optimization      185000  ...                 1   \n",
       "6055                          ML / AI      150000  ...                 1   \n",
       "7218                           DevOps      210000  ...                 1   \n",
       "...                               ...         ...  ...               ...   \n",
       "61981                      Full Stack      290000  ...                 0   \n",
       "61982                        Consumer      450000  ...                 0   \n",
       "61984                      Full Stack      250000  ...                 0   \n",
       "61987                         ML / AI      315000  ...                 0   \n",
       "61991                         Product      380000  ...                 0   \n",
       "\n",
       "       Highschool Some_College Race_Asian  Race_White  Race_Two_Or_More  \\\n",
       "3427            0            0          0           0                 0   \n",
       "5037            0            0          0           0                 0   \n",
       "5392            0            0          0           0                 0   \n",
       "6055            0            0          0           0                 0   \n",
       "7218            0            0          0           0                 0   \n",
       "...           ...          ...        ...         ...               ...   \n",
       "61981           0            0          1           0                 0   \n",
       "61982           0            0          1           0                 0   \n",
       "61984           0            0          0           1                 0   \n",
       "61987           0            0          0           0                 0   \n",
       "61991           0            0          1           0                 0   \n",
       "\n",
       "       Race_Black  Race_Hispanic   Race          Education  \n",
       "3427            0              0    NaN                PhD  \n",
       "5037            0              0    NaN    Master's Degree  \n",
       "5392            0              0    NaN                PhD  \n",
       "6055            0              0    NaN                PhD  \n",
       "7218            0              0    NaN                PhD  \n",
       "...           ...            ...    ...                ...  \n",
       "61981           0              0  Asian  Bachelor's Degree  \n",
       "61982           0              0  Asian    Master's Degree  \n",
       "61984           0              0  White    Master's Degree  \n",
       "61987           1              0  Black    Master's Degree  \n",
       "61991           0              0  Asian    Master's Degree  \n",
       "\n",
       "[27766 rows x 29 columns]>"
      ]
     },
     "execution_count": 9,
     "metadata": {},
     "output_type": "execute_result"
    }
   ],
   "source": [
    "df.info"
   ]
  },
  {
   "cell_type": "code",
   "execution_count": 10,
   "id": "7ffb389d-51dd-4965-a91f-4b408b9aeb8a",
   "metadata": {
    "tags": []
   },
   "outputs": [
    {
     "name": "stdout",
     "output_type": "stream",
     "text": [
      "2\n",
      "timestamp                     0\n",
      "company                       0\n",
      "level                        57\n",
      "title                         0\n",
      "totalyearlycompensation       0\n",
      "location                      0\n",
      "yearsofexperience             0\n",
      "yearsatcompany                0\n",
      "tag                          25\n",
      "basesalary                    0\n",
      "stockgrantvalue               0\n",
      "bonus                         0\n",
      "gender                        0\n",
      "otherdetails                  0\n",
      "cityid                        0\n",
      "dmaid                         0\n",
      "rowNumber                     0\n",
      "Masters_Degree                0\n",
      "Bachelors_Degree              0\n",
      "Doctorate_Degree              0\n",
      "Highschool                    0\n",
      "Some_College                  0\n",
      "Race_Asian                    0\n",
      "Race_White                    0\n",
      "Race_Two_Or_More              0\n",
      "Race_Black                    0\n",
      "Race_Hispanic                 0\n",
      "Race                       6175\n",
      "Education                     0\n",
      "dtype: int64\n"
     ]
    }
   ],
   "source": [
    "# Count null values in 'company' column\n",
    "print(df['company'].isna().sum())\n",
    "# Remove rows with null 'Education' column\n",
    "df = df.dropna(subset='company')\n",
    "# Verify removal\n",
    "print(df.isna().sum())"
   ]
  },
  {
   "cell_type": "code",
   "execution_count": 13,
   "id": "f080f04a-e391-4e68-a184-90df08ba8251",
   "metadata": {
    "tags": []
   },
   "outputs": [
    {
     "name": "stdout",
     "output_type": "stream",
     "text": [
      "6175\n",
      "timestamp                   0\n",
      "company                     0\n",
      "level                      53\n",
      "title                       0\n",
      "totalyearlycompensation     0\n",
      "location                    0\n",
      "yearsofexperience           0\n",
      "yearsatcompany              0\n",
      "tag                        21\n",
      "basesalary                  0\n",
      "stockgrantvalue             0\n",
      "bonus                       0\n",
      "gender                      0\n",
      "otherdetails                0\n",
      "cityid                      0\n",
      "dmaid                       0\n",
      "rowNumber                   0\n",
      "Masters_Degree              0\n",
      "Bachelors_Degree            0\n",
      "Doctorate_Degree            0\n",
      "Highschool                  0\n",
      "Some_College                0\n",
      "Race_Asian                  0\n",
      "Race_White                  0\n",
      "Race_Two_Or_More            0\n",
      "Race_Black                  0\n",
      "Race_Hispanic               0\n",
      "Race                        0\n",
      "Education                   0\n",
      "dtype: int64\n"
     ]
    }
   ],
   "source": [
    "# Count null values in 'Race' column\n",
    "print(df['Race'].isna().sum())\n",
    "# Remove rows with null 'Race' column\n",
    "df = df.dropna(subset='Race')\n",
    "# Verify removal\n",
    "print(df.isna().sum())"
   ]
  },
  {
   "cell_type": "code",
   "execution_count": 16,
   "id": "a8290594-b422-4dc3-bc81-b3efae7ddea9",
   "metadata": {
    "tags": []
   },
   "outputs": [
    {
     "name": "stdout",
     "output_type": "stream",
     "text": [
      "21\n",
      "timestamp                   0\n",
      "company                     0\n",
      "level                      53\n",
      "title                       0\n",
      "totalyearlycompensation     0\n",
      "location                    0\n",
      "yearsofexperience           0\n",
      "yearsatcompany              0\n",
      "tag                         0\n",
      "basesalary                  0\n",
      "stockgrantvalue             0\n",
      "bonus                       0\n",
      "gender                      0\n",
      "otherdetails                0\n",
      "cityid                      0\n",
      "dmaid                       0\n",
      "rowNumber                   0\n",
      "Masters_Degree              0\n",
      "Bachelors_Degree            0\n",
      "Doctorate_Degree            0\n",
      "Highschool                  0\n",
      "Some_College                0\n",
      "Race_Asian                  0\n",
      "Race_White                  0\n",
      "Race_Two_Or_More            0\n",
      "Race_Black                  0\n",
      "Race_Hispanic               0\n",
      "Race                        0\n",
      "Education                   0\n",
      "dtype: int64\n"
     ]
    }
   ],
   "source": [
    "# Count null values in 'tag' column\n",
    "print(df['tag'].isna().sum())\n",
    "# Remove rows with null 'tag' column\n",
    "df = df.dropna(subset='tag')\n",
    "# Verify removal\n",
    "print(df.isna().sum())"
   ]
  },
  {
   "cell_type": "code",
   "execution_count": 17,
   "id": "ad470f08-e7b3-4566-aaf2-321ea12fa5cf",
   "metadata": {
    "tags": []
   },
   "outputs": [
    {
     "data": {
      "text/plain": [
       "15710                         L6\n",
       "23532                         61\n",
       "23533                         L5\n",
       "23534                         62\n",
       "23535                        IC3\n",
       "23537                         L6\n",
       "23538                     PSG 20\n",
       "23540                         L7\n",
       "23541                         L6\n",
       "23543                       ICT3\n",
       "23544                    Level 4\n",
       "23545                         L5\n",
       "23546                 Senior MTS\n",
       "23547                        NaN\n",
       "23548                         L4\n",
       "23549                    Grade 5\n",
       "23550                         E4\n",
       "23552                        T25\n",
       "23553                 Senior SWE\n",
       "23554                         59\n",
       "23555                         62\n",
       "23556             Staff Engineer\n",
       "23557                        III\n",
       "23558                         64\n",
       "23559                     Senior\n",
       "23562                         M1\n",
       "23564                         L3\n",
       "23565                     03-Jan\n",
       "23566              Lead Engineer\n",
       "23567                         E4\n",
       "23568                  Principal\n",
       "23574                         L5\n",
       "23575                       SMTS\n",
       "23577          Software Engineer\n",
       "23578                       Sde4\n",
       "23579      Senior Vice President\n",
       "23580                         30\n",
       "23583                   Director\n",
       "23585                        IC5\n",
       "23586                         L4\n",
       "23588                         L6\n",
       "23590             Senior Manager\n",
       "23591                         L7\n",
       "23596                        MTS\n",
       "23598               Sr Developer\n",
       "23601                        IC4\n",
       "23603                      Staff\n",
       "23604    Staff Software Engineer\n",
       "23605                         E4\n",
       "23606                       ICT2\n",
       "Name: level, dtype: object"
      ]
     },
     "execution_count": 17,
     "metadata": {},
     "output_type": "execute_result"
    }
   ],
   "source": [
    "df['level'].head(50)"
   ]
  },
  {
   "cell_type": "code",
   "execution_count": 18,
   "id": "3fc13d2b-82b9-4287-a42b-4933a6ed7ae6",
   "metadata": {
    "tags": []
   },
   "outputs": [
    {
     "data": {
      "text/plain": [
       "1596"
      ]
     },
     "execution_count": 18,
     "metadata": {},
     "output_type": "execute_result"
    }
   ],
   "source": [
    "len(pd.unique(df['level']))"
   ]
  },
  {
   "cell_type": "code",
   "execution_count": 19,
   "id": "e1d68082-5674-461d-a035-9745d8650440",
   "metadata": {
    "tags": []
   },
   "outputs": [
    {
     "name": "stdout",
     "output_type": "stream",
     "text": [
      "53\n",
      "timestamp                  0\n",
      "company                    0\n",
      "level                      0\n",
      "title                      0\n",
      "totalyearlycompensation    0\n",
      "location                   0\n",
      "yearsofexperience          0\n",
      "yearsatcompany             0\n",
      "tag                        0\n",
      "basesalary                 0\n",
      "stockgrantvalue            0\n",
      "bonus                      0\n",
      "gender                     0\n",
      "otherdetails               0\n",
      "cityid                     0\n",
      "dmaid                      0\n",
      "rowNumber                  0\n",
      "Masters_Degree             0\n",
      "Bachelors_Degree           0\n",
      "Doctorate_Degree           0\n",
      "Highschool                 0\n",
      "Some_College               0\n",
      "Race_Asian                 0\n",
      "Race_White                 0\n",
      "Race_Two_Or_More           0\n",
      "Race_Black                 0\n",
      "Race_Hispanic              0\n",
      "Race                       0\n",
      "Education                  0\n",
      "dtype: int64\n"
     ]
    }
   ],
   "source": [
    "# Count null values in 'tag' column\n",
    "print(df['level'].isna().sum())\n",
    "# Remove rows with null 'tag' column\n",
    "df = df.dropna(subset='level')\n",
    "# Verify removal\n",
    "print(df.isna().sum())"
   ]
  },
  {
   "cell_type": "code",
   "execution_count": null,
   "id": "b2907e9e-2f97-4c5c-bfc0-2d093c4bce43",
   "metadata": {},
   "outputs": [],
   "source": []
  }
 ],
 "metadata": {
  "kernelspec": {
   "display_name": "Python 3 (ipykernel)",
   "language": "python",
   "name": "python3"
  },
  "language_info": {
   "codemirror_mode": {
    "name": "ipython",
    "version": 3
   },
   "file_extension": ".py",
   "mimetype": "text/x-python",
   "name": "python",
   "nbconvert_exporter": "python",
   "pygments_lexer": "ipython3",
   "version": "3.11.5"
  }
 },
 "nbformat": 4,
 "nbformat_minor": 5
}
