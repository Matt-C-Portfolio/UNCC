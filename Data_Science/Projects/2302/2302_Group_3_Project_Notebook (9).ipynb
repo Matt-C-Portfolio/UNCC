{
 "cells": [
  {
   "cell_type": "markdown",
   "id": "048b9508-03f3-4039-bedd-efb2bb13731f",
   "metadata": {},
   "source": [
    "# Analysis of Tech Company Salaries"
   ]
  },
  {
   "cell_type": "markdown",
   "id": "04d5d756-5e6f-43fd-8df9-5022a35bb55e",
   "metadata": {},
   "source": [
    "![techCompanies](tech_logos.png) \n",
    "\n",
    "This notebook takes a look into a dataset populated with information on tech employees working at various companies.  Our mission is to find and measure variables that may have an impact on the salary of an individual."
   ]
  },
  {
   "cell_type": "code",
   "execution_count": 2,
   "id": "a790c641-805e-4ee9-b87b-aec8ffe4cc50",
   "metadata": {
    "tags": []
   },
   "outputs": [],
   "source": [
    "# Import Packages\n",
    "import numpy as np\n",
    "import pandas as pd\n",
    "import matplotlib.pyplot as plt\n",
    "import seaborn as sns\n",
    "from sklearn.preprocessing import LabelEncoder\n",
    "from sklearn.model_selection import train_test_split\n",
    "from sklearn.linear_model import LinearRegression\n",
    "from sklearn.tree import DecisionTreeRegressor\n",
    "from sklearn.ensemble import RandomForestRegressor, GradientBoostingRegressor"
   ]
  },
  {
   "cell_type": "code",
   "execution_count": 221,
   "id": "c27f4251-0c08-44c6-bfac-888c0c123c14",
   "metadata": {
    "tags": []
   },
   "outputs": [],
   "source": [
    "# Load the dataset\n",
    "df = pd.read_csv('tech_companies_salary.csv')"
   ]
  },
  {
   "cell_type": "code",
   "execution_count": 222,
   "id": "304b5836-ce3f-4e0c-a76b-3adfbdf21359",
   "metadata": {
    "tags": []
   },
   "outputs": [
    {
     "data": {
      "text/html": [
       "<div>\n",
       "<style scoped>\n",
       "    .dataframe tbody tr th:only-of-type {\n",
       "        vertical-align: middle;\n",
       "    }\n",
       "\n",
       "    .dataframe tbody tr th {\n",
       "        vertical-align: top;\n",
       "    }\n",
       "\n",
       "    .dataframe thead th {\n",
       "        text-align: right;\n",
       "    }\n",
       "</style>\n",
       "<table border=\"1\" class=\"dataframe\">\n",
       "  <thead>\n",
       "    <tr style=\"text-align: right;\">\n",
       "      <th></th>\n",
       "      <th>timestamp</th>\n",
       "      <th>company</th>\n",
       "      <th>level</th>\n",
       "      <th>title</th>\n",
       "      <th>totalyearlycompensation</th>\n",
       "      <th>location</th>\n",
       "      <th>yearsofexperience</th>\n",
       "      <th>yearsatcompany</th>\n",
       "      <th>tag</th>\n",
       "      <th>basesalary</th>\n",
       "      <th>...</th>\n",
       "      <th>Doctorate_Degree</th>\n",
       "      <th>Highschool</th>\n",
       "      <th>Some_College</th>\n",
       "      <th>Race_Asian</th>\n",
       "      <th>Race_White</th>\n",
       "      <th>Race_Two_Or_More</th>\n",
       "      <th>Race_Black</th>\n",
       "      <th>Race_Hispanic</th>\n",
       "      <th>Race</th>\n",
       "      <th>Education</th>\n",
       "    </tr>\n",
       "  </thead>\n",
       "  <tbody>\n",
       "    <tr>\n",
       "      <th>0</th>\n",
       "      <td>06-07-2017 11:33</td>\n",
       "      <td>Oracle</td>\n",
       "      <td>L3</td>\n",
       "      <td>Product Manager</td>\n",
       "      <td>127000</td>\n",
       "      <td>Redwood City, CA</td>\n",
       "      <td>1.5</td>\n",
       "      <td>1.5</td>\n",
       "      <td>NaN</td>\n",
       "      <td>107000</td>\n",
       "      <td>...</td>\n",
       "      <td>0</td>\n",
       "      <td>0</td>\n",
       "      <td>0</td>\n",
       "      <td>0</td>\n",
       "      <td>0</td>\n",
       "      <td>0</td>\n",
       "      <td>0</td>\n",
       "      <td>0</td>\n",
       "      <td>NaN</td>\n",
       "      <td>NaN</td>\n",
       "    </tr>\n",
       "    <tr>\n",
       "      <th>1</th>\n",
       "      <td>06-10-2017 17:11</td>\n",
       "      <td>eBay</td>\n",
       "      <td>SE 2</td>\n",
       "      <td>Software Engineer</td>\n",
       "      <td>100000</td>\n",
       "      <td>San Francisco, CA</td>\n",
       "      <td>5.0</td>\n",
       "      <td>3.0</td>\n",
       "      <td>NaN</td>\n",
       "      <td>0</td>\n",
       "      <td>...</td>\n",
       "      <td>0</td>\n",
       "      <td>0</td>\n",
       "      <td>0</td>\n",
       "      <td>0</td>\n",
       "      <td>0</td>\n",
       "      <td>0</td>\n",
       "      <td>0</td>\n",
       "      <td>0</td>\n",
       "      <td>NaN</td>\n",
       "      <td>NaN</td>\n",
       "    </tr>\n",
       "    <tr>\n",
       "      <th>2</th>\n",
       "      <td>06-11-2017 14:53</td>\n",
       "      <td>Amazon</td>\n",
       "      <td>L7</td>\n",
       "      <td>Product Manager</td>\n",
       "      <td>310000</td>\n",
       "      <td>Seattle, WA</td>\n",
       "      <td>8.0</td>\n",
       "      <td>0.0</td>\n",
       "      <td>NaN</td>\n",
       "      <td>155000</td>\n",
       "      <td>...</td>\n",
       "      <td>0</td>\n",
       "      <td>0</td>\n",
       "      <td>0</td>\n",
       "      <td>0</td>\n",
       "      <td>0</td>\n",
       "      <td>0</td>\n",
       "      <td>0</td>\n",
       "      <td>0</td>\n",
       "      <td>NaN</td>\n",
       "      <td>NaN</td>\n",
       "    </tr>\n",
       "    <tr>\n",
       "      <th>3</th>\n",
       "      <td>6/17/2017 0:23:14</td>\n",
       "      <td>Apple</td>\n",
       "      <td>M1</td>\n",
       "      <td>Software Engineering Manager</td>\n",
       "      <td>372000</td>\n",
       "      <td>Sunnyvale, CA</td>\n",
       "      <td>7.0</td>\n",
       "      <td>5.0</td>\n",
       "      <td>NaN</td>\n",
       "      <td>157000</td>\n",
       "      <td>...</td>\n",
       "      <td>0</td>\n",
       "      <td>0</td>\n",
       "      <td>0</td>\n",
       "      <td>0</td>\n",
       "      <td>0</td>\n",
       "      <td>0</td>\n",
       "      <td>0</td>\n",
       "      <td>0</td>\n",
       "      <td>NaN</td>\n",
       "      <td>NaN</td>\n",
       "    </tr>\n",
       "    <tr>\n",
       "      <th>4</th>\n",
       "      <td>6/20/2017 10:58:51</td>\n",
       "      <td>Microsoft</td>\n",
       "      <td>60</td>\n",
       "      <td>Software Engineer</td>\n",
       "      <td>157000</td>\n",
       "      <td>Mountain View, CA</td>\n",
       "      <td>5.0</td>\n",
       "      <td>3.0</td>\n",
       "      <td>NaN</td>\n",
       "      <td>0</td>\n",
       "      <td>...</td>\n",
       "      <td>0</td>\n",
       "      <td>0</td>\n",
       "      <td>0</td>\n",
       "      <td>0</td>\n",
       "      <td>0</td>\n",
       "      <td>0</td>\n",
       "      <td>0</td>\n",
       "      <td>0</td>\n",
       "      <td>NaN</td>\n",
       "      <td>NaN</td>\n",
       "    </tr>\n",
       "  </tbody>\n",
       "</table>\n",
       "<p>5 rows × 29 columns</p>\n",
       "</div>"
      ],
      "text/plain": [
       "            timestamp    company level                         title  \\\n",
       "0    06-07-2017 11:33     Oracle    L3               Product Manager   \n",
       "1    06-10-2017 17:11       eBay  SE 2             Software Engineer   \n",
       "2    06-11-2017 14:53     Amazon    L7               Product Manager   \n",
       "3   6/17/2017 0:23:14      Apple    M1  Software Engineering Manager   \n",
       "4  6/20/2017 10:58:51  Microsoft    60             Software Engineer   \n",
       "\n",
       "   totalyearlycompensation           location  yearsofexperience  \\\n",
       "0                   127000   Redwood City, CA                1.5   \n",
       "1                   100000  San Francisco, CA                5.0   \n",
       "2                   310000        Seattle, WA                8.0   \n",
       "3                   372000      Sunnyvale, CA                7.0   \n",
       "4                   157000  Mountain View, CA                5.0   \n",
       "\n",
       "   yearsatcompany  tag  basesalary  ...  Doctorate_Degree  Highschool  \\\n",
       "0             1.5  NaN      107000  ...                 0           0   \n",
       "1             3.0  NaN           0  ...                 0           0   \n",
       "2             0.0  NaN      155000  ...                 0           0   \n",
       "3             5.0  NaN      157000  ...                 0           0   \n",
       "4             3.0  NaN           0  ...                 0           0   \n",
       "\n",
       "  Some_College Race_Asian  Race_White  Race_Two_Or_More  Race_Black  \\\n",
       "0            0          0           0                 0           0   \n",
       "1            0          0           0                 0           0   \n",
       "2            0          0           0                 0           0   \n",
       "3            0          0           0                 0           0   \n",
       "4            0          0           0                 0           0   \n",
       "\n",
       "   Race_Hispanic  Race  Education  \n",
       "0              0   NaN        NaN  \n",
       "1              0   NaN        NaN  \n",
       "2              0   NaN        NaN  \n",
       "3              0   NaN        NaN  \n",
       "4              0   NaN        NaN  \n",
       "\n",
       "[5 rows x 29 columns]"
      ]
     },
     "execution_count": 222,
     "metadata": {},
     "output_type": "execute_result"
    }
   ],
   "source": [
    "df.head()"
   ]
  },
  {
   "cell_type": "code",
   "execution_count": 223,
   "id": "0fa014ba-37d6-477c-a493-8740fa0f2925",
   "metadata": {
    "tags": []
   },
   "outputs": [
    {
     "name": "stdout",
     "output_type": "stream",
     "text": [
      "<class 'pandas.core.frame.DataFrame'>\n",
      "RangeIndex: 62642 entries, 0 to 62641\n",
      "Data columns (total 29 columns):\n",
      " #   Column                   Non-Null Count  Dtype  \n",
      "---  ------                   --------------  -----  \n",
      " 0   timestamp                62642 non-null  object \n",
      " 1   company                  62637 non-null  object \n",
      " 2   level                    62519 non-null  object \n",
      " 3   title                    62642 non-null  object \n",
      " 4   totalyearlycompensation  62642 non-null  int64  \n",
      " 5   location                 62642 non-null  object \n",
      " 6   yearsofexperience        62642 non-null  float64\n",
      " 7   yearsatcompany           62642 non-null  float64\n",
      " 8   tag                      61772 non-null  object \n",
      " 9   basesalary               62642 non-null  int64  \n",
      " 10  stockgrantvalue          62642 non-null  float64\n",
      " 11  bonus                    62642 non-null  float64\n",
      " 12  gender                   43102 non-null  object \n",
      " 13  otherdetails             40134 non-null  object \n",
      " 14  cityid                   62642 non-null  int64  \n",
      " 15  dmaid                    62640 non-null  float64\n",
      " 16  rowNumber                62642 non-null  int64  \n",
      " 17  Masters_Degree           62642 non-null  int64  \n",
      " 18  Bachelors_Degree         62642 non-null  int64  \n",
      " 19  Doctorate_Degree         62642 non-null  int64  \n",
      " 20  Highschool               62642 non-null  int64  \n",
      " 21  Some_College             62642 non-null  int64  \n",
      " 22  Race_Asian               62642 non-null  int64  \n",
      " 23  Race_White               62642 non-null  int64  \n",
      " 24  Race_Two_Or_More         62642 non-null  int64  \n",
      " 25  Race_Black               62642 non-null  int64  \n",
      " 26  Race_Hispanic            62642 non-null  int64  \n",
      " 27  Race                     22427 non-null  object \n",
      " 28  Education                30370 non-null  object \n",
      "dtypes: float64(5), int64(14), object(10)\n",
      "memory usage: 13.9+ MB\n"
     ]
    }
   ],
   "source": [
    "df.info()"
   ]
  },
  {
   "cell_type": "code",
   "execution_count": 224,
   "id": "5f70f8c8-2f31-4177-a5a3-f38455d5cb07",
   "metadata": {
    "tags": []
   },
   "outputs": [
    {
     "data": {
      "text/plain": [
       "timestamp                  61755\n",
       "company                     1631\n",
       "level                       2915\n",
       "title                         15\n",
       "totalyearlycompensation      893\n",
       "location                    1050\n",
       "yearsofexperience             65\n",
       "yearsatcompany                81\n",
       "tag                         3057\n",
       "basesalary                   482\n",
       "stockgrantvalue              612\n",
       "bonus                        335\n",
       "gender                         4\n",
       "otherdetails               12838\n",
       "cityid                      1045\n",
       "dmaid                        149\n",
       "rowNumber                  62642\n",
       "Masters_Degree                 2\n",
       "Bachelors_Degree               2\n",
       "Doctorate_Degree               2\n",
       "Highschool                     2\n",
       "Some_College                   2\n",
       "Race_Asian                     2\n",
       "Race_White                     2\n",
       "Race_Two_Or_More               2\n",
       "Race_Black                     2\n",
       "Race_Hispanic                  2\n",
       "Race                           5\n",
       "Education                      5\n",
       "dtype: int64"
      ]
     },
     "execution_count": 224,
     "metadata": {},
     "output_type": "execute_result"
    }
   ],
   "source": [
    "df.nunique()"
   ]
  },
  {
   "cell_type": "code",
   "execution_count": 484,
   "id": "ea22b23f-ef98-4a2e-95b7-5ecd53b45016",
   "metadata": {
    "tags": []
   },
   "outputs": [
    {
     "data": {
      "text/plain": [
       "timestamp                      0\n",
       "company                        5\n",
       "level                        123\n",
       "title                          0\n",
       "totalyearlycompensation        0\n",
       "location                       0\n",
       "yearsofexperience              0\n",
       "yearsatcompany                 0\n",
       "tag                          870\n",
       "basesalary                     0\n",
       "stockgrantvalue                0\n",
       "bonus                          0\n",
       "gender                     19540\n",
       "otherdetails               22508\n",
       "cityid                         0\n",
       "dmaid                          2\n",
       "rowNumber                      0\n",
       "Masters_Degree                 0\n",
       "Bachelors_Degree               0\n",
       "Doctorate_Degree               0\n",
       "Highschool                     0\n",
       "Some_College                   0\n",
       "Race_Asian                     0\n",
       "Race_White                     0\n",
       "Race_Two_Or_More               0\n",
       "Race_Black                     0\n",
       "Race_Hispanic                  0\n",
       "Race                       40215\n",
       "Education                  32272\n",
       "dtype: int64"
      ]
     },
     "execution_count": 484,
     "metadata": {},
     "output_type": "execute_result"
    }
   ],
   "source": [
    "# Number of null values in each column\n",
    "df.isna().sum()"
   ]
  },
  {
   "cell_type": "markdown",
   "id": "f2d6006a-a0b3-4b06-a342-8e5465384a04",
   "metadata": {},
   "source": [
    "# Drop data with null values"
   ]
  },
  {
   "cell_type": "markdown",
   "id": "ec6cdf6f-66b6-487a-a661-92b1cde54fb6",
   "metadata": {},
   "source": [
    "Dropping the data of the gender, education, company, race, tag, and level columns, cleans up the data in order to look at the relationship of these variables on salaries.  These values cannot be replaced without potentially skewing the data."
   ]
  },
  {
   "cell_type": "code",
   "execution_count": 485,
   "id": "c69d4602-4b79-49d3-9d75-32d578e47806",
   "metadata": {
    "tags": []
   },
   "outputs": [
    {
     "name": "stdout",
     "output_type": "stream",
     "text": [
      "timestamp                  0\n",
      "company                    0\n",
      "level                      0\n",
      "title                      0\n",
      "totalyearlycompensation    0\n",
      "location                   0\n",
      "yearsofexperience          0\n",
      "yearsatcompany             0\n",
      "tag                        0\n",
      "basesalary                 0\n",
      "stockgrantvalue            0\n",
      "bonus                      0\n",
      "gender                     0\n",
      "otherdetails               0\n",
      "cityid                     0\n",
      "dmaid                      0\n",
      "rowNumber                  0\n",
      "Masters_Degree             0\n",
      "Bachelors_Degree           0\n",
      "Doctorate_Degree           0\n",
      "Highschool                 0\n",
      "Some_College               0\n",
      "Race_Asian                 0\n",
      "Race_White                 0\n",
      "Race_Two_Or_More           0\n",
      "Race_Black                 0\n",
      "Race_Hispanic              0\n",
      "Race                       0\n",
      "Education                  0\n",
      "dtype: int64\n"
     ]
    }
   ],
   "source": [
    "# Remove rows with null values in subset columns\n",
    "df = df.dropna(subset=['gender', 'Education', 'company', 'Race', 'tag', 'level'])\n",
    "# Verify removal\n",
    "print(df.isna().sum())"
   ]
  },
  {
   "cell_type": "markdown",
   "id": "8aab9482-a047-447c-93db-11c7b476886a",
   "metadata": {},
   "source": [
    "## Updated Summary Statistics"
   ]
  },
  {
   "cell_type": "code",
   "execution_count": 486,
   "id": "e629c836-44ac-4e7c-a3bc-a754c70b59c5",
   "metadata": {
    "tags": []
   },
   "outputs": [
    {
     "data": {
      "text/plain": [
       "623935"
      ]
     },
     "execution_count": 486,
     "metadata": {},
     "output_type": "execute_result"
    }
   ],
   "source": [
    "df.size"
   ]
  },
  {
   "cell_type": "code",
   "execution_count": 487,
   "id": "e7d1c20d-481c-405f-b622-8125fc069490",
   "metadata": {
    "tags": []
   },
   "outputs": [
    {
     "data": {
      "text/html": [
       "<div>\n",
       "<style scoped>\n",
       "    .dataframe tbody tr th:only-of-type {\n",
       "        vertical-align: middle;\n",
       "    }\n",
       "\n",
       "    .dataframe tbody tr th {\n",
       "        vertical-align: top;\n",
       "    }\n",
       "\n",
       "    .dataframe thead th {\n",
       "        text-align: right;\n",
       "    }\n",
       "</style>\n",
       "<table border=\"1\" class=\"dataframe\">\n",
       "  <thead>\n",
       "    <tr style=\"text-align: right;\">\n",
       "      <th></th>\n",
       "      <th>totalyearlycompensation</th>\n",
       "      <th>yearsofexperience</th>\n",
       "      <th>yearsatcompany</th>\n",
       "      <th>basesalary</th>\n",
       "      <th>stockgrantvalue</th>\n",
       "      <th>bonus</th>\n",
       "      <th>cityid</th>\n",
       "      <th>dmaid</th>\n",
       "      <th>rowNumber</th>\n",
       "      <th>Masters_Degree</th>\n",
       "      <th>Bachelors_Degree</th>\n",
       "      <th>Doctorate_Degree</th>\n",
       "      <th>Highschool</th>\n",
       "      <th>Some_College</th>\n",
       "      <th>Race_Asian</th>\n",
       "      <th>Race_White</th>\n",
       "      <th>Race_Two_Or_More</th>\n",
       "      <th>Race_Black</th>\n",
       "      <th>Race_Hispanic</th>\n",
       "    </tr>\n",
       "  </thead>\n",
       "  <tbody>\n",
       "    <tr>\n",
       "      <th>count</th>\n",
       "      <td>2.151500e+04</td>\n",
       "      <td>21515.000000</td>\n",
       "      <td>21515.000000</td>\n",
       "      <td>21515.000000</td>\n",
       "      <td>21515.000000</td>\n",
       "      <td>21515.000000</td>\n",
       "      <td>21515.000000</td>\n",
       "      <td>21515.000000</td>\n",
       "      <td>21515.000000</td>\n",
       "      <td>21515.000000</td>\n",
       "      <td>21515.000000</td>\n",
       "      <td>21515.000000</td>\n",
       "      <td>21515.000000</td>\n",
       "      <td>21515.000000</td>\n",
       "      <td>21515.000000</td>\n",
       "      <td>21515.000000</td>\n",
       "      <td>21515.000000</td>\n",
       "      <td>21515.000000</td>\n",
       "      <td>21515.000000</td>\n",
       "    </tr>\n",
       "    <tr>\n",
       "      <th>mean</th>\n",
       "      <td>1.979508e+05</td>\n",
       "      <td>7.127167</td>\n",
       "      <td>2.706995</td>\n",
       "      <td>133894.538694</td>\n",
       "      <td>44974.392424</td>\n",
       "      <td>18401.301418</td>\n",
       "      <td>10177.354218</td>\n",
       "      <td>561.242436</td>\n",
       "      <td>59207.188891</td>\n",
       "      <td>0.421055</td>\n",
       "      <td>0.506577</td>\n",
       "      <td>0.042854</td>\n",
       "      <td>0.013944</td>\n",
       "      <td>0.015710</td>\n",
       "      <td>0.528887</td>\n",
       "      <td>0.355612</td>\n",
       "      <td>0.035417</td>\n",
       "      <td>0.030769</td>\n",
       "      <td>0.049361</td>\n",
       "    </tr>\n",
       "    <tr>\n",
       "      <th>std</th>\n",
       "      <td>1.331313e+05</td>\n",
       "      <td>5.848876</td>\n",
       "      <td>3.328438</td>\n",
       "      <td>57231.645682</td>\n",
       "      <td>72523.732291</td>\n",
       "      <td>24802.564405</td>\n",
       "      <td>7677.552448</td>\n",
       "      <td>315.744730</td>\n",
       "      <td>14561.633489</td>\n",
       "      <td>0.493740</td>\n",
       "      <td>0.499968</td>\n",
       "      <td>0.202532</td>\n",
       "      <td>0.117260</td>\n",
       "      <td>0.124354</td>\n",
       "      <td>0.499176</td>\n",
       "      <td>0.478710</td>\n",
       "      <td>0.184836</td>\n",
       "      <td>0.172696</td>\n",
       "      <td>0.216625</td>\n",
       "    </tr>\n",
       "    <tr>\n",
       "      <th>min</th>\n",
       "      <td>1.000000e+04</td>\n",
       "      <td>0.000000</td>\n",
       "      <td>0.000000</td>\n",
       "      <td>4000.000000</td>\n",
       "      <td>0.000000</td>\n",
       "      <td>0.000000</td>\n",
       "      <td>10.000000</td>\n",
       "      <td>0.000000</td>\n",
       "      <td>21208.000000</td>\n",
       "      <td>0.000000</td>\n",
       "      <td>0.000000</td>\n",
       "      <td>0.000000</td>\n",
       "      <td>0.000000</td>\n",
       "      <td>0.000000</td>\n",
       "      <td>0.000000</td>\n",
       "      <td>0.000000</td>\n",
       "      <td>0.000000</td>\n",
       "      <td>0.000000</td>\n",
       "      <td>0.000000</td>\n",
       "    </tr>\n",
       "    <tr>\n",
       "      <th>25%</th>\n",
       "      <td>1.190000e+05</td>\n",
       "      <td>3.000000</td>\n",
       "      <td>0.000000</td>\n",
       "      <td>100000.000000</td>\n",
       "      <td>0.000000</td>\n",
       "      <td>3000.000000</td>\n",
       "      <td>7322.000000</td>\n",
       "      <td>501.000000</td>\n",
       "      <td>47070.500000</td>\n",
       "      <td>0.000000</td>\n",
       "      <td>0.000000</td>\n",
       "      <td>0.000000</td>\n",
       "      <td>0.000000</td>\n",
       "      <td>0.000000</td>\n",
       "      <td>0.000000</td>\n",
       "      <td>0.000000</td>\n",
       "      <td>0.000000</td>\n",
       "      <td>0.000000</td>\n",
       "      <td>0.000000</td>\n",
       "    </tr>\n",
       "    <tr>\n",
       "      <th>50%</th>\n",
       "      <td>1.740000e+05</td>\n",
       "      <td>6.000000</td>\n",
       "      <td>2.000000</td>\n",
       "      <td>135000.000000</td>\n",
       "      <td>20000.000000</td>\n",
       "      <td>13000.000000</td>\n",
       "      <td>8198.000000</td>\n",
       "      <td>751.000000</td>\n",
       "      <td>59849.000000</td>\n",
       "      <td>0.000000</td>\n",
       "      <td>1.000000</td>\n",
       "      <td>0.000000</td>\n",
       "      <td>0.000000</td>\n",
       "      <td>0.000000</td>\n",
       "      <td>1.000000</td>\n",
       "      <td>0.000000</td>\n",
       "      <td>0.000000</td>\n",
       "      <td>0.000000</td>\n",
       "      <td>0.000000</td>\n",
       "    </tr>\n",
       "    <tr>\n",
       "      <th>75%</th>\n",
       "      <td>2.450000e+05</td>\n",
       "      <td>10.000000</td>\n",
       "      <td>4.000000</td>\n",
       "      <td>165000.000000</td>\n",
       "      <td>55000.000000</td>\n",
       "      <td>25000.000000</td>\n",
       "      <td>11521.000000</td>\n",
       "      <td>807.000000</td>\n",
       "      <td>71599.000000</td>\n",
       "      <td>1.000000</td>\n",
       "      <td>1.000000</td>\n",
       "      <td>0.000000</td>\n",
       "      <td>0.000000</td>\n",
       "      <td>0.000000</td>\n",
       "      <td>1.000000</td>\n",
       "      <td>1.000000</td>\n",
       "      <td>0.000000</td>\n",
       "      <td>0.000000</td>\n",
       "      <td>0.000000</td>\n",
       "    </tr>\n",
       "    <tr>\n",
       "      <th>max</th>\n",
       "      <td>4.980000e+06</td>\n",
       "      <td>45.000000</td>\n",
       "      <td>40.000000</td>\n",
       "      <td>900000.000000</td>\n",
       "      <td>954000.000000</td>\n",
       "      <td>900000.000000</td>\n",
       "      <td>47926.000000</td>\n",
       "      <td>881.000000</td>\n",
       "      <td>83875.000000</td>\n",
       "      <td>1.000000</td>\n",
       "      <td>1.000000</td>\n",
       "      <td>1.000000</td>\n",
       "      <td>1.000000</td>\n",
       "      <td>1.000000</td>\n",
       "      <td>1.000000</td>\n",
       "      <td>1.000000</td>\n",
       "      <td>1.000000</td>\n",
       "      <td>1.000000</td>\n",
       "      <td>1.000000</td>\n",
       "    </tr>\n",
       "  </tbody>\n",
       "</table>\n",
       "</div>"
      ],
      "text/plain": [
       "       totalyearlycompensation  yearsofexperience  yearsatcompany  \\\n",
       "count             2.151500e+04       21515.000000    21515.000000   \n",
       "mean              1.979508e+05           7.127167        2.706995   \n",
       "std               1.331313e+05           5.848876        3.328438   \n",
       "min               1.000000e+04           0.000000        0.000000   \n",
       "25%               1.190000e+05           3.000000        0.000000   \n",
       "50%               1.740000e+05           6.000000        2.000000   \n",
       "75%               2.450000e+05          10.000000        4.000000   \n",
       "max               4.980000e+06          45.000000       40.000000   \n",
       "\n",
       "          basesalary  stockgrantvalue          bonus        cityid  \\\n",
       "count   21515.000000     21515.000000   21515.000000  21515.000000   \n",
       "mean   133894.538694     44974.392424   18401.301418  10177.354218   \n",
       "std     57231.645682     72523.732291   24802.564405   7677.552448   \n",
       "min      4000.000000         0.000000       0.000000     10.000000   \n",
       "25%    100000.000000         0.000000    3000.000000   7322.000000   \n",
       "50%    135000.000000     20000.000000   13000.000000   8198.000000   \n",
       "75%    165000.000000     55000.000000   25000.000000  11521.000000   \n",
       "max    900000.000000    954000.000000  900000.000000  47926.000000   \n",
       "\n",
       "              dmaid     rowNumber  Masters_Degree  Bachelors_Degree  \\\n",
       "count  21515.000000  21515.000000    21515.000000      21515.000000   \n",
       "mean     561.242436  59207.188891        0.421055          0.506577   \n",
       "std      315.744730  14561.633489        0.493740          0.499968   \n",
       "min        0.000000  21208.000000        0.000000          0.000000   \n",
       "25%      501.000000  47070.500000        0.000000          0.000000   \n",
       "50%      751.000000  59849.000000        0.000000          1.000000   \n",
       "75%      807.000000  71599.000000        1.000000          1.000000   \n",
       "max      881.000000  83875.000000        1.000000          1.000000   \n",
       "\n",
       "       Doctorate_Degree    Highschool  Some_College    Race_Asian  \\\n",
       "count      21515.000000  21515.000000  21515.000000  21515.000000   \n",
       "mean           0.042854      0.013944      0.015710      0.528887   \n",
       "std            0.202532      0.117260      0.124354      0.499176   \n",
       "min            0.000000      0.000000      0.000000      0.000000   \n",
       "25%            0.000000      0.000000      0.000000      0.000000   \n",
       "50%            0.000000      0.000000      0.000000      1.000000   \n",
       "75%            0.000000      0.000000      0.000000      1.000000   \n",
       "max            1.000000      1.000000      1.000000      1.000000   \n",
       "\n",
       "         Race_White  Race_Two_Or_More    Race_Black  Race_Hispanic  \n",
       "count  21515.000000      21515.000000  21515.000000   21515.000000  \n",
       "mean       0.355612          0.035417      0.030769       0.049361  \n",
       "std        0.478710          0.184836      0.172696       0.216625  \n",
       "min        0.000000          0.000000      0.000000       0.000000  \n",
       "25%        0.000000          0.000000      0.000000       0.000000  \n",
       "50%        0.000000          0.000000      0.000000       0.000000  \n",
       "75%        1.000000          0.000000      0.000000       0.000000  \n",
       "max        1.000000          1.000000      1.000000       1.000000  "
      ]
     },
     "execution_count": 487,
     "metadata": {},
     "output_type": "execute_result"
    }
   ],
   "source": [
    "df.describe()"
   ]
  },
  {
   "cell_type": "markdown",
   "id": "4116c156-91e8-4553-9a6d-e319803480ce",
   "metadata": {},
   "source": [
    "## Subsetting dataframe to remove redundant columns and display the first five rows"
   ]
  },
  {
   "cell_type": "code",
   "execution_count": 488,
   "id": "d63f22ce-e75c-41de-b41c-6eb8870f1660",
   "metadata": {
    "tags": []
   },
   "outputs": [
    {
     "data": {
      "text/html": [
       "<div>\n",
       "<style scoped>\n",
       "    .dataframe tbody tr th:only-of-type {\n",
       "        vertical-align: middle;\n",
       "    }\n",
       "\n",
       "    .dataframe tbody tr th {\n",
       "        vertical-align: top;\n",
       "    }\n",
       "\n",
       "    .dataframe thead th {\n",
       "        text-align: right;\n",
       "    }\n",
       "</style>\n",
       "<table border=\"1\" class=\"dataframe\">\n",
       "  <thead>\n",
       "    <tr style=\"text-align: right;\">\n",
       "      <th></th>\n",
       "      <th>totalyearlycompensation</th>\n",
       "      <th>basesalary</th>\n",
       "      <th>bonus</th>\n",
       "      <th>company</th>\n",
       "      <th>cityid</th>\n",
       "      <th>location</th>\n",
       "      <th>level</th>\n",
       "      <th>title</th>\n",
       "      <th>tag</th>\n",
       "      <th>yearsofexperience</th>\n",
       "      <th>yearsatcompany</th>\n",
       "      <th>stockgrantvalue</th>\n",
       "      <th>dmaid</th>\n",
       "      <th>rowNumber</th>\n",
       "      <th>Race</th>\n",
       "      <th>Education</th>\n",
       "      <th>gender</th>\n",
       "    </tr>\n",
       "  </thead>\n",
       "  <tbody>\n",
       "    <tr>\n",
       "      <th>15710</th>\n",
       "      <td>400000</td>\n",
       "      <td>210000</td>\n",
       "      <td>45000.0</td>\n",
       "      <td>Google</td>\n",
       "      <td>7472</td>\n",
       "      <td>Sunnyvale, CA</td>\n",
       "      <td>L6</td>\n",
       "      <td>Software Engineer</td>\n",
       "      <td>Distributed Systems (Back-End)</td>\n",
       "      <td>5.0</td>\n",
       "      <td>5.0</td>\n",
       "      <td>145000.0</td>\n",
       "      <td>807.0</td>\n",
       "      <td>21208</td>\n",
       "      <td>Asian</td>\n",
       "      <td>PhD</td>\n",
       "      <td>Male</td>\n",
       "    </tr>\n",
       "    <tr>\n",
       "      <th>23532</th>\n",
       "      <td>136000</td>\n",
       "      <td>124000</td>\n",
       "      <td>11000.0</td>\n",
       "      <td>Microsoft</td>\n",
       "      <td>11521</td>\n",
       "      <td>Redmond, WA</td>\n",
       "      <td>61</td>\n",
       "      <td>Software Engineer</td>\n",
       "      <td>DevOps</td>\n",
       "      <td>3.0</td>\n",
       "      <td>2.0</td>\n",
       "      <td>1000.0</td>\n",
       "      <td>819.0</td>\n",
       "      <td>32237</td>\n",
       "      <td>Two Or More</td>\n",
       "      <td>Bachelor's Degree</td>\n",
       "      <td>Male</td>\n",
       "    </tr>\n",
       "    <tr>\n",
       "      <th>23533</th>\n",
       "      <td>337000</td>\n",
       "      <td>177000</td>\n",
       "      <td>36000.0</td>\n",
       "      <td>Google</td>\n",
       "      <td>7413</td>\n",
       "      <td>San Bruno, CA</td>\n",
       "      <td>L5</td>\n",
       "      <td>Software Engineer</td>\n",
       "      <td>Full Stack</td>\n",
       "      <td>6.0</td>\n",
       "      <td>6.0</td>\n",
       "      <td>125000.0</td>\n",
       "      <td>807.0</td>\n",
       "      <td>32239</td>\n",
       "      <td>Asian</td>\n",
       "      <td>Bachelor's Degree</td>\n",
       "      <td>Male</td>\n",
       "    </tr>\n",
       "    <tr>\n",
       "      <th>23534</th>\n",
       "      <td>222000</td>\n",
       "      <td>164000</td>\n",
       "      <td>20000.0</td>\n",
       "      <td>Microsoft</td>\n",
       "      <td>11527</td>\n",
       "      <td>Seattle, WA</td>\n",
       "      <td>62</td>\n",
       "      <td>Software Engineer</td>\n",
       "      <td>API Development (Back-End)</td>\n",
       "      <td>4.0</td>\n",
       "      <td>4.0</td>\n",
       "      <td>38000.0</td>\n",
       "      <td>819.0</td>\n",
       "      <td>32240</td>\n",
       "      <td>Asian</td>\n",
       "      <td>Master's Degree</td>\n",
       "      <td>Male</td>\n",
       "    </tr>\n",
       "    <tr>\n",
       "      <th>23535</th>\n",
       "      <td>187000</td>\n",
       "      <td>165000</td>\n",
       "      <td>0.0</td>\n",
       "      <td>Blend</td>\n",
       "      <td>7419</td>\n",
       "      <td>San Francisco, CA</td>\n",
       "      <td>IC3</td>\n",
       "      <td>Software Engineer</td>\n",
       "      <td>Full Stack</td>\n",
       "      <td>5.0</td>\n",
       "      <td>0.0</td>\n",
       "      <td>22000.0</td>\n",
       "      <td>807.0</td>\n",
       "      <td>32241</td>\n",
       "      <td>White</td>\n",
       "      <td>Bachelor's Degree</td>\n",
       "      <td>Male</td>\n",
       "    </tr>\n",
       "    <tr>\n",
       "      <th>23537</th>\n",
       "      <td>310000</td>\n",
       "      <td>160000</td>\n",
       "      <td>0.0</td>\n",
       "      <td>Amazon</td>\n",
       "      <td>11527</td>\n",
       "      <td>Seattle, WA</td>\n",
       "      <td>L6</td>\n",
       "      <td>Software Engineer</td>\n",
       "      <td>ML / AI</td>\n",
       "      <td>15.0</td>\n",
       "      <td>3.0</td>\n",
       "      <td>150000.0</td>\n",
       "      <td>819.0</td>\n",
       "      <td>32243</td>\n",
       "      <td>Asian</td>\n",
       "      <td>Bachelor's Degree</td>\n",
       "      <td>Male</td>\n",
       "    </tr>\n",
       "    <tr>\n",
       "      <th>23538</th>\n",
       "      <td>113000</td>\n",
       "      <td>103000</td>\n",
       "      <td>10000.0</td>\n",
       "      <td>Chevron</td>\n",
       "      <td>11109</td>\n",
       "      <td>Houston, TX</td>\n",
       "      <td>PSG 20</td>\n",
       "      <td>Software Engineer</td>\n",
       "      <td>DevOps</td>\n",
       "      <td>3.0</td>\n",
       "      <td>3.0</td>\n",
       "      <td>0.0</td>\n",
       "      <td>618.0</td>\n",
       "      <td>32244</td>\n",
       "      <td>Hispanic</td>\n",
       "      <td>Bachelor's Degree</td>\n",
       "      <td>Male</td>\n",
       "    </tr>\n",
       "    <tr>\n",
       "      <th>23540</th>\n",
       "      <td>620000</td>\n",
       "      <td>160000</td>\n",
       "      <td>0.0</td>\n",
       "      <td>Amazon</td>\n",
       "      <td>11527</td>\n",
       "      <td>Seattle, WA</td>\n",
       "      <td>L7</td>\n",
       "      <td>Software Engineering Manager</td>\n",
       "      <td>Full Stack</td>\n",
       "      <td>19.0</td>\n",
       "      <td>7.0</td>\n",
       "      <td>460000.0</td>\n",
       "      <td>819.0</td>\n",
       "      <td>32247</td>\n",
       "      <td>Asian</td>\n",
       "      <td>Bachelor's Degree</td>\n",
       "      <td>Male</td>\n",
       "    </tr>\n",
       "    <tr>\n",
       "      <th>23541</th>\n",
       "      <td>98000</td>\n",
       "      <td>78000</td>\n",
       "      <td>0.0</td>\n",
       "      <td>Shopify</td>\n",
       "      <td>1206</td>\n",
       "      <td>Toronto, ON, Canada</td>\n",
       "      <td>L6</td>\n",
       "      <td>Software Engineer</td>\n",
       "      <td>Web Development (Front-End)</td>\n",
       "      <td>9.0</td>\n",
       "      <td>4.0</td>\n",
       "      <td>20000.0</td>\n",
       "      <td>0.0</td>\n",
       "      <td>32248</td>\n",
       "      <td>Asian</td>\n",
       "      <td>Bachelor's Degree</td>\n",
       "      <td>Male</td>\n",
       "    </tr>\n",
       "    <tr>\n",
       "      <th>23543</th>\n",
       "      <td>180000</td>\n",
       "      <td>130000</td>\n",
       "      <td>20000.0</td>\n",
       "      <td>Apple</td>\n",
       "      <td>1320</td>\n",
       "      <td>Vancouver, BC, Canada</td>\n",
       "      <td>ICT3</td>\n",
       "      <td>Software Engineer</td>\n",
       "      <td>ML / AI</td>\n",
       "      <td>1.0</td>\n",
       "      <td>1.0</td>\n",
       "      <td>30000.0</td>\n",
       "      <td>0.0</td>\n",
       "      <td>32250</td>\n",
       "      <td>Asian</td>\n",
       "      <td>Bachelor's Degree</td>\n",
       "      <td>Male</td>\n",
       "    </tr>\n",
       "    <tr>\n",
       "      <th>23544</th>\n",
       "      <td>212000</td>\n",
       "      <td>140000</td>\n",
       "      <td>10000.0</td>\n",
       "      <td>Square</td>\n",
       "      <td>7419</td>\n",
       "      <td>San Francisco, CA</td>\n",
       "      <td>Level 4</td>\n",
       "      <td>Software Engineer</td>\n",
       "      <td>Full Stack</td>\n",
       "      <td>5.0</td>\n",
       "      <td>1.0</td>\n",
       "      <td>62000.0</td>\n",
       "      <td>807.0</td>\n",
       "      <td>32251</td>\n",
       "      <td>Black</td>\n",
       "      <td>Some College</td>\n",
       "      <td>Male</td>\n",
       "    </tr>\n",
       "    <tr>\n",
       "      <th>23545</th>\n",
       "      <td>210000</td>\n",
       "      <td>150000</td>\n",
       "      <td>0.0</td>\n",
       "      <td>Amazon</td>\n",
       "      <td>11527</td>\n",
       "      <td>Seattle, WA</td>\n",
       "      <td>L5</td>\n",
       "      <td>Software Engineer</td>\n",
       "      <td>Site Reliability (SRE)</td>\n",
       "      <td>4.0</td>\n",
       "      <td>1.0</td>\n",
       "      <td>60000.0</td>\n",
       "      <td>819.0</td>\n",
       "      <td>32252</td>\n",
       "      <td>Hispanic</td>\n",
       "      <td>Highschool</td>\n",
       "      <td>Male</td>\n",
       "    </tr>\n",
       "    <tr>\n",
       "      <th>23546</th>\n",
       "      <td>68000</td>\n",
       "      <td>45000</td>\n",
       "      <td>7000.0</td>\n",
       "      <td>Salesforce</td>\n",
       "      <td>4058</td>\n",
       "      <td>Bangalore, KA, India</td>\n",
       "      <td>Senior MTS</td>\n",
       "      <td>Software Engineer</td>\n",
       "      <td>Site Reliability (SRE)</td>\n",
       "      <td>8.0</td>\n",
       "      <td>1.0</td>\n",
       "      <td>16000.0</td>\n",
       "      <td>0.0</td>\n",
       "      <td>32254</td>\n",
       "      <td>Asian</td>\n",
       "      <td>Master's Degree</td>\n",
       "      <td>Male</td>\n",
       "    </tr>\n",
       "    <tr>\n",
       "      <th>23548</th>\n",
       "      <td>142000</td>\n",
       "      <td>112000</td>\n",
       "      <td>26000.0</td>\n",
       "      <td>Amazon</td>\n",
       "      <td>7053</td>\n",
       "      <td>Tempe, AZ</td>\n",
       "      <td>L4</td>\n",
       "      <td>Software Engineer</td>\n",
       "      <td>Full Stack</td>\n",
       "      <td>0.0</td>\n",
       "      <td>0.0</td>\n",
       "      <td>4000.0</td>\n",
       "      <td>753.0</td>\n",
       "      <td>32257</td>\n",
       "      <td>Asian</td>\n",
       "      <td>Master's Degree</td>\n",
       "      <td>Male</td>\n",
       "    </tr>\n",
       "    <tr>\n",
       "      <th>23549</th>\n",
       "      <td>129000</td>\n",
       "      <td>114000</td>\n",
       "      <td>0.0</td>\n",
       "      <td>Intel</td>\n",
       "      <td>7434</td>\n",
       "      <td>Santa Clara, CA</td>\n",
       "      <td>Grade 5</td>\n",
       "      <td>Software Engineer</td>\n",
       "      <td>Performance</td>\n",
       "      <td>6.0</td>\n",
       "      <td>4.0</td>\n",
       "      <td>15000.0</td>\n",
       "      <td>807.0</td>\n",
       "      <td>32259</td>\n",
       "      <td>Two Or More</td>\n",
       "      <td>Master's Degree</td>\n",
       "      <td>Male</td>\n",
       "    </tr>\n",
       "    <tr>\n",
       "      <th>23550</th>\n",
       "      <td>242000</td>\n",
       "      <td>167000</td>\n",
       "      <td>0.0</td>\n",
       "      <td>Facebook</td>\n",
       "      <td>7300</td>\n",
       "      <td>Menlo Park, CA</td>\n",
       "      <td>E4</td>\n",
       "      <td>Software Engineer</td>\n",
       "      <td>ML / AI</td>\n",
       "      <td>2.0</td>\n",
       "      <td>2.0</td>\n",
       "      <td>75000.0</td>\n",
       "      <td>807.0</td>\n",
       "      <td>32260</td>\n",
       "      <td>White</td>\n",
       "      <td>Master's Degree</td>\n",
       "      <td>Male</td>\n",
       "    </tr>\n",
       "    <tr>\n",
       "      <th>23552</th>\n",
       "      <td>215000</td>\n",
       "      <td>155000</td>\n",
       "      <td>15000.0</td>\n",
       "      <td>PayPal</td>\n",
       "      <td>10965</td>\n",
       "      <td>Austin, TX</td>\n",
       "      <td>T25</td>\n",
       "      <td>Software Engineer</td>\n",
       "      <td>iOS</td>\n",
       "      <td>6.0</td>\n",
       "      <td>0.0</td>\n",
       "      <td>45000.0</td>\n",
       "      <td>635.0</td>\n",
       "      <td>32264</td>\n",
       "      <td>Asian</td>\n",
       "      <td>Master's Degree</td>\n",
       "      <td>Male</td>\n",
       "    </tr>\n",
       "    <tr>\n",
       "      <th>23553</th>\n",
       "      <td>365000</td>\n",
       "      <td>187000</td>\n",
       "      <td>38000.0</td>\n",
       "      <td>Twitter</td>\n",
       "      <td>10182</td>\n",
       "      <td>New York, NY</td>\n",
       "      <td>Senior SWE</td>\n",
       "      <td>Software Engineer</td>\n",
       "      <td>iOS</td>\n",
       "      <td>10.0</td>\n",
       "      <td>6.0</td>\n",
       "      <td>140000.0</td>\n",
       "      <td>501.0</td>\n",
       "      <td>32265</td>\n",
       "      <td>White</td>\n",
       "      <td>Highschool</td>\n",
       "      <td>Male</td>\n",
       "    </tr>\n",
       "    <tr>\n",
       "      <th>23554</th>\n",
       "      <td>135000</td>\n",
       "      <td>110000</td>\n",
       "      <td>10000.0</td>\n",
       "      <td>Microsoft</td>\n",
       "      <td>11527</td>\n",
       "      <td>Seattle, WA</td>\n",
       "      <td>59</td>\n",
       "      <td>Software Engineer</td>\n",
       "      <td>Networking</td>\n",
       "      <td>1.0</td>\n",
       "      <td>0.0</td>\n",
       "      <td>14000.0</td>\n",
       "      <td>819.0</td>\n",
       "      <td>32268</td>\n",
       "      <td>Hispanic</td>\n",
       "      <td>Bachelor's Degree</td>\n",
       "      <td>Female</td>\n",
       "    </tr>\n",
       "    <tr>\n",
       "      <th>23555</th>\n",
       "      <td>173000</td>\n",
       "      <td>153000</td>\n",
       "      <td>10000.0</td>\n",
       "      <td>Microsoft</td>\n",
       "      <td>11521</td>\n",
       "      <td>Redmond, WA</td>\n",
       "      <td>62</td>\n",
       "      <td>Software Engineer</td>\n",
       "      <td>ML / AI</td>\n",
       "      <td>10.0</td>\n",
       "      <td>2.0</td>\n",
       "      <td>9000.0</td>\n",
       "      <td>819.0</td>\n",
       "      <td>32269</td>\n",
       "      <td>Asian</td>\n",
       "      <td>Bachelor's Degree</td>\n",
       "      <td>Male</td>\n",
       "    </tr>\n",
       "  </tbody>\n",
       "</table>\n",
       "</div>"
      ],
      "text/plain": [
       "       totalyearlycompensation  basesalary    bonus     company  cityid  \\\n",
       "15710                   400000      210000  45000.0      Google    7472   \n",
       "23532                   136000      124000  11000.0   Microsoft   11521   \n",
       "23533                   337000      177000  36000.0      Google    7413   \n",
       "23534                   222000      164000  20000.0   Microsoft   11527   \n",
       "23535                   187000      165000      0.0       Blend    7419   \n",
       "23537                   310000      160000      0.0      Amazon   11527   \n",
       "23538                   113000      103000  10000.0     Chevron   11109   \n",
       "23540                   620000      160000      0.0      Amazon   11527   \n",
       "23541                    98000       78000      0.0     Shopify    1206   \n",
       "23543                   180000      130000  20000.0       Apple    1320   \n",
       "23544                   212000      140000  10000.0      Square    7419   \n",
       "23545                   210000      150000      0.0      Amazon   11527   \n",
       "23546                    68000       45000   7000.0  Salesforce    4058   \n",
       "23548                   142000      112000  26000.0      Amazon    7053   \n",
       "23549                   129000      114000      0.0       Intel    7434   \n",
       "23550                   242000      167000      0.0    Facebook    7300   \n",
       "23552                   215000      155000  15000.0      PayPal   10965   \n",
       "23553                   365000      187000  38000.0     Twitter   10182   \n",
       "23554                   135000      110000  10000.0   Microsoft   11527   \n",
       "23555                   173000      153000  10000.0   Microsoft   11521   \n",
       "\n",
       "                    location       level                         title  \\\n",
       "15710          Sunnyvale, CA          L6             Software Engineer   \n",
       "23532            Redmond, WA          61             Software Engineer   \n",
       "23533          San Bruno, CA          L5             Software Engineer   \n",
       "23534            Seattle, WA          62             Software Engineer   \n",
       "23535      San Francisco, CA         IC3             Software Engineer   \n",
       "23537            Seattle, WA          L6             Software Engineer   \n",
       "23538            Houston, TX      PSG 20             Software Engineer   \n",
       "23540            Seattle, WA          L7  Software Engineering Manager   \n",
       "23541    Toronto, ON, Canada          L6             Software Engineer   \n",
       "23543  Vancouver, BC, Canada        ICT3             Software Engineer   \n",
       "23544      San Francisco, CA     Level 4             Software Engineer   \n",
       "23545            Seattle, WA          L5             Software Engineer   \n",
       "23546   Bangalore, KA, India  Senior MTS             Software Engineer   \n",
       "23548              Tempe, AZ          L4             Software Engineer   \n",
       "23549        Santa Clara, CA     Grade 5             Software Engineer   \n",
       "23550         Menlo Park, CA          E4             Software Engineer   \n",
       "23552             Austin, TX         T25             Software Engineer   \n",
       "23553           New York, NY  Senior SWE             Software Engineer   \n",
       "23554            Seattle, WA          59             Software Engineer   \n",
       "23555            Redmond, WA          62             Software Engineer   \n",
       "\n",
       "                                  tag  yearsofexperience  yearsatcompany  \\\n",
       "15710  Distributed Systems (Back-End)                5.0             5.0   \n",
       "23532                          DevOps                3.0             2.0   \n",
       "23533                      Full Stack                6.0             6.0   \n",
       "23534      API Development (Back-End)                4.0             4.0   \n",
       "23535                      Full Stack                5.0             0.0   \n",
       "23537                         ML / AI               15.0             3.0   \n",
       "23538                          DevOps                3.0             3.0   \n",
       "23540                      Full Stack               19.0             7.0   \n",
       "23541     Web Development (Front-End)                9.0             4.0   \n",
       "23543                         ML / AI                1.0             1.0   \n",
       "23544                      Full Stack                5.0             1.0   \n",
       "23545          Site Reliability (SRE)                4.0             1.0   \n",
       "23546          Site Reliability (SRE)                8.0             1.0   \n",
       "23548                      Full Stack                0.0             0.0   \n",
       "23549                     Performance                6.0             4.0   \n",
       "23550                         ML / AI                2.0             2.0   \n",
       "23552                             iOS                6.0             0.0   \n",
       "23553                             iOS               10.0             6.0   \n",
       "23554                      Networking                1.0             0.0   \n",
       "23555                         ML / AI               10.0             2.0   \n",
       "\n",
       "       stockgrantvalue  dmaid  rowNumber         Race          Education  \\\n",
       "15710         145000.0  807.0      21208        Asian                PhD   \n",
       "23532           1000.0  819.0      32237  Two Or More  Bachelor's Degree   \n",
       "23533         125000.0  807.0      32239        Asian  Bachelor's Degree   \n",
       "23534          38000.0  819.0      32240        Asian    Master's Degree   \n",
       "23535          22000.0  807.0      32241        White  Bachelor's Degree   \n",
       "23537         150000.0  819.0      32243        Asian  Bachelor's Degree   \n",
       "23538              0.0  618.0      32244     Hispanic  Bachelor's Degree   \n",
       "23540         460000.0  819.0      32247        Asian  Bachelor's Degree   \n",
       "23541          20000.0    0.0      32248        Asian  Bachelor's Degree   \n",
       "23543          30000.0    0.0      32250        Asian  Bachelor's Degree   \n",
       "23544          62000.0  807.0      32251        Black       Some College   \n",
       "23545          60000.0  819.0      32252     Hispanic         Highschool   \n",
       "23546          16000.0    0.0      32254        Asian    Master's Degree   \n",
       "23548           4000.0  753.0      32257        Asian    Master's Degree   \n",
       "23549          15000.0  807.0      32259  Two Or More    Master's Degree   \n",
       "23550          75000.0  807.0      32260        White    Master's Degree   \n",
       "23552          45000.0  635.0      32264        Asian    Master's Degree   \n",
       "23553         140000.0  501.0      32265        White         Highschool   \n",
       "23554          14000.0  819.0      32268     Hispanic  Bachelor's Degree   \n",
       "23555           9000.0  819.0      32269        Asian  Bachelor's Degree   \n",
       "\n",
       "       gender  \n",
       "15710    Male  \n",
       "23532    Male  \n",
       "23533    Male  \n",
       "23534    Male  \n",
       "23535    Male  \n",
       "23537    Male  \n",
       "23538    Male  \n",
       "23540    Male  \n",
       "23541    Male  \n",
       "23543    Male  \n",
       "23544    Male  \n",
       "23545    Male  \n",
       "23546    Male  \n",
       "23548    Male  \n",
       "23549    Male  \n",
       "23550    Male  \n",
       "23552    Male  \n",
       "23553    Male  \n",
       "23554  Female  \n",
       "23555    Male  "
      ]
     },
     "execution_count": 488,
     "metadata": {},
     "output_type": "execute_result"
    }
   ],
   "source": [
    "df = df[['totalyearlycompensation', 'basesalary', 'bonus', 'company', 'cityid', 'location', 'level', 'title', 'tag', 'yearsofexperience',\n",
    "        'yearsatcompany', 'stockgrantvalue', 'dmaid', 'rowNumber', 'Race', 'Education', 'gender']]\n",
    "df.head()"
   ]
  },
  {
   "cell_type": "markdown",
   "id": "6cb16bc8-15ae-4104-9474-4fa715709875",
   "metadata": {},
   "source": [
    "## Method to split the location column into city and state columns.\n",
    "\n",
    "Locations with more than 2 strings delimited by a comma will be set to null values.  These locations correspond to locations outside of the United States.\n",
    "\n",
    "Limiting our scope of the data to within the U.S. will increase the accuracy and usefulness of our model, as well as eliminate some outliers in the data."
   ]
  },
  {
   "cell_type": "code",
   "execution_count": 489,
   "id": "cd639cdd-f887-4fb6-94d6-75d1d1951cf3",
   "metadata": {
    "tags": []
   },
   "outputs": [
    {
     "data": {
      "text/html": [
       "<div>\n",
       "<style scoped>\n",
       "    .dataframe tbody tr th:only-of-type {\n",
       "        vertical-align: middle;\n",
       "    }\n",
       "\n",
       "    .dataframe tbody tr th {\n",
       "        vertical-align: top;\n",
       "    }\n",
       "\n",
       "    .dataframe thead th {\n",
       "        text-align: right;\n",
       "    }\n",
       "</style>\n",
       "<table border=\"1\" class=\"dataframe\">\n",
       "  <thead>\n",
       "    <tr style=\"text-align: right;\">\n",
       "      <th></th>\n",
       "      <th>totalyearlycompensation</th>\n",
       "      <th>basesalary</th>\n",
       "      <th>bonus</th>\n",
       "      <th>company</th>\n",
       "      <th>cityid</th>\n",
       "      <th>location</th>\n",
       "      <th>level</th>\n",
       "      <th>title</th>\n",
       "      <th>tag</th>\n",
       "      <th>yearsofexperience</th>\n",
       "      <th>yearsatcompany</th>\n",
       "      <th>stockgrantvalue</th>\n",
       "      <th>dmaid</th>\n",
       "      <th>rowNumber</th>\n",
       "      <th>Race</th>\n",
       "      <th>Education</th>\n",
       "      <th>gender</th>\n",
       "      <th>City</th>\n",
       "      <th>State</th>\n",
       "    </tr>\n",
       "  </thead>\n",
       "  <tbody>\n",
       "    <tr>\n",
       "      <th>15710</th>\n",
       "      <td>400000</td>\n",
       "      <td>210000</td>\n",
       "      <td>45000.0</td>\n",
       "      <td>Google</td>\n",
       "      <td>7472</td>\n",
       "      <td>Sunnyvale, CA</td>\n",
       "      <td>L6</td>\n",
       "      <td>Software Engineer</td>\n",
       "      <td>Distributed Systems (Back-End)</td>\n",
       "      <td>5.0</td>\n",
       "      <td>5.0</td>\n",
       "      <td>145000.0</td>\n",
       "      <td>807.0</td>\n",
       "      <td>21208</td>\n",
       "      <td>Asian</td>\n",
       "      <td>PhD</td>\n",
       "      <td>Male</td>\n",
       "      <td>Sunnyvale</td>\n",
       "      <td>CA</td>\n",
       "    </tr>\n",
       "    <tr>\n",
       "      <th>23532</th>\n",
       "      <td>136000</td>\n",
       "      <td>124000</td>\n",
       "      <td>11000.0</td>\n",
       "      <td>Microsoft</td>\n",
       "      <td>11521</td>\n",
       "      <td>Redmond, WA</td>\n",
       "      <td>61</td>\n",
       "      <td>Software Engineer</td>\n",
       "      <td>DevOps</td>\n",
       "      <td>3.0</td>\n",
       "      <td>2.0</td>\n",
       "      <td>1000.0</td>\n",
       "      <td>819.0</td>\n",
       "      <td>32237</td>\n",
       "      <td>Two Or More</td>\n",
       "      <td>Bachelor's Degree</td>\n",
       "      <td>Male</td>\n",
       "      <td>Redmond</td>\n",
       "      <td>WA</td>\n",
       "    </tr>\n",
       "    <tr>\n",
       "      <th>23533</th>\n",
       "      <td>337000</td>\n",
       "      <td>177000</td>\n",
       "      <td>36000.0</td>\n",
       "      <td>Google</td>\n",
       "      <td>7413</td>\n",
       "      <td>San Bruno, CA</td>\n",
       "      <td>L5</td>\n",
       "      <td>Software Engineer</td>\n",
       "      <td>Full Stack</td>\n",
       "      <td>6.0</td>\n",
       "      <td>6.0</td>\n",
       "      <td>125000.0</td>\n",
       "      <td>807.0</td>\n",
       "      <td>32239</td>\n",
       "      <td>Asian</td>\n",
       "      <td>Bachelor's Degree</td>\n",
       "      <td>Male</td>\n",
       "      <td>San Bruno</td>\n",
       "      <td>CA</td>\n",
       "    </tr>\n",
       "    <tr>\n",
       "      <th>23534</th>\n",
       "      <td>222000</td>\n",
       "      <td>164000</td>\n",
       "      <td>20000.0</td>\n",
       "      <td>Microsoft</td>\n",
       "      <td>11527</td>\n",
       "      <td>Seattle, WA</td>\n",
       "      <td>62</td>\n",
       "      <td>Software Engineer</td>\n",
       "      <td>API Development (Back-End)</td>\n",
       "      <td>4.0</td>\n",
       "      <td>4.0</td>\n",
       "      <td>38000.0</td>\n",
       "      <td>819.0</td>\n",
       "      <td>32240</td>\n",
       "      <td>Asian</td>\n",
       "      <td>Master's Degree</td>\n",
       "      <td>Male</td>\n",
       "      <td>Seattle</td>\n",
       "      <td>WA</td>\n",
       "    </tr>\n",
       "    <tr>\n",
       "      <th>23535</th>\n",
       "      <td>187000</td>\n",
       "      <td>165000</td>\n",
       "      <td>0.0</td>\n",
       "      <td>Blend</td>\n",
       "      <td>7419</td>\n",
       "      <td>San Francisco, CA</td>\n",
       "      <td>IC3</td>\n",
       "      <td>Software Engineer</td>\n",
       "      <td>Full Stack</td>\n",
       "      <td>5.0</td>\n",
       "      <td>0.0</td>\n",
       "      <td>22000.0</td>\n",
       "      <td>807.0</td>\n",
       "      <td>32241</td>\n",
       "      <td>White</td>\n",
       "      <td>Bachelor's Degree</td>\n",
       "      <td>Male</td>\n",
       "      <td>San Francisco</td>\n",
       "      <td>CA</td>\n",
       "    </tr>\n",
       "  </tbody>\n",
       "</table>\n",
       "</div>"
      ],
      "text/plain": [
       "       totalyearlycompensation  basesalary    bonus    company  cityid  \\\n",
       "15710                   400000      210000  45000.0     Google    7472   \n",
       "23532                   136000      124000  11000.0  Microsoft   11521   \n",
       "23533                   337000      177000  36000.0     Google    7413   \n",
       "23534                   222000      164000  20000.0  Microsoft   11527   \n",
       "23535                   187000      165000      0.0      Blend    7419   \n",
       "\n",
       "                location level              title  \\\n",
       "15710      Sunnyvale, CA    L6  Software Engineer   \n",
       "23532        Redmond, WA    61  Software Engineer   \n",
       "23533      San Bruno, CA    L5  Software Engineer   \n",
       "23534        Seattle, WA    62  Software Engineer   \n",
       "23535  San Francisco, CA   IC3  Software Engineer   \n",
       "\n",
       "                                  tag  yearsofexperience  yearsatcompany  \\\n",
       "15710  Distributed Systems (Back-End)                5.0             5.0   \n",
       "23532                          DevOps                3.0             2.0   \n",
       "23533                      Full Stack                6.0             6.0   \n",
       "23534      API Development (Back-End)                4.0             4.0   \n",
       "23535                      Full Stack                5.0             0.0   \n",
       "\n",
       "       stockgrantvalue  dmaid  rowNumber         Race          Education  \\\n",
       "15710         145000.0  807.0      21208        Asian                PhD   \n",
       "23532           1000.0  819.0      32237  Two Or More  Bachelor's Degree   \n",
       "23533         125000.0  807.0      32239        Asian  Bachelor's Degree   \n",
       "23534          38000.0  819.0      32240        Asian    Master's Degree   \n",
       "23535          22000.0  807.0      32241        White  Bachelor's Degree   \n",
       "\n",
       "      gender           City State  \n",
       "15710   Male      Sunnyvale    CA  \n",
       "23532   Male        Redmond    WA  \n",
       "23533   Male      San Bruno    CA  \n",
       "23534   Male        Seattle    WA  \n",
       "23535   Male  San Francisco    CA  "
      ]
     },
     "execution_count": 489,
     "metadata": {},
     "output_type": "execute_result"
    }
   ],
   "source": [
    "def split_location(loc):\n",
    "    location = loc.split(', ')  \n",
    "    if len(location) == 2:\n",
    "        city = location[0]\n",
    "        state = location[1]\n",
    "    else:\n",
    "        city = None\n",
    "        state = None\n",
    "    return pd.Series([city, state])\n",
    "\n",
    "df[['City', 'State']] = df['location'].apply(split_location)"
   ]
  },
  {
   "cell_type": "markdown",
   "id": "bc35fd95-2694-45b8-b4ad-f779bece1cfe",
   "metadata": {},
   "source": [
    "### Restructuring of the data frame for readability with added state and city columns"
   ]
  },
  {
   "cell_type": "code",
   "execution_count": 490,
   "id": "884041df-d5b9-4ea3-b73b-c65188ade528",
   "metadata": {
    "tags": []
   },
   "outputs": [
    {
     "data": {
      "text/html": [
       "<div>\n",
       "<style scoped>\n",
       "    .dataframe tbody tr th:only-of-type {\n",
       "        vertical-align: middle;\n",
       "    }\n",
       "\n",
       "    .dataframe tbody tr th {\n",
       "        vertical-align: top;\n",
       "    }\n",
       "\n",
       "    .dataframe thead th {\n",
       "        text-align: right;\n",
       "    }\n",
       "</style>\n",
       "<table border=\"1\" class=\"dataframe\">\n",
       "  <thead>\n",
       "    <tr style=\"text-align: right;\">\n",
       "      <th></th>\n",
       "      <th>totalyearlycompensation</th>\n",
       "      <th>basesalary</th>\n",
       "      <th>bonus</th>\n",
       "      <th>company</th>\n",
       "      <th>cityid</th>\n",
       "      <th>location</th>\n",
       "      <th>State</th>\n",
       "      <th>City</th>\n",
       "      <th>level</th>\n",
       "      <th>title</th>\n",
       "      <th>tag</th>\n",
       "      <th>yearsofexperience</th>\n",
       "      <th>yearsatcompany</th>\n",
       "      <th>stockgrantvalue</th>\n",
       "      <th>dmaid</th>\n",
       "      <th>rowNumber</th>\n",
       "      <th>Race</th>\n",
       "      <th>Education</th>\n",
       "      <th>gender</th>\n",
       "    </tr>\n",
       "  </thead>\n",
       "  <tbody>\n",
       "    <tr>\n",
       "      <th>15710</th>\n",
       "      <td>400000</td>\n",
       "      <td>210000</td>\n",
       "      <td>45000.0</td>\n",
       "      <td>Google</td>\n",
       "      <td>7472</td>\n",
       "      <td>Sunnyvale, CA</td>\n",
       "      <td>CA</td>\n",
       "      <td>Sunnyvale</td>\n",
       "      <td>L6</td>\n",
       "      <td>Software Engineer</td>\n",
       "      <td>Distributed Systems (Back-End)</td>\n",
       "      <td>5.0</td>\n",
       "      <td>5.0</td>\n",
       "      <td>145000.0</td>\n",
       "      <td>807.0</td>\n",
       "      <td>21208</td>\n",
       "      <td>Asian</td>\n",
       "      <td>PhD</td>\n",
       "      <td>Male</td>\n",
       "    </tr>\n",
       "    <tr>\n",
       "      <th>23532</th>\n",
       "      <td>136000</td>\n",
       "      <td>124000</td>\n",
       "      <td>11000.0</td>\n",
       "      <td>Microsoft</td>\n",
       "      <td>11521</td>\n",
       "      <td>Redmond, WA</td>\n",
       "      <td>WA</td>\n",
       "      <td>Redmond</td>\n",
       "      <td>61</td>\n",
       "      <td>Software Engineer</td>\n",
       "      <td>DevOps</td>\n",
       "      <td>3.0</td>\n",
       "      <td>2.0</td>\n",
       "      <td>1000.0</td>\n",
       "      <td>819.0</td>\n",
       "      <td>32237</td>\n",
       "      <td>Two Or More</td>\n",
       "      <td>Bachelor's Degree</td>\n",
       "      <td>Male</td>\n",
       "    </tr>\n",
       "    <tr>\n",
       "      <th>23533</th>\n",
       "      <td>337000</td>\n",
       "      <td>177000</td>\n",
       "      <td>36000.0</td>\n",
       "      <td>Google</td>\n",
       "      <td>7413</td>\n",
       "      <td>San Bruno, CA</td>\n",
       "      <td>CA</td>\n",
       "      <td>San Bruno</td>\n",
       "      <td>L5</td>\n",
       "      <td>Software Engineer</td>\n",
       "      <td>Full Stack</td>\n",
       "      <td>6.0</td>\n",
       "      <td>6.0</td>\n",
       "      <td>125000.0</td>\n",
       "      <td>807.0</td>\n",
       "      <td>32239</td>\n",
       "      <td>Asian</td>\n",
       "      <td>Bachelor's Degree</td>\n",
       "      <td>Male</td>\n",
       "    </tr>\n",
       "    <tr>\n",
       "      <th>23534</th>\n",
       "      <td>222000</td>\n",
       "      <td>164000</td>\n",
       "      <td>20000.0</td>\n",
       "      <td>Microsoft</td>\n",
       "      <td>11527</td>\n",
       "      <td>Seattle, WA</td>\n",
       "      <td>WA</td>\n",
       "      <td>Seattle</td>\n",
       "      <td>62</td>\n",
       "      <td>Software Engineer</td>\n",
       "      <td>API Development (Back-End)</td>\n",
       "      <td>4.0</td>\n",
       "      <td>4.0</td>\n",
       "      <td>38000.0</td>\n",
       "      <td>819.0</td>\n",
       "      <td>32240</td>\n",
       "      <td>Asian</td>\n",
       "      <td>Master's Degree</td>\n",
       "      <td>Male</td>\n",
       "    </tr>\n",
       "    <tr>\n",
       "      <th>23535</th>\n",
       "      <td>187000</td>\n",
       "      <td>165000</td>\n",
       "      <td>0.0</td>\n",
       "      <td>Blend</td>\n",
       "      <td>7419</td>\n",
       "      <td>San Francisco, CA</td>\n",
       "      <td>CA</td>\n",
       "      <td>San Francisco</td>\n",
       "      <td>IC3</td>\n",
       "      <td>Software Engineer</td>\n",
       "      <td>Full Stack</td>\n",
       "      <td>5.0</td>\n",
       "      <td>0.0</td>\n",
       "      <td>22000.0</td>\n",
       "      <td>807.0</td>\n",
       "      <td>32241</td>\n",
       "      <td>White</td>\n",
       "      <td>Bachelor's Degree</td>\n",
       "      <td>Male</td>\n",
       "    </tr>\n",
       "  </tbody>\n",
       "</table>\n",
       "</div>"
      ],
      "text/plain": [
       "       totalyearlycompensation  basesalary    bonus    company  cityid  \\\n",
       "15710                   400000      210000  45000.0     Google    7472   \n",
       "23532                   136000      124000  11000.0  Microsoft   11521   \n",
       "23533                   337000      177000  36000.0     Google    7413   \n",
       "23534                   222000      164000  20000.0  Microsoft   11527   \n",
       "23535                   187000      165000      0.0      Blend    7419   \n",
       "\n",
       "                location State           City level              title  \\\n",
       "15710      Sunnyvale, CA    CA      Sunnyvale    L6  Software Engineer   \n",
       "23532        Redmond, WA    WA        Redmond    61  Software Engineer   \n",
       "23533      San Bruno, CA    CA      San Bruno    L5  Software Engineer   \n",
       "23534        Seattle, WA    WA        Seattle    62  Software Engineer   \n",
       "23535  San Francisco, CA    CA  San Francisco   IC3  Software Engineer   \n",
       "\n",
       "                                  tag  yearsofexperience  yearsatcompany  \\\n",
       "15710  Distributed Systems (Back-End)                5.0             5.0   \n",
       "23532                          DevOps                3.0             2.0   \n",
       "23533                      Full Stack                6.0             6.0   \n",
       "23534      API Development (Back-End)                4.0             4.0   \n",
       "23535                      Full Stack                5.0             0.0   \n",
       "\n",
       "       stockgrantvalue  dmaid  rowNumber         Race          Education  \\\n",
       "15710         145000.0  807.0      21208        Asian                PhD   \n",
       "23532           1000.0  819.0      32237  Two Or More  Bachelor's Degree   \n",
       "23533         125000.0  807.0      32239        Asian  Bachelor's Degree   \n",
       "23534          38000.0  819.0      32240        Asian    Master's Degree   \n",
       "23535          22000.0  807.0      32241        White  Bachelor's Degree   \n",
       "\n",
       "      gender  \n",
       "15710   Male  \n",
       "23532   Male  \n",
       "23533   Male  \n",
       "23534   Male  \n",
       "23535   Male  "
      ]
     },
     "execution_count": 490,
     "metadata": {},
     "output_type": "execute_result"
    }
   ],
   "source": [
    "df = df[['totalyearlycompensation', 'basesalary', 'bonus', 'company', 'cityid', 'location', 'State', 'City', 'level', 'title', 'tag', 'yearsofexperience',\n",
    "        'yearsatcompany', 'stockgrantvalue', 'dmaid', 'rowNumber', 'Race', 'Education', 'gender']]\n",
    "df.head()"
   ]
  },
  {
   "cell_type": "markdown",
   "id": "d67f1177-294f-4ce4-b880-f799875f18ed",
   "metadata": {},
   "source": [
    "### Verifying results of creating new columns and dropping data with null values in state column."
   ]
  },
  {
   "cell_type": "markdown",
   "id": "f38c77b0-bff9-4200-9f64-3c8afa7aa94c",
   "metadata": {},
   "source": [
    "Dropping these results further eliminates international entries."
   ]
  },
  {
   "cell_type": "code",
   "execution_count": 491,
   "id": "4af97fbb-4222-4734-aeb2-e9eac14ab007",
   "metadata": {
    "tags": []
   },
   "outputs": [
    {
     "data": {
      "text/plain": [
       "array(['CA', 'WA', 'TX', None, 'AZ', 'NY', 'IL', 'MA', 'NC', 'VA', 'CO',\n",
       "       'FL', 'WI', 'DC', 'OR', 'MI', 'MN', 'MO', 'PA', 'UT', 'NJ', 'TN',\n",
       "       'LA', 'GA', 'AR', 'IA', 'OH', 'MD', 'IN', 'MT', 'RI', 'DE', 'OK',\n",
       "       'NV', 'CT', 'AL', 'SC', 'KS', 'KY', 'WV', 'MS', 'ID', 'NE', 'HI',\n",
       "       'NH', 'NM', 'ND', 'VT', 'WY', 'ME'], dtype=object)"
      ]
     },
     "execution_count": 491,
     "metadata": {},
     "output_type": "execute_result"
    }
   ],
   "source": [
    "df.State.unique()"
   ]
  },
  {
   "cell_type": "code",
   "execution_count": 492,
   "id": "11d4965f-0b40-4906-85dc-515fb989dba6",
   "metadata": {
    "tags": []
   },
   "outputs": [
    {
     "name": "stdout",
     "output_type": "stream",
     "text": [
      "totalyearlycompensation    0\n",
      "basesalary                 0\n",
      "bonus                      0\n",
      "company                    0\n",
      "cityid                     0\n",
      "location                   0\n",
      "State                      0\n",
      "City                       0\n",
      "level                      0\n",
      "title                      0\n",
      "tag                        0\n",
      "yearsofexperience          0\n",
      "yearsatcompany             0\n",
      "stockgrantvalue            0\n",
      "dmaid                      0\n",
      "rowNumber                  0\n",
      "Race                       0\n",
      "Education                  0\n",
      "gender                     0\n",
      "dtype: int64\n"
     ]
    }
   ],
   "source": [
    "# Remove rows with null values in State column\n",
    "df = df.dropna(subset='State')\n",
    "# Verify removal\n",
    "print(df.isna().sum())"
   ]
  },
  {
   "cell_type": "markdown",
   "id": "cdf42be5-d6c2-4354-98a8-d5bb6a8d6e44",
   "metadata": {},
   "source": [
    "### Verification that columns contain unique and non-redundant values"
   ]
  },
  {
   "cell_type": "code",
   "execution_count": 495,
   "id": "6367a054-3f5c-454c-9512-b2d7eb22693e",
   "metadata": {
    "tags": []
   },
   "outputs": [
    {
     "data": {
      "text/plain": [
       "array(['PhD', \"Bachelor's Degree\", \"Master's Degree\", 'Some College',\n",
       "       'Highschool'], dtype=object)"
      ]
     },
     "execution_count": 495,
     "metadata": {},
     "output_type": "execute_result"
    }
   ],
   "source": [
    "df.Education.unique()"
   ]
  },
  {
   "cell_type": "code",
   "execution_count": 496,
   "id": "55b84f7a-acaf-4517-8fac-0eb1ce20cc71",
   "metadata": {
    "tags": []
   },
   "outputs": [
    {
     "data": {
      "text/plain": [
       "array(['Asian', 'Two Or More', 'White', 'Hispanic', 'Black'], dtype=object)"
      ]
     },
     "execution_count": 496,
     "metadata": {},
     "output_type": "execute_result"
    }
   ],
   "source": [
    "df.Race.unique()"
   ]
  },
  {
   "cell_type": "code",
   "execution_count": 497,
   "id": "2772a2a7-03e4-41a1-9f17-d02f6e7b9139",
   "metadata": {
    "tags": []
   },
   "outputs": [
    {
     "data": {
      "text/plain": [
       "array(['Software Engineer', 'Software Engineering Manager',\n",
       "       'Hardware Engineer', 'Product Designer', 'Management Consultant',\n",
       "       'Product Manager', 'Solution Architect', 'Sales',\n",
       "       'Technical Program Manager', 'Data Scientist', 'Recruiter',\n",
       "       'Mechanical Engineer', 'Business Analyst', 'Human Resources',\n",
       "       'Marketing'], dtype=object)"
      ]
     },
     "execution_count": 497,
     "metadata": {},
     "output_type": "execute_result"
    }
   ],
   "source": [
    "df.title.unique()"
   ]
  },
  {
   "cell_type": "markdown",
   "id": "8f8f4c33-2ac8-4b5e-8edb-de33308ab29f",
   "metadata": {
    "tags": []
   },
   "source": [
    "### Formatting of the company category eliminates redundant values"
   ]
  },
  {
   "cell_type": "code",
   "execution_count": 498,
   "id": "687fc961-860b-41dc-ad6c-cc01c3b9462d",
   "metadata": {
    "tags": []
   },
   "outputs": [],
   "source": [
    "df['company'] = df['company'].apply(lambda company: company.upper())"
   ]
  },
  {
   "cell_type": "markdown",
   "id": "5f81539f-70ae-4f07-b4c4-a2e59291686d",
   "metadata": {
    "tags": []
   },
   "source": [
    "companies = df.company.unique()\n",
    "companies_edit = []\n",
    "for company in companies:\n",
    "    companies_edit.append(company.upper())\n",
    "companies_edit.sort()\n",
    "for company in companies_edit:\n",
    "    print(company)"
   ]
  },
  {
   "cell_type": "markdown",
   "id": "9502e30c-4193-4301-9d58-e131ed39ec85",
   "metadata": {},
   "source": [
    "### Exporting dataframe for external use and backup purposes"
   ]
  },
  {
   "cell_type": "code",
   "execution_count": 500,
   "id": "0c6a8478-efdb-4008-afa2-dd9c1d6f5d78",
   "metadata": {
    "tags": []
   },
   "outputs": [],
   "source": [
    "df.to_csv('updated_base_df.csv')"
   ]
  },
  {
   "cell_type": "markdown",
   "id": "e4555a7e-91fc-4651-baba-05ef76811541",
   "metadata": {},
   "source": [
    "### Importing CSV loaded with stock market information to merge with original dataframe."
   ]
  },
  {
   "cell_type": "code",
   "execution_count": 461,
   "id": "2733d24d-6598-4df7-9205-626cc3f9b3c1",
   "metadata": {
    "tags": []
   },
   "outputs": [
    {
     "data": {
      "text/html": [
       "<div>\n",
       "<style scoped>\n",
       "    .dataframe tbody tr th:only-of-type {\n",
       "        vertical-align: middle;\n",
       "    }\n",
       "\n",
       "    .dataframe tbody tr th {\n",
       "        vertical-align: top;\n",
       "    }\n",
       "\n",
       "    .dataframe thead th {\n",
       "        text-align: right;\n",
       "    }\n",
       "</style>\n",
       "<table border=\"1\" class=\"dataframe\">\n",
       "  <thead>\n",
       "    <tr style=\"text-align: right;\">\n",
       "      <th></th>\n",
       "      <th>Symbol</th>\n",
       "      <th>Company Name</th>\n",
       "      <th>Market Cap</th>\n",
       "      <th>Stock Price</th>\n",
       "      <th>% Change</th>\n",
       "      <th>Industry</th>\n",
       "      <th>PE Ratio</th>\n",
       "      <th>Ent. Value</th>\n",
       "      <th>MC Group</th>\n",
       "      <th>Sector</th>\n",
       "      <th>...</th>\n",
       "      <th>Oper. Margin</th>\n",
       "      <th>Pretax Margin</th>\n",
       "      <th>Profit Margin</th>\n",
       "      <th>R&amp;D / Rev</th>\n",
       "      <th>Avg. Volume</th>\n",
       "      <th>Rel. Volume</th>\n",
       "      <th>RSI</th>\n",
       "      <th>Tax / Revenue</th>\n",
       "      <th>Rev Gr. This Q</th>\n",
       "      <th>Rev Gr. Next Q</th>\n",
       "    </tr>\n",
       "  </thead>\n",
       "  <tbody>\n",
       "    <tr>\n",
       "      <th>0</th>\n",
       "      <td>FLWS</td>\n",
       "      <td>1-800-FLOWERS.COM</td>\n",
       "      <td>6.965698e+08</td>\n",
       "      <td>10.92</td>\n",
       "      <td>1.11%</td>\n",
       "      <td>Specialty Retail</td>\n",
       "      <td>NaN</td>\n",
       "      <td>7.024748e+08</td>\n",
       "      <td>Small-Cap</td>\n",
       "      <td>Consumer Discretionary</td>\n",
       "      <td>...</td>\n",
       "      <td>-2.89%</td>\n",
       "      <td>-3.39%</td>\n",
       "      <td>-3.24%</td>\n",
       "      <td>3.20%</td>\n",
       "      <td>420598.0</td>\n",
       "      <td>77.96%</td>\n",
       "      <td>59.81</td>\n",
       "      <td>-0.15%</td>\n",
       "      <td>-5.95%</td>\n",
       "      <td>-3.19%</td>\n",
       "    </tr>\n",
       "    <tr>\n",
       "      <th>1</th>\n",
       "      <td>VCXB</td>\n",
       "      <td>10X Capital Venture Acquisition Corp. III</td>\n",
       "      <td>1.421026e+08</td>\n",
       "      <td>10.77</td>\n",
       "      <td>NaN</td>\n",
       "      <td>Shell Companies</td>\n",
       "      <td>63.35</td>\n",
       "      <td>1.420773e+08</td>\n",
       "      <td>Micro-Cap</td>\n",
       "      <td>Financials</td>\n",
       "      <td>...</td>\n",
       "      <td>NaN</td>\n",
       "      <td>NaN</td>\n",
       "      <td>NaN</td>\n",
       "      <td>NaN</td>\n",
       "      <td>10038.0</td>\n",
       "      <td>0.12%</td>\n",
       "      <td>60.96</td>\n",
       "      <td>NaN</td>\n",
       "      <td>NaN</td>\n",
       "      <td>NaN</td>\n",
       "    </tr>\n",
       "    <tr>\n",
       "      <th>2</th>\n",
       "      <td>TXG</td>\n",
       "      <td>10x Genomics</td>\n",
       "      <td>4.316825e+09</td>\n",
       "      <td>36.89</td>\n",
       "      <td>1.77%</td>\n",
       "      <td>Health Information Services</td>\n",
       "      <td>NaN</td>\n",
       "      <td>4.023500e+09</td>\n",
       "      <td>Mid-Cap</td>\n",
       "      <td>Healthcare</td>\n",
       "      <td>...</td>\n",
       "      <td>-42.88%</td>\n",
       "      <td>-40.21%</td>\n",
       "      <td>-41.23%</td>\n",
       "      <td>43.69%</td>\n",
       "      <td>1403080.0</td>\n",
       "      <td>74.62%</td>\n",
       "      <td>34.24</td>\n",
       "      <td>1.02%</td>\n",
       "      <td>7.41%</td>\n",
       "      <td>8.17%</td>\n",
       "    </tr>\n",
       "    <tr>\n",
       "      <th>3</th>\n",
       "      <td>YI</td>\n",
       "      <td>111, Inc.</td>\n",
       "      <td>8.735293e+07</td>\n",
       "      <td>1.01</td>\n",
       "      <td>-2.88%</td>\n",
       "      <td>Pharmaceutical Retailers</td>\n",
       "      <td>NaN</td>\n",
       "      <td>3.884045e+07</td>\n",
       "      <td>Micro-Cap</td>\n",
       "      <td>Healthcare</td>\n",
       "      <td>...</td>\n",
       "      <td>-2.30%</td>\n",
       "      <td>-2.58%</td>\n",
       "      <td>-2.63%</td>\n",
       "      <td>0.82%</td>\n",
       "      <td>81508.0</td>\n",
       "      <td>102.12%</td>\n",
       "      <td>27.80</td>\n",
       "      <td>0.00%</td>\n",
       "      <td>NaN</td>\n",
       "      <td>NaN</td>\n",
       "    </tr>\n",
       "    <tr>\n",
       "      <th>4</th>\n",
       "      <td>YQ</td>\n",
       "      <td>17 Education &amp; Technology Group</td>\n",
       "      <td>3.065829e+07</td>\n",
       "      <td>2.97</td>\n",
       "      <td>NaN</td>\n",
       "      <td>Education &amp; Training Services</td>\n",
       "      <td>NaN</td>\n",
       "      <td>-3.290321e+07</td>\n",
       "      <td>Nano-Cap</td>\n",
       "      <td>Consumer Staples</td>\n",
       "      <td>...</td>\n",
       "      <td>-196.68%</td>\n",
       "      <td>-178.90%</td>\n",
       "      <td>-182.37%</td>\n",
       "      <td>96.36%</td>\n",
       "      <td>18790.0</td>\n",
       "      <td>16.56%</td>\n",
       "      <td>54.54</td>\n",
       "      <td>NaN</td>\n",
       "      <td>NaN</td>\n",
       "      <td>NaN</td>\n",
       "    </tr>\n",
       "  </tbody>\n",
       "</table>\n",
       "<p>5 rows × 71 columns</p>\n",
       "</div>"
      ],
      "text/plain": [
       "  Symbol                               Company Name    Market Cap  \\\n",
       "0   FLWS                          1-800-FLOWERS.COM  6.965698e+08   \n",
       "1   VCXB  10X Capital Venture Acquisition Corp. III  1.421026e+08   \n",
       "2    TXG                               10x Genomics  4.316825e+09   \n",
       "3     YI                                  111, Inc.  8.735293e+07   \n",
       "4     YQ            17 Education & Technology Group  3.065829e+07   \n",
       "\n",
       "   Stock Price % Change                       Industry  PE Ratio  \\\n",
       "0        10.92    1.11%               Specialty Retail       NaN   \n",
       "1        10.77      NaN                Shell Companies     63.35   \n",
       "2        36.89    1.77%    Health Information Services       NaN   \n",
       "3         1.01   -2.88%       Pharmaceutical Retailers       NaN   \n",
       "4         2.97      NaN  Education & Training Services       NaN   \n",
       "\n",
       "     Ent. Value   MC Group                  Sector  ...  Oper. Margin  \\\n",
       "0  7.024748e+08  Small-Cap  Consumer Discretionary  ...        -2.89%   \n",
       "1  1.420773e+08  Micro-Cap              Financials  ...           NaN   \n",
       "2  4.023500e+09    Mid-Cap              Healthcare  ...       -42.88%   \n",
       "3  3.884045e+07  Micro-Cap              Healthcare  ...        -2.30%   \n",
       "4 -3.290321e+07   Nano-Cap        Consumer Staples  ...      -196.68%   \n",
       "\n",
       "  Pretax Margin Profit Margin  R&D / Rev  Avg. Volume Rel. Volume    RSI  \\\n",
       "0        -3.39%        -3.24%      3.20%     420598.0      77.96%  59.81   \n",
       "1           NaN           NaN        NaN      10038.0       0.12%  60.96   \n",
       "2       -40.21%       -41.23%     43.69%    1403080.0      74.62%  34.24   \n",
       "3        -2.58%        -2.63%      0.82%      81508.0     102.12%  27.80   \n",
       "4      -178.90%      -182.37%     96.36%      18790.0      16.56%  54.54   \n",
       "\n",
       "  Tax / Revenue Rev Gr. This Q  Rev Gr. Next Q  \n",
       "0        -0.15%         -5.95%          -3.19%  \n",
       "1           NaN            NaN             NaN  \n",
       "2         1.02%          7.41%           8.17%  \n",
       "3         0.00%            NaN             NaN  \n",
       "4           NaN            NaN             NaN  \n",
       "\n",
       "[5 rows x 71 columns]"
      ]
     },
     "execution_count": 461,
     "metadata": {},
     "output_type": "execute_result"
    }
   ],
   "source": [
    "stocks_df = pd.read_csv('screener-stocks.csv')\n",
    "stocks_df.head()"
   ]
  },
  {
   "cell_type": "markdown",
   "id": "185e6fba-0ad8-449a-8664-5c2107a5cd46",
   "metadata": {},
   "source": [
    "### Creating a company column with reformatted company names creates a column that can merge the datasets.\n",
    "\n",
    "Removal of the reference to ticker GOOGL, in order to merge data corresponding to ticker GOOG."
   ]
  },
  {
   "cell_type": "code",
   "execution_count": 462,
   "id": "ad7234a6-3a61-4fac-8653-587157d208db",
   "metadata": {
    "tags": []
   },
   "outputs": [],
   "source": [
    "stocks_df['company'] = stocks_df['Company Name'].apply(lambda company: company.upper())\n",
    "stocks_df.drop(stocks_df.loc[stocks_df['Symbol']=='GOOGL'].index, inplace=True)"
   ]
  },
  {
   "cell_type": "markdown",
   "id": "1b0bcc3c-1324-4b63-af81-4b59b88deedb",
   "metadata": {},
   "source": [
    "### Reassignment of company names in original dataset to corresponding company names in stock dataset."
   ]
  },
  {
   "cell_type": "code",
   "execution_count": 464,
   "id": "2dbd02f6-1430-4655-93f9-1f067e0a8e7b",
   "metadata": {
    "tags": []
   },
   "outputs": [],
   "source": [
    "df.loc[ df['company'] == 'GOOGLE', 'company'] = 'ALPHABET'\n",
    "df.loc[ df['company'] == 'AMAZON', 'company'] = 'AMAZON.COM'\n",
    "df.loc[ df['company'] == 'FACEBOOK', 'company'] = 'META PLATFORMS'\n",
    "df.loc[ df['company'] == 'PAYPAL', 'company'] = 'PAYPAL HOLDINGS'\n",
    "df.loc[ df['company'] == 'HSBC', 'company'] = 'HSBC HOLDINGS'\n",
    "df.loc[ df['company'] == 'APPLE INC.', 'company'] = 'APPLE'\n",
    "df.loc[ df['company'] == '2U', 'company'] = '2U, INC.'\n",
    "df.loc[ df['company'] == 'ABBOTT', 'company'] = 'ABBOTT LABORATORIES'\n",
    "df.loc[ df['company'] == '8X8', 'company'] = '8X8, INC.'\n",
    "df.loc[ df['company'] == 'ADP', 'company'] = 'Automatic Data Processing'.upper()\n",
    "df.loc[ df['company'] == 'AFFIRM', 'company'] = 'AFFIRM HOLDINGS'\n",
    "df.loc[ df['company'] == 'AMD', 'company'] = 'ADVANCED MICRO DEVICES'\n",
    "df.loc[ df['company'] == 'INTEL CORPORATION', 'company'] = 'INTEL'\n",
    "df.loc[ df['company'] == 'IBM', 'company'] = 'INTERNATIONAL BUSINESS MACHINES'\n",
    "df.loc[ df['company'] == 'CAPITAL ONE', 'company'] = 'CAPITAL ONE FINANCIAL'\n",
    "df.loc[ df['company'] == 'CISCO', 'company'] = 'CISCO SYSTEMS'\n",
    "df.loc[ df['company'] == 'JPMORGAN CHASE', 'company'] = 'JPMORGAN CHASE & CO.'\n",
    "df.loc[ df['company'] == 'JP MORGAN CHASE', 'company'] = 'JPMORGAN CHASE & CO.'\n",
    "df.loc[ df['company'] == 'JP MORGAN', 'company'] = 'JPMORGAN CHASE & CO.'\n",
    "df.loc[ df['company'] == 'UBER', 'company'] = 'UBER TECHNOLOGIES'\n",
    "df.loc[ df['company'] == 'GOLDMAN SACHS', 'company'] = 'THE GOLDMAN SACHS GROUP'\n",
    "df.loc[ df['company'] == 'WALMART LABS', 'company'] = 'WALMART'\n",
    "df.loc[ df['company'] == 'EBAY', 'company'] = 'EBAY INC.'\n",
    "df.loc[ df['company'] == 'VISA', 'company'] = 'VISA INC.'\n",
    "df.loc[ df['company'] == 'LYFT', 'company'] = 'LYFT, INC.'\n",
    "df.loc[ df['company'] == 'SAP', 'company'] = 'SAP SE'\n",
    "df.loc[ df['company'] == 'DELL', 'company'] = 'DELL TECHNOLOGIES'\n",
    "df.loc[ df['company'] == 'BOEING', 'company'] = 'THE BOEING COMPANY'\n",
    "df.loc[ df['company'] == 'GENERAL MOTORS', 'company'] = 'GENERAL MOTORS COMPANY'\n",
    "df.loc[ df['company'] == 'T-MOBILE', 'company'] = 'T-MOBILE US'"
   ]
  },
  {
   "cell_type": "markdown",
   "id": "4707de61-f8e2-4a99-bc30-0518288d4857",
   "metadata": {},
   "source": [
    "### Initial merge of the data sets"
   ]
  },
  {
   "cell_type": "code",
   "execution_count": 465,
   "id": "67f49211-535c-42c0-9d05-bd46772d0378",
   "metadata": {
    "tags": []
   },
   "outputs": [
    {
     "name": "stdout",
     "output_type": "stream",
     "text": [
      "5093\n"
     ]
    }
   ],
   "source": [
    "agg_df = pd.merge(df, stocks_df, on=\"company\", how=\"left\")\n",
    "print(agg_df['Symbol'].isna().sum())"
   ]
  },
  {
   "cell_type": "code",
   "execution_count": 502,
   "id": "01d604da-8e06-4bbd-bd22-1a6d13cf4455",
   "metadata": {
    "tags": []
   },
   "outputs": [
    {
     "name": "stdout",
     "output_type": "stream",
     "text": [
      "company\n",
      "AMAZON.COM                         2090\n",
      "MICROSOFT                          1299\n",
      "ALPHABET                           1104\n",
      "META PLATFORMS                      867\n",
      "APPLE                               569\n",
      "ORACLE                              309\n",
      "INTEL                               303\n",
      "INTERNATIONAL BUSINESS MACHINES     277\n",
      "CAPITAL ONE FINANCIAL               267\n",
      "CISCO SYSTEMS                       262\n",
      "Name: count, dtype: int64\n"
     ]
    }
   ],
   "source": [
    "counts = agg_df['company'].value_counts()\n",
    "print(counts.head(10))"
   ]
  },
  {
   "cell_type": "markdown",
   "id": "78310bc6-9116-435e-b684-a1da69b69212",
   "metadata": {},
   "source": [
    "### Eliminating Remaining Null Values"
   ]
  },
  {
   "cell_type": "markdown",
   "id": "27f7bfc7-2b78-40e8-9dab-4bf18458c7de",
   "metadata": {},
   "source": [
    "To eliminate the remaining null values of the symbol column, the entries were researched and a symbol was manually entered into the dataset. Private companies were assigned \"Private\", while ambiguous and government companies were left null.  The latter to be dropped.\n",
    "\n",
    "This dataset was then merged on the \"Symbol\" column to fill in missing values and the dataset was saved as final_aggregated_df.csv.\n",
    "\n",
    "Column names were updated in order to follow a uniform naming convention."
   ]
  },
  {
   "cell_type": "markdown",
   "id": "af389fcb-4c90-4c21-abf3-3c1bb5cb78fd",
   "metadata": {},
   "source": [
    "# Import of aggregated dataset"
   ]
  },
  {
   "cell_type": "code",
   "execution_count": 83,
   "id": "86fc0cc1-8f85-4372-a409-e68674b02408",
   "metadata": {
    "tags": []
   },
   "outputs": [
    {
     "data": {
      "text/html": [
       "<div>\n",
       "<style scoped>\n",
       "    .dataframe tbody tr th:only-of-type {\n",
       "        vertical-align: middle;\n",
       "    }\n",
       "\n",
       "    .dataframe tbody tr th {\n",
       "        vertical-align: top;\n",
       "    }\n",
       "\n",
       "    .dataframe thead th {\n",
       "        text-align: right;\n",
       "    }\n",
       "</style>\n",
       "<table border=\"1\" class=\"dataframe\">\n",
       "  <thead>\n",
       "    <tr style=\"text-align: right;\">\n",
       "      <th></th>\n",
       "      <th>Unnamed: 0.1</th>\n",
       "      <th>Unnamed: 0</th>\n",
       "      <th>total_yearly_compensation</th>\n",
       "      <th>base_salary</th>\n",
       "      <th>bonus</th>\n",
       "      <th>company</th>\n",
       "      <th>city_id</th>\n",
       "      <th>location</th>\n",
       "      <th>state</th>\n",
       "      <th>city</th>\n",
       "      <th>...</th>\n",
       "      <th>pretax_margin</th>\n",
       "      <th>profit_margin</th>\n",
       "      <th>research_development_over_revenue</th>\n",
       "      <th>average_volume</th>\n",
       "      <th>relative_volume</th>\n",
       "      <th>rsi</th>\n",
       "      <th>tax_over_revenue</th>\n",
       "      <th>revenue_growth_this_quarter</th>\n",
       "      <th>revenue_growth_next_quarter</th>\n",
       "      <th>gender</th>\n",
       "    </tr>\n",
       "  </thead>\n",
       "  <tbody>\n",
       "    <tr>\n",
       "      <th>0</th>\n",
       "      <td>5928</td>\n",
       "      <td>0</td>\n",
       "      <td>400000</td>\n",
       "      <td>210000</td>\n",
       "      <td>45000</td>\n",
       "      <td>ALPHABET</td>\n",
       "      <td>7472</td>\n",
       "      <td>Sunnyvale, CA</td>\n",
       "      <td>CA</td>\n",
       "      <td>Sunnyvale</td>\n",
       "      <td>...</td>\n",
       "      <td>27.89%</td>\n",
       "      <td>24.01%</td>\n",
       "      <td>14.78%</td>\n",
       "      <td>22956359.0</td>\n",
       "      <td>72.27%</td>\n",
       "      <td>64.81</td>\n",
       "      <td>3.88%</td>\n",
       "      <td>16.00%</td>\n",
       "      <td>14.35%</td>\n",
       "      <td>Male</td>\n",
       "    </tr>\n",
       "    <tr>\n",
       "      <th>1</th>\n",
       "      <td>10063</td>\n",
       "      <td>1</td>\n",
       "      <td>136000</td>\n",
       "      <td>124000</td>\n",
       "      <td>11000</td>\n",
       "      <td>MICROSOFT</td>\n",
       "      <td>11521</td>\n",
       "      <td>Redmond, WA</td>\n",
       "      <td>WA</td>\n",
       "      <td>Redmond</td>\n",
       "      <td>...</td>\n",
       "      <td>44.47%</td>\n",
       "      <td>36.27%</td>\n",
       "      <td>12.09%</td>\n",
       "      <td>22842031.0</td>\n",
       "      <td>72.63%</td>\n",
       "      <td>56.25</td>\n",
       "      <td>8.20%</td>\n",
       "      <td>17.27%</td>\n",
       "      <td>17.13%</td>\n",
       "      <td>Male</td>\n",
       "    </tr>\n",
       "    <tr>\n",
       "      <th>2</th>\n",
       "      <td>5929</td>\n",
       "      <td>2</td>\n",
       "      <td>337000</td>\n",
       "      <td>177000</td>\n",
       "      <td>36000</td>\n",
       "      <td>ALPHABET</td>\n",
       "      <td>7413</td>\n",
       "      <td>San Bruno, CA</td>\n",
       "      <td>CA</td>\n",
       "      <td>San Bruno</td>\n",
       "      <td>...</td>\n",
       "      <td>27.89%</td>\n",
       "      <td>24.01%</td>\n",
       "      <td>14.78%</td>\n",
       "      <td>22956359.0</td>\n",
       "      <td>72.27%</td>\n",
       "      <td>64.81</td>\n",
       "      <td>3.88%</td>\n",
       "      <td>16.00%</td>\n",
       "      <td>14.35%</td>\n",
       "      <td>Male</td>\n",
       "    </tr>\n",
       "    <tr>\n",
       "      <th>3</th>\n",
       "      <td>10064</td>\n",
       "      <td>3</td>\n",
       "      <td>222000</td>\n",
       "      <td>164000</td>\n",
       "      <td>20000</td>\n",
       "      <td>MICROSOFT</td>\n",
       "      <td>11527</td>\n",
       "      <td>Seattle, WA</td>\n",
       "      <td>WA</td>\n",
       "      <td>Seattle</td>\n",
       "      <td>...</td>\n",
       "      <td>44.47%</td>\n",
       "      <td>36.27%</td>\n",
       "      <td>12.09%</td>\n",
       "      <td>22842031.0</td>\n",
       "      <td>72.63%</td>\n",
       "      <td>56.25</td>\n",
       "      <td>8.20%</td>\n",
       "      <td>17.27%</td>\n",
       "      <td>17.13%</td>\n",
       "      <td>Male</td>\n",
       "    </tr>\n",
       "    <tr>\n",
       "      <th>4</th>\n",
       "      <td>3787</td>\n",
       "      <td>4</td>\n",
       "      <td>187000</td>\n",
       "      <td>165000</td>\n",
       "      <td>0</td>\n",
       "      <td>BLEND</td>\n",
       "      <td>7419</td>\n",
       "      <td>San Francisco, CA</td>\n",
       "      <td>CA</td>\n",
       "      <td>San Francisco</td>\n",
       "      <td>...</td>\n",
       "      <td>-113.87%</td>\n",
       "      <td>-118.15%</td>\n",
       "      <td>52.02%</td>\n",
       "      <td>1863929.0</td>\n",
       "      <td>43.24%</td>\n",
       "      <td>56.52</td>\n",
       "      <td>0.06%</td>\n",
       "      <td>-5.65%</td>\n",
       "      <td>-0.47%</td>\n",
       "      <td>Male</td>\n",
       "    </tr>\n",
       "  </tbody>\n",
       "</table>\n",
       "<p>5 rows × 92 columns</p>\n",
       "</div>"
      ],
      "text/plain": [
       "   Unnamed: 0.1  Unnamed: 0  total_yearly_compensation  base_salary  bonus  \\\n",
       "0          5928           0                     400000       210000  45000   \n",
       "1         10063           1                     136000       124000  11000   \n",
       "2          5929           2                     337000       177000  36000   \n",
       "3         10064           3                     222000       164000  20000   \n",
       "4          3787           4                     187000       165000      0   \n",
       "\n",
       "     company  city_id           location state           city  ...  \\\n",
       "0   ALPHABET     7472      Sunnyvale, CA    CA      Sunnyvale  ...   \n",
       "1  MICROSOFT    11521        Redmond, WA    WA        Redmond  ...   \n",
       "2   ALPHABET     7413      San Bruno, CA    CA      San Bruno  ...   \n",
       "3  MICROSOFT    11527        Seattle, WA    WA        Seattle  ...   \n",
       "4      BLEND     7419  San Francisco, CA    CA  San Francisco  ...   \n",
       "\n",
       "  pretax_margin profit_margin research_development_over_revenue  \\\n",
       "0        27.89%        24.01%                            14.78%   \n",
       "1        44.47%        36.27%                            12.09%   \n",
       "2        27.89%        24.01%                            14.78%   \n",
       "3        44.47%        36.27%                            12.09%   \n",
       "4      -113.87%      -118.15%                            52.02%   \n",
       "\n",
       "   average_volume  relative_volume    rsi  tax_over_revenue  \\\n",
       "0      22956359.0           72.27%  64.81             3.88%   \n",
       "1      22842031.0           72.63%  56.25             8.20%   \n",
       "2      22956359.0           72.27%  64.81             3.88%   \n",
       "3      22842031.0           72.63%  56.25             8.20%   \n",
       "4       1863929.0           43.24%  56.52             0.06%   \n",
       "\n",
       "   revenue_growth_this_quarter revenue_growth_next_quarter gender  \n",
       "0                       16.00%                      14.35%   Male  \n",
       "1                       17.27%                      17.13%   Male  \n",
       "2                       16.00%                      14.35%   Male  \n",
       "3                       17.27%                      17.13%   Male  \n",
       "4                       -5.65%                      -0.47%   Male  \n",
       "\n",
       "[5 rows x 92 columns]"
      ]
     },
     "execution_count": 83,
     "metadata": {},
     "output_type": "execute_result"
    }
   ],
   "source": [
    "df = pd.read_csv('final_aggregated_df.csv')\n",
    "df.head()"
   ]
  },
  {
   "cell_type": "code",
   "execution_count": 84,
   "id": "688c3d8d-bc26-4898-b79a-f2b1f878760e",
   "metadata": {
    "tags": []
   },
   "outputs": [
    {
     "data": {
      "text/plain": [
       "(16903, 92)"
      ]
     },
     "execution_count": 84,
     "metadata": {},
     "output_type": "execute_result"
    }
   ],
   "source": [
    "df.shape"
   ]
  },
  {
   "cell_type": "markdown",
   "id": "e82683cf-c644-40cf-b463-a5d39ff01acb",
   "metadata": {},
   "source": [
    "# Subsetting and Cleaning Workable Dataset"
   ]
  },
  {
   "cell_type": "markdown",
   "id": "7bacd0a7-182d-4dc7-be05-05c349eb3ceb",
   "metadata": {
    "tags": []
   },
   "source": [
    "## Drop entries where 'symbol' is null\n",
    "This removes ambiguous and government owned companies"
   ]
  },
  {
   "cell_type": "code",
   "execution_count": 85,
   "id": "f963027f-1d4f-42a8-a24e-1a0e3a5e59fb",
   "metadata": {
    "tags": []
   },
   "outputs": [
    {
     "name": "stdout",
     "output_type": "stream",
     "text": [
      "126\n"
     ]
    }
   ],
   "source": [
    "print(df['symbol'].isna().sum())"
   ]
  },
  {
   "cell_type": "code",
   "execution_count": 86,
   "id": "4340991b-ccee-4dc3-b3c7-f601a03d6222",
   "metadata": {
    "tags": []
   },
   "outputs": [
    {
     "name": "stdout",
     "output_type": "stream",
     "text": [
      "0\n"
     ]
    }
   ],
   "source": [
    "df = df.dropna(subset='symbol')\n",
    "print(df['symbol'].isna().sum())"
   ]
  },
  {
   "cell_type": "markdown",
   "id": "521450fe-b270-4924-82f2-f3a150f2d197",
   "metadata": {},
   "source": [
    "## Subset data into International, Private, and Public Companies"
   ]
  },
  {
   "cell_type": "code",
   "execution_count": 87,
   "id": "2df7d8af-8b90-4073-a322-f1b138e5cc1a",
   "metadata": {
    "tags": []
   },
   "outputs": [
    {
     "data": {
      "text/html": [
       "<div>\n",
       "<style scoped>\n",
       "    .dataframe tbody tr th:only-of-type {\n",
       "        vertical-align: middle;\n",
       "    }\n",
       "\n",
       "    .dataframe tbody tr th {\n",
       "        vertical-align: top;\n",
       "    }\n",
       "\n",
       "    .dataframe thead th {\n",
       "        text-align: right;\n",
       "    }\n",
       "</style>\n",
       "<table border=\"1\" class=\"dataframe\">\n",
       "  <thead>\n",
       "    <tr style=\"text-align: right;\">\n",
       "      <th></th>\n",
       "      <th>Unnamed: 0.1</th>\n",
       "      <th>Unnamed: 0</th>\n",
       "      <th>total_yearly_compensation</th>\n",
       "      <th>base_salary</th>\n",
       "      <th>bonus</th>\n",
       "      <th>company</th>\n",
       "      <th>city_id</th>\n",
       "      <th>location</th>\n",
       "      <th>state</th>\n",
       "      <th>city</th>\n",
       "      <th>...</th>\n",
       "      <th>pretax_margin</th>\n",
       "      <th>profit_margin</th>\n",
       "      <th>research_development_over_revenue</th>\n",
       "      <th>average_volume</th>\n",
       "      <th>relative_volume</th>\n",
       "      <th>rsi</th>\n",
       "      <th>tax_over_revenue</th>\n",
       "      <th>revenue_growth_this_quarter</th>\n",
       "      <th>revenue_growth_next_quarter</th>\n",
       "      <th>gender</th>\n",
       "    </tr>\n",
       "  </thead>\n",
       "  <tbody>\n",
       "    <tr>\n",
       "      <th>51</th>\n",
       "      <td>8099</td>\n",
       "      <td>51</td>\n",
       "      <td>107000</td>\n",
       "      <td>107000</td>\n",
       "      <td>5000</td>\n",
       "      <td>FUJITSU</td>\n",
       "      <td>7472</td>\n",
       "      <td>Sunnyvale, CA</td>\n",
       "      <td>CA</td>\n",
       "      <td>Sunnyvale</td>\n",
       "      <td>...</td>\n",
       "      <td>NaN</td>\n",
       "      <td>NaN</td>\n",
       "      <td>NaN</td>\n",
       "      <td>NaN</td>\n",
       "      <td>NaN</td>\n",
       "      <td>NaN</td>\n",
       "      <td>NaN</td>\n",
       "      <td>NaN</td>\n",
       "      <td>NaN</td>\n",
       "      <td>Male</td>\n",
       "    </tr>\n",
       "    <tr>\n",
       "      <th>150</th>\n",
       "      <td>8138</td>\n",
       "      <td>150</td>\n",
       "      <td>325000</td>\n",
       "      <td>150000</td>\n",
       "      <td>30000</td>\n",
       "      <td>INDEED</td>\n",
       "      <td>10965</td>\n",
       "      <td>Austin, TX</td>\n",
       "      <td>TX</td>\n",
       "      <td>Austin</td>\n",
       "      <td>...</td>\n",
       "      <td>NaN</td>\n",
       "      <td>NaN</td>\n",
       "      <td>NaN</td>\n",
       "      <td>NaN</td>\n",
       "      <td>NaN</td>\n",
       "      <td>NaN</td>\n",
       "      <td>NaN</td>\n",
       "      <td>NaN</td>\n",
       "      <td>NaN</td>\n",
       "      <td>Male</td>\n",
       "    </tr>\n",
       "    <tr>\n",
       "      <th>239</th>\n",
       "      <td>8068</td>\n",
       "      <td>239</td>\n",
       "      <td>40000</td>\n",
       "      <td>40000</td>\n",
       "      <td>1000</td>\n",
       "      <td>CAPGEMINI</td>\n",
       "      <td>18625</td>\n",
       "      <td>Italy, TX</td>\n",
       "      <td>TX</td>\n",
       "      <td>Italy</td>\n",
       "      <td>...</td>\n",
       "      <td>NaN</td>\n",
       "      <td>NaN</td>\n",
       "      <td>NaN</td>\n",
       "      <td>NaN</td>\n",
       "      <td>NaN</td>\n",
       "      <td>NaN</td>\n",
       "      <td>NaN</td>\n",
       "      <td>NaN</td>\n",
       "      <td>NaN</td>\n",
       "      <td>Male</td>\n",
       "    </tr>\n",
       "    <tr>\n",
       "      <th>243</th>\n",
       "      <td>8319</td>\n",
       "      <td>243</td>\n",
       "      <td>105000</td>\n",
       "      <td>100000</td>\n",
       "      <td>5000</td>\n",
       "      <td>SWISS RE</td>\n",
       "      <td>10182</td>\n",
       "      <td>New York, NY</td>\n",
       "      <td>NY</td>\n",
       "      <td>New York</td>\n",
       "      <td>...</td>\n",
       "      <td>NaN</td>\n",
       "      <td>NaN</td>\n",
       "      <td>NaN</td>\n",
       "      <td>NaN</td>\n",
       "      <td>NaN</td>\n",
       "      <td>NaN</td>\n",
       "      <td>NaN</td>\n",
       "      <td>NaN</td>\n",
       "      <td>NaN</td>\n",
       "      <td>Male</td>\n",
       "    </tr>\n",
       "    <tr>\n",
       "      <th>277</th>\n",
       "      <td>8257</td>\n",
       "      <td>277</td>\n",
       "      <td>73000</td>\n",
       "      <td>71000</td>\n",
       "      <td>2000</td>\n",
       "      <td>TATA CONSULTANCY SERVICES</td>\n",
       "      <td>11039</td>\n",
       "      <td>Dallas, TX</td>\n",
       "      <td>TX</td>\n",
       "      <td>Dallas</td>\n",
       "      <td>...</td>\n",
       "      <td>NaN</td>\n",
       "      <td>NaN</td>\n",
       "      <td>NaN</td>\n",
       "      <td>NaN</td>\n",
       "      <td>NaN</td>\n",
       "      <td>NaN</td>\n",
       "      <td>NaN</td>\n",
       "      <td>NaN</td>\n",
       "      <td>NaN</td>\n",
       "      <td>Male</td>\n",
       "    </tr>\n",
       "  </tbody>\n",
       "</table>\n",
       "<p>5 rows × 92 columns</p>\n",
       "</div>"
      ],
      "text/plain": [
       "     Unnamed: 0.1  Unnamed: 0  total_yearly_compensation  base_salary  bonus  \\\n",
       "51           8099          51                     107000       107000   5000   \n",
       "150          8138         150                     325000       150000  30000   \n",
       "239          8068         239                      40000        40000   1000   \n",
       "243          8319         243                     105000       100000   5000   \n",
       "277          8257         277                      73000        71000   2000   \n",
       "\n",
       "                       company  city_id       location state       city  ...  \\\n",
       "51                     FUJITSU     7472  Sunnyvale, CA    CA  Sunnyvale  ...   \n",
       "150                     INDEED    10965     Austin, TX    TX     Austin  ...   \n",
       "239                  CAPGEMINI    18625      Italy, TX    TX      Italy  ...   \n",
       "243                   SWISS RE    10182   New York, NY    NY   New York  ...   \n",
       "277  TATA CONSULTANCY SERVICES    11039     Dallas, TX    TX     Dallas  ...   \n",
       "\n",
       "    pretax_margin profit_margin research_development_over_revenue  \\\n",
       "51            NaN           NaN                               NaN   \n",
       "150           NaN           NaN                               NaN   \n",
       "239           NaN           NaN                               NaN   \n",
       "243           NaN           NaN                               NaN   \n",
       "277           NaN           NaN                               NaN   \n",
       "\n",
       "     average_volume  relative_volume  rsi  tax_over_revenue  \\\n",
       "51              NaN              NaN  NaN               NaN   \n",
       "150             NaN              NaN  NaN               NaN   \n",
       "239             NaN              NaN  NaN               NaN   \n",
       "243             NaN              NaN  NaN               NaN   \n",
       "277             NaN              NaN  NaN               NaN   \n",
       "\n",
       "     revenue_growth_this_quarter revenue_growth_next_quarter gender  \n",
       "51                           NaN                         NaN   Male  \n",
       "150                          NaN                         NaN   Male  \n",
       "239                          NaN                         NaN   Male  \n",
       "243                          NaN                         NaN   Male  \n",
       "277                          NaN                         NaN   Male  \n",
       "\n",
       "[5 rows x 92 columns]"
      ]
     },
     "execution_count": 87,
     "metadata": {},
     "output_type": "execute_result"
    }
   ],
   "source": [
    "international_companies = df.loc[df['symbol'] == 'INTERNATIONAL']\n",
    "international_companies.head()"
   ]
  },
  {
   "cell_type": "code",
   "execution_count": 88,
   "id": "abd3dccc-6e15-4d68-9573-68570029b76a",
   "metadata": {
    "tags": []
   },
   "outputs": [
    {
     "data": {
      "text/plain": [
       "(288, 92)"
      ]
     },
     "execution_count": 88,
     "metadata": {},
     "output_type": "execute_result"
    }
   ],
   "source": [
    "international_companies.shape"
   ]
  },
  {
   "cell_type": "code",
   "execution_count": 89,
   "id": "c0a9e85f-d0c8-4d26-bde0-71a352a91bc9",
   "metadata": {
    "tags": []
   },
   "outputs": [
    {
     "data": {
      "text/html": [
       "<div>\n",
       "<style scoped>\n",
       "    .dataframe tbody tr th:only-of-type {\n",
       "        vertical-align: middle;\n",
       "    }\n",
       "\n",
       "    .dataframe tbody tr th {\n",
       "        vertical-align: top;\n",
       "    }\n",
       "\n",
       "    .dataframe thead th {\n",
       "        text-align: right;\n",
       "    }\n",
       "</style>\n",
       "<table border=\"1\" class=\"dataframe\">\n",
       "  <thead>\n",
       "    <tr style=\"text-align: right;\">\n",
       "      <th></th>\n",
       "      <th>Unnamed: 0.1</th>\n",
       "      <th>Unnamed: 0</th>\n",
       "      <th>total_yearly_compensation</th>\n",
       "      <th>base_salary</th>\n",
       "      <th>bonus</th>\n",
       "      <th>company</th>\n",
       "      <th>city_id</th>\n",
       "      <th>location</th>\n",
       "      <th>state</th>\n",
       "      <th>city</th>\n",
       "      <th>...</th>\n",
       "      <th>pretax_margin</th>\n",
       "      <th>profit_margin</th>\n",
       "      <th>research_development_over_revenue</th>\n",
       "      <th>average_volume</th>\n",
       "      <th>relative_volume</th>\n",
       "      <th>rsi</th>\n",
       "      <th>tax_over_revenue</th>\n",
       "      <th>revenue_growth_this_quarter</th>\n",
       "      <th>revenue_growth_next_quarter</th>\n",
       "      <th>gender</th>\n",
       "    </tr>\n",
       "  </thead>\n",
       "  <tbody>\n",
       "    <tr>\n",
       "      <th>14</th>\n",
       "      <td>14082</td>\n",
       "      <td>14</td>\n",
       "      <td>365000</td>\n",
       "      <td>187000</td>\n",
       "      <td>38000</td>\n",
       "      <td>TWITTER</td>\n",
       "      <td>10182</td>\n",
       "      <td>New York, NY</td>\n",
       "      <td>NY</td>\n",
       "      <td>New York</td>\n",
       "      <td>...</td>\n",
       "      <td>NaN</td>\n",
       "      <td>NaN</td>\n",
       "      <td>NaN</td>\n",
       "      <td>NaN</td>\n",
       "      <td>NaN</td>\n",
       "      <td>NaN</td>\n",
       "      <td>NaN</td>\n",
       "      <td>NaN</td>\n",
       "      <td>NaN</td>\n",
       "      <td>Male</td>\n",
       "    </tr>\n",
       "    <tr>\n",
       "      <th>20</th>\n",
       "      <td>14446</td>\n",
       "      <td>20</td>\n",
       "      <td>300000</td>\n",
       "      <td>160000</td>\n",
       "      <td>40000</td>\n",
       "      <td>TANIUM</td>\n",
       "      <td>8198</td>\n",
       "      <td>Chicago, IL</td>\n",
       "      <td>IL</td>\n",
       "      <td>Chicago</td>\n",
       "      <td>...</td>\n",
       "      <td>NaN</td>\n",
       "      <td>NaN</td>\n",
       "      <td>NaN</td>\n",
       "      <td>NaN</td>\n",
       "      <td>NaN</td>\n",
       "      <td>NaN</td>\n",
       "      <td>NaN</td>\n",
       "      <td>NaN</td>\n",
       "      <td>NaN</td>\n",
       "      <td>Male</td>\n",
       "    </tr>\n",
       "    <tr>\n",
       "      <th>22</th>\n",
       "      <td>12717</td>\n",
       "      <td>22</td>\n",
       "      <td>493000</td>\n",
       "      <td>215000</td>\n",
       "      <td>54000</td>\n",
       "      <td>BYTEDANCE</td>\n",
       "      <td>7322</td>\n",
       "      <td>Mountain View, CA</td>\n",
       "      <td>CA</td>\n",
       "      <td>Mountain View</td>\n",
       "      <td>...</td>\n",
       "      <td>NaN</td>\n",
       "      <td>NaN</td>\n",
       "      <td>NaN</td>\n",
       "      <td>NaN</td>\n",
       "      <td>NaN</td>\n",
       "      <td>NaN</td>\n",
       "      <td>NaN</td>\n",
       "      <td>NaN</td>\n",
       "      <td>NaN</td>\n",
       "      <td>Female</td>\n",
       "    </tr>\n",
       "    <tr>\n",
       "      <th>23</th>\n",
       "      <td>14475</td>\n",
       "      <td>23</td>\n",
       "      <td>190000</td>\n",
       "      <td>180000</td>\n",
       "      <td>10000</td>\n",
       "      <td>TICKETMASTER</td>\n",
       "      <td>7275</td>\n",
       "      <td>Los Angeles, CA</td>\n",
       "      <td>CA</td>\n",
       "      <td>Los Angeles</td>\n",
       "      <td>...</td>\n",
       "      <td>NaN</td>\n",
       "      <td>NaN</td>\n",
       "      <td>NaN</td>\n",
       "      <td>NaN</td>\n",
       "      <td>NaN</td>\n",
       "      <td>NaN</td>\n",
       "      <td>NaN</td>\n",
       "      <td>NaN</td>\n",
       "      <td>NaN</td>\n",
       "      <td>Male</td>\n",
       "    </tr>\n",
       "    <tr>\n",
       "      <th>29</th>\n",
       "      <td>13501</td>\n",
       "      <td>29</td>\n",
       "      <td>266000</td>\n",
       "      <td>246000</td>\n",
       "      <td>20000</td>\n",
       "      <td>KPMG</td>\n",
       "      <td>10965</td>\n",
       "      <td>Austin, TX</td>\n",
       "      <td>TX</td>\n",
       "      <td>Austin</td>\n",
       "      <td>...</td>\n",
       "      <td>NaN</td>\n",
       "      <td>NaN</td>\n",
       "      <td>NaN</td>\n",
       "      <td>NaN</td>\n",
       "      <td>NaN</td>\n",
       "      <td>NaN</td>\n",
       "      <td>NaN</td>\n",
       "      <td>NaN</td>\n",
       "      <td>NaN</td>\n",
       "      <td>Male</td>\n",
       "    </tr>\n",
       "  </tbody>\n",
       "</table>\n",
       "<p>5 rows × 92 columns</p>\n",
       "</div>"
      ],
      "text/plain": [
       "    Unnamed: 0.1  Unnamed: 0  total_yearly_compensation  base_salary  bonus  \\\n",
       "14         14082          14                     365000       187000  38000   \n",
       "20         14446          20                     300000       160000  40000   \n",
       "22         12717          22                     493000       215000  54000   \n",
       "23         14475          23                     190000       180000  10000   \n",
       "29         13501          29                     266000       246000  20000   \n",
       "\n",
       "         company  city_id           location state           city  ...  \\\n",
       "14       TWITTER    10182       New York, NY    NY       New York  ...   \n",
       "20        TANIUM     8198        Chicago, IL    IL        Chicago  ...   \n",
       "22     BYTEDANCE     7322  Mountain View, CA    CA  Mountain View  ...   \n",
       "23  TICKETMASTER     7275    Los Angeles, CA    CA    Los Angeles  ...   \n",
       "29          KPMG    10965         Austin, TX    TX         Austin  ...   \n",
       "\n",
       "   pretax_margin profit_margin research_development_over_revenue  \\\n",
       "14           NaN           NaN                               NaN   \n",
       "20           NaN           NaN                               NaN   \n",
       "22           NaN           NaN                               NaN   \n",
       "23           NaN           NaN                               NaN   \n",
       "29           NaN           NaN                               NaN   \n",
       "\n",
       "    average_volume  relative_volume  rsi  tax_over_revenue  \\\n",
       "14             NaN              NaN  NaN               NaN   \n",
       "20             NaN              NaN  NaN               NaN   \n",
       "22             NaN              NaN  NaN               NaN   \n",
       "23             NaN              NaN  NaN               NaN   \n",
       "29             NaN              NaN  NaN               NaN   \n",
       "\n",
       "    revenue_growth_this_quarter revenue_growth_next_quarter  gender  \n",
       "14                          NaN                         NaN    Male  \n",
       "20                          NaN                         NaN    Male  \n",
       "22                          NaN                         NaN  Female  \n",
       "23                          NaN                         NaN    Male  \n",
       "29                          NaN                         NaN    Male  \n",
       "\n",
       "[5 rows x 92 columns]"
      ]
     },
     "execution_count": 89,
     "metadata": {},
     "output_type": "execute_result"
    }
   ],
   "source": [
    "private_companies = df.loc[df['symbol'] == 'PRIVATE']\n",
    "private_companies.head()"
   ]
  },
  {
   "cell_type": "code",
   "execution_count": 90,
   "id": "bea3aa85-7359-4892-bac0-6e25c0a5c831",
   "metadata": {
    "tags": []
   },
   "outputs": [
    {
     "data": {
      "text/plain": [
       "(2281, 92)"
      ]
     },
     "execution_count": 90,
     "metadata": {},
     "output_type": "execute_result"
    }
   ],
   "source": [
    "private_companies.shape"
   ]
  },
  {
   "cell_type": "code",
   "execution_count": 91,
   "id": "d7173991-a237-4e76-ac27-79d2d60881d6",
   "metadata": {
    "tags": []
   },
   "outputs": [
    {
     "data": {
      "text/html": [
       "<div>\n",
       "<style scoped>\n",
       "    .dataframe tbody tr th:only-of-type {\n",
       "        vertical-align: middle;\n",
       "    }\n",
       "\n",
       "    .dataframe tbody tr th {\n",
       "        vertical-align: top;\n",
       "    }\n",
       "\n",
       "    .dataframe thead th {\n",
       "        text-align: right;\n",
       "    }\n",
       "</style>\n",
       "<table border=\"1\" class=\"dataframe\">\n",
       "  <thead>\n",
       "    <tr style=\"text-align: right;\">\n",
       "      <th></th>\n",
       "      <th>Unnamed: 0.1</th>\n",
       "      <th>Unnamed: 0</th>\n",
       "      <th>total_yearly_compensation</th>\n",
       "      <th>base_salary</th>\n",
       "      <th>bonus</th>\n",
       "      <th>company</th>\n",
       "      <th>city_id</th>\n",
       "      <th>location</th>\n",
       "      <th>state</th>\n",
       "      <th>city</th>\n",
       "      <th>...</th>\n",
       "      <th>pretax_margin</th>\n",
       "      <th>profit_margin</th>\n",
       "      <th>research_development_over_revenue</th>\n",
       "      <th>average_volume</th>\n",
       "      <th>relative_volume</th>\n",
       "      <th>rsi</th>\n",
       "      <th>tax_over_revenue</th>\n",
       "      <th>revenue_growth_this_quarter</th>\n",
       "      <th>revenue_growth_next_quarter</th>\n",
       "      <th>gender</th>\n",
       "    </tr>\n",
       "  </thead>\n",
       "  <tbody>\n",
       "    <tr>\n",
       "      <th>0</th>\n",
       "      <td>5928</td>\n",
       "      <td>0</td>\n",
       "      <td>400000</td>\n",
       "      <td>210000</td>\n",
       "      <td>45000</td>\n",
       "      <td>ALPHABET</td>\n",
       "      <td>7472</td>\n",
       "      <td>Sunnyvale, CA</td>\n",
       "      <td>CA</td>\n",
       "      <td>Sunnyvale</td>\n",
       "      <td>...</td>\n",
       "      <td>27.89%</td>\n",
       "      <td>24.01%</td>\n",
       "      <td>14.78%</td>\n",
       "      <td>22956359.0</td>\n",
       "      <td>72.27%</td>\n",
       "      <td>64.81</td>\n",
       "      <td>3.88%</td>\n",
       "      <td>16.00%</td>\n",
       "      <td>14.35%</td>\n",
       "      <td>Male</td>\n",
       "    </tr>\n",
       "    <tr>\n",
       "      <th>1</th>\n",
       "      <td>10063</td>\n",
       "      <td>1</td>\n",
       "      <td>136000</td>\n",
       "      <td>124000</td>\n",
       "      <td>11000</td>\n",
       "      <td>MICROSOFT</td>\n",
       "      <td>11521</td>\n",
       "      <td>Redmond, WA</td>\n",
       "      <td>WA</td>\n",
       "      <td>Redmond</td>\n",
       "      <td>...</td>\n",
       "      <td>44.47%</td>\n",
       "      <td>36.27%</td>\n",
       "      <td>12.09%</td>\n",
       "      <td>22842031.0</td>\n",
       "      <td>72.63%</td>\n",
       "      <td>56.25</td>\n",
       "      <td>8.20%</td>\n",
       "      <td>17.27%</td>\n",
       "      <td>17.13%</td>\n",
       "      <td>Male</td>\n",
       "    </tr>\n",
       "    <tr>\n",
       "      <th>2</th>\n",
       "      <td>5929</td>\n",
       "      <td>2</td>\n",
       "      <td>337000</td>\n",
       "      <td>177000</td>\n",
       "      <td>36000</td>\n",
       "      <td>ALPHABET</td>\n",
       "      <td>7413</td>\n",
       "      <td>San Bruno, CA</td>\n",
       "      <td>CA</td>\n",
       "      <td>San Bruno</td>\n",
       "      <td>...</td>\n",
       "      <td>27.89%</td>\n",
       "      <td>24.01%</td>\n",
       "      <td>14.78%</td>\n",
       "      <td>22956359.0</td>\n",
       "      <td>72.27%</td>\n",
       "      <td>64.81</td>\n",
       "      <td>3.88%</td>\n",
       "      <td>16.00%</td>\n",
       "      <td>14.35%</td>\n",
       "      <td>Male</td>\n",
       "    </tr>\n",
       "    <tr>\n",
       "      <th>3</th>\n",
       "      <td>10064</td>\n",
       "      <td>3</td>\n",
       "      <td>222000</td>\n",
       "      <td>164000</td>\n",
       "      <td>20000</td>\n",
       "      <td>MICROSOFT</td>\n",
       "      <td>11527</td>\n",
       "      <td>Seattle, WA</td>\n",
       "      <td>WA</td>\n",
       "      <td>Seattle</td>\n",
       "      <td>...</td>\n",
       "      <td>44.47%</td>\n",
       "      <td>36.27%</td>\n",
       "      <td>12.09%</td>\n",
       "      <td>22842031.0</td>\n",
       "      <td>72.63%</td>\n",
       "      <td>56.25</td>\n",
       "      <td>8.20%</td>\n",
       "      <td>17.27%</td>\n",
       "      <td>17.13%</td>\n",
       "      <td>Male</td>\n",
       "    </tr>\n",
       "    <tr>\n",
       "      <th>4</th>\n",
       "      <td>3787</td>\n",
       "      <td>4</td>\n",
       "      <td>187000</td>\n",
       "      <td>165000</td>\n",
       "      <td>0</td>\n",
       "      <td>BLEND</td>\n",
       "      <td>7419</td>\n",
       "      <td>San Francisco, CA</td>\n",
       "      <td>CA</td>\n",
       "      <td>San Francisco</td>\n",
       "      <td>...</td>\n",
       "      <td>-113.87%</td>\n",
       "      <td>-118.15%</td>\n",
       "      <td>52.02%</td>\n",
       "      <td>1863929.0</td>\n",
       "      <td>43.24%</td>\n",
       "      <td>56.52</td>\n",
       "      <td>0.06%</td>\n",
       "      <td>-5.65%</td>\n",
       "      <td>-0.47%</td>\n",
       "      <td>Male</td>\n",
       "    </tr>\n",
       "  </tbody>\n",
       "</table>\n",
       "<p>5 rows × 92 columns</p>\n",
       "</div>"
      ],
      "text/plain": [
       "   Unnamed: 0.1  Unnamed: 0  total_yearly_compensation  base_salary  bonus  \\\n",
       "0          5928           0                     400000       210000  45000   \n",
       "1         10063           1                     136000       124000  11000   \n",
       "2          5929           2                     337000       177000  36000   \n",
       "3         10064           3                     222000       164000  20000   \n",
       "4          3787           4                     187000       165000      0   \n",
       "\n",
       "     company  city_id           location state           city  ...  \\\n",
       "0   ALPHABET     7472      Sunnyvale, CA    CA      Sunnyvale  ...   \n",
       "1  MICROSOFT    11521        Redmond, WA    WA        Redmond  ...   \n",
       "2   ALPHABET     7413      San Bruno, CA    CA      San Bruno  ...   \n",
       "3  MICROSOFT    11527        Seattle, WA    WA        Seattle  ...   \n",
       "4      BLEND     7419  San Francisco, CA    CA  San Francisco  ...   \n",
       "\n",
       "  pretax_margin profit_margin research_development_over_revenue  \\\n",
       "0        27.89%        24.01%                            14.78%   \n",
       "1        44.47%        36.27%                            12.09%   \n",
       "2        27.89%        24.01%                            14.78%   \n",
       "3        44.47%        36.27%                            12.09%   \n",
       "4      -113.87%      -118.15%                            52.02%   \n",
       "\n",
       "   average_volume  relative_volume    rsi  tax_over_revenue  \\\n",
       "0      22956359.0           72.27%  64.81             3.88%   \n",
       "1      22842031.0           72.63%  56.25             8.20%   \n",
       "2      22956359.0           72.27%  64.81             3.88%   \n",
       "3      22842031.0           72.63%  56.25             8.20%   \n",
       "4       1863929.0           43.24%  56.52             0.06%   \n",
       "\n",
       "   revenue_growth_this_quarter revenue_growth_next_quarter gender  \n",
       "0                       16.00%                      14.35%   Male  \n",
       "1                       17.27%                      17.13%   Male  \n",
       "2                       16.00%                      14.35%   Male  \n",
       "3                       17.27%                      17.13%   Male  \n",
       "4                       -5.65%                      -0.47%   Male  \n",
       "\n",
       "[5 rows x 92 columns]"
      ]
     },
     "execution_count": 91,
     "metadata": {},
     "output_type": "execute_result"
    }
   ],
   "source": [
    "public_companies = df.drop(df[df['symbol'] == 'PRIVATE'].index)\n",
    "public_companies.head()"
   ]
  },
  {
   "cell_type": "code",
   "execution_count": 92,
   "id": "7f6bb3d1-33b6-41af-a974-fd60fdc193f6",
   "metadata": {
    "tags": []
   },
   "outputs": [
    {
     "data": {
      "text/plain": [
       "(14496, 92)"
      ]
     },
     "execution_count": 92,
     "metadata": {},
     "output_type": "execute_result"
    }
   ],
   "source": [
    "public_companies.shape"
   ]
  },
  {
   "cell_type": "code",
   "execution_count": 93,
   "id": "7c1b1fe8-69a0-4e8b-9a0c-3425ffd8ec57",
   "metadata": {
    "tags": []
   },
   "outputs": [],
   "source": [
    "public_companies = public_companies.drop(public_companies[public_companies['symbol'] == 'INTERNATIONAL'].index)"
   ]
  },
  {
   "cell_type": "code",
   "execution_count": 94,
   "id": "de60653c-3aab-4bf1-a0c9-f5de3cfbb20d",
   "metadata": {
    "tags": []
   },
   "outputs": [
    {
     "data": {
      "text/plain": [
       "(14208, 92)"
      ]
     },
     "execution_count": 94,
     "metadata": {},
     "output_type": "execute_result"
    }
   ],
   "source": [
    "public_companies.shape"
   ]
  },
  {
   "cell_type": "markdown",
   "id": "a5cb2725-691b-4ea4-b298-702c0ee36d8d",
   "metadata": {},
   "source": [
    "# Subsetting Columns for Investigation"
   ]
  },
  {
   "cell_type": "markdown",
   "id": "156a7932-ce64-4a2d-b3ad-efe041852492",
   "metadata": {
    "tags": []
   },
   "source": [
    "### Columns to be included\n",
    "base_salary, years_of_experience, years_at_company, race, gender, education, industry, mc_group, sector, employees, cash_over_market_cap, revenue_per_employee, profit_per_employee, debt_growth_year_over_year, rsi  "
   ]
  },
  {
   "cell_type": "code",
   "execution_count": 95,
   "id": "97ceeeaa-7bc5-403a-a762-eddc1c86e930",
   "metadata": {
    "tags": []
   },
   "outputs": [],
   "source": [
    "public_companies = public_companies[['base_salary', 'total_yearly_compensation', 'title', 'years_of_experience', \n",
    "                                            'years_at_company', 'education', 'race', 'gender', 'mc_group', 'sector', \n",
    "                                            'industry', 'employees', 'revenue_per_employee', 'profit_per_employee',\n",
    "                                            'cash_over_market_cap', 'debt_growth_year_over_year', 'rsi']]"
   ]
  },
  {
   "cell_type": "code",
   "execution_count": 96,
   "id": "92c8be4d-d70a-435e-a53e-44e8c69bc906",
   "metadata": {
    "tags": []
   },
   "outputs": [
    {
     "data": {
      "text/html": [
       "<div>\n",
       "<style scoped>\n",
       "    .dataframe tbody tr th:only-of-type {\n",
       "        vertical-align: middle;\n",
       "    }\n",
       "\n",
       "    .dataframe tbody tr th {\n",
       "        vertical-align: top;\n",
       "    }\n",
       "\n",
       "    .dataframe thead th {\n",
       "        text-align: right;\n",
       "    }\n",
       "</style>\n",
       "<table border=\"1\" class=\"dataframe\">\n",
       "  <thead>\n",
       "    <tr style=\"text-align: right;\">\n",
       "      <th></th>\n",
       "      <th>base_salary</th>\n",
       "      <th>total_yearly_compensation</th>\n",
       "      <th>title</th>\n",
       "      <th>years_of_experience</th>\n",
       "      <th>years_at_company</th>\n",
       "      <th>education</th>\n",
       "      <th>race</th>\n",
       "      <th>gender</th>\n",
       "      <th>mc_group</th>\n",
       "      <th>sector</th>\n",
       "      <th>industry</th>\n",
       "      <th>employees</th>\n",
       "      <th>revenue_per_employee</th>\n",
       "      <th>profit_per_employee</th>\n",
       "      <th>cash_over_market_cap</th>\n",
       "      <th>debt_growth_year_over_year</th>\n",
       "      <th>rsi</th>\n",
       "    </tr>\n",
       "  </thead>\n",
       "  <tbody>\n",
       "    <tr>\n",
       "      <th>0</th>\n",
       "      <td>210000</td>\n",
       "      <td>400000</td>\n",
       "      <td>Software Engineer</td>\n",
       "      <td>5</td>\n",
       "      <td>5</td>\n",
       "      <td>PhD</td>\n",
       "      <td>Asian</td>\n",
       "      <td>Male</td>\n",
       "      <td>Mega-Cap</td>\n",
       "      <td>Communication Services</td>\n",
       "      <td>Internet Content &amp; Information</td>\n",
       "      <td>182381.0</td>\n",
       "      <td>1685450.0</td>\n",
       "      <td>404620.0</td>\n",
       "      <td>4.54%</td>\n",
       "      <td>-5.47%</td>\n",
       "      <td>64.81</td>\n",
       "    </tr>\n",
       "    <tr>\n",
       "      <th>1</th>\n",
       "      <td>124000</td>\n",
       "      <td>136000</td>\n",
       "      <td>Software Engineer</td>\n",
       "      <td>3</td>\n",
       "      <td>2</td>\n",
       "      <td>Bachelor's Degree</td>\n",
       "      <td>Two Or More</td>\n",
       "      <td>Male</td>\n",
       "      <td>Mega-Cap</td>\n",
       "      <td>Technology</td>\n",
       "      <td>Software - Infrastructure</td>\n",
       "      <td>221000.0</td>\n",
       "      <td>1029787.0</td>\n",
       "      <td>373489.0</td>\n",
       "      <td>-0.23%</td>\n",
       "      <td>47.01%</td>\n",
       "      <td>56.25</td>\n",
       "    </tr>\n",
       "    <tr>\n",
       "      <th>2</th>\n",
       "      <td>177000</td>\n",
       "      <td>337000</td>\n",
       "      <td>Software Engineer</td>\n",
       "      <td>6</td>\n",
       "      <td>6</td>\n",
       "      <td>Bachelor's Degree</td>\n",
       "      <td>Asian</td>\n",
       "      <td>Male</td>\n",
       "      <td>Mega-Cap</td>\n",
       "      <td>Communication Services</td>\n",
       "      <td>Internet Content &amp; Information</td>\n",
       "      <td>182381.0</td>\n",
       "      <td>1685450.0</td>\n",
       "      <td>404620.0</td>\n",
       "      <td>4.54%</td>\n",
       "      <td>-5.47%</td>\n",
       "      <td>64.81</td>\n",
       "    </tr>\n",
       "    <tr>\n",
       "      <th>3</th>\n",
       "      <td>164000</td>\n",
       "      <td>222000</td>\n",
       "      <td>Software Engineer</td>\n",
       "      <td>4</td>\n",
       "      <td>4</td>\n",
       "      <td>Master's Degree</td>\n",
       "      <td>Asian</td>\n",
       "      <td>Male</td>\n",
       "      <td>Mega-Cap</td>\n",
       "      <td>Technology</td>\n",
       "      <td>Software - Infrastructure</td>\n",
       "      <td>221000.0</td>\n",
       "      <td>1029787.0</td>\n",
       "      <td>373489.0</td>\n",
       "      <td>-0.23%</td>\n",
       "      <td>47.01%</td>\n",
       "      <td>56.25</td>\n",
       "    </tr>\n",
       "    <tr>\n",
       "      <th>4</th>\n",
       "      <td>165000</td>\n",
       "      <td>187000</td>\n",
       "      <td>Software Engineer</td>\n",
       "      <td>5</td>\n",
       "      <td>0</td>\n",
       "      <td>Bachelor's Degree</td>\n",
       "      <td>White</td>\n",
       "      <td>Male</td>\n",
       "      <td>Small-Cap</td>\n",
       "      <td>Technology</td>\n",
       "      <td>Software - Application</td>\n",
       "      <td>881.0</td>\n",
       "      <td>178032.0</td>\n",
       "      <td>-210352.0</td>\n",
       "      <td>-1.06%</td>\n",
       "      <td>-36.23%</td>\n",
       "      <td>56.52</td>\n",
       "    </tr>\n",
       "  </tbody>\n",
       "</table>\n",
       "</div>"
      ],
      "text/plain": [
       "   base_salary  total_yearly_compensation              title  \\\n",
       "0       210000                     400000  Software Engineer   \n",
       "1       124000                     136000  Software Engineer   \n",
       "2       177000                     337000  Software Engineer   \n",
       "3       164000                     222000  Software Engineer   \n",
       "4       165000                     187000  Software Engineer   \n",
       "\n",
       "   years_of_experience  years_at_company          education         race  \\\n",
       "0                    5                 5                PhD        Asian   \n",
       "1                    3                 2  Bachelor's Degree  Two Or More   \n",
       "2                    6                 6  Bachelor's Degree        Asian   \n",
       "3                    4                 4    Master's Degree        Asian   \n",
       "4                    5                 0  Bachelor's Degree        White   \n",
       "\n",
       "  gender   mc_group                  sector                        industry  \\\n",
       "0   Male   Mega-Cap  Communication Services  Internet Content & Information   \n",
       "1   Male   Mega-Cap              Technology       Software - Infrastructure   \n",
       "2   Male   Mega-Cap  Communication Services  Internet Content & Information   \n",
       "3   Male   Mega-Cap              Technology       Software - Infrastructure   \n",
       "4   Male  Small-Cap              Technology          Software - Application   \n",
       "\n",
       "   employees  revenue_per_employee  profit_per_employee cash_over_market_cap  \\\n",
       "0   182381.0             1685450.0             404620.0                4.54%   \n",
       "1   221000.0             1029787.0             373489.0               -0.23%   \n",
       "2   182381.0             1685450.0             404620.0                4.54%   \n",
       "3   221000.0             1029787.0             373489.0               -0.23%   \n",
       "4      881.0              178032.0            -210352.0               -1.06%   \n",
       "\n",
       "  debt_growth_year_over_year    rsi  \n",
       "0                     -5.47%  64.81  \n",
       "1                     47.01%  56.25  \n",
       "2                     -5.47%  64.81  \n",
       "3                     47.01%  56.25  \n",
       "4                    -36.23%  56.52  "
      ]
     },
     "execution_count": 96,
     "metadata": {},
     "output_type": "execute_result"
    }
   ],
   "source": [
    "public_companies.head()"
   ]
  },
  {
   "cell_type": "code",
   "execution_count": 97,
   "id": "c9704e49-0eb6-46b0-bbca-6d9b649fed8f",
   "metadata": {
    "tags": []
   },
   "outputs": [
    {
     "data": {
      "text/plain": [
       "base_salary                     0\n",
       "total_yearly_compensation       0\n",
       "title                           0\n",
       "years_of_experience             0\n",
       "years_at_company                0\n",
       "education                       0\n",
       "race                            0\n",
       "gender                          0\n",
       "mc_group                        0\n",
       "sector                          0\n",
       "industry                        0\n",
       "employees                      11\n",
       "revenue_per_employee           32\n",
       "profit_per_employee            22\n",
       "cash_over_market_cap            0\n",
       "debt_growth_year_over_year    144\n",
       "rsi                             8\n",
       "dtype: int64"
      ]
     },
     "execution_count": 97,
     "metadata": {},
     "output_type": "execute_result"
    }
   ],
   "source": [
    "public_companies.isna().sum()"
   ]
  },
  {
   "cell_type": "markdown",
   "id": "56bf6405-a2c4-4c1b-ab44-fbc4596658a7",
   "metadata": {},
   "source": [
    "# Data Normalization"
   ]
  },
  {
   "cell_type": "code",
   "execution_count": 98,
   "id": "b63fbc4e-ece8-4b34-95cd-c9775a0e87fb",
   "metadata": {
    "tags": []
   },
   "outputs": [],
   "source": [
    "public_companies['total_yearly_compensation_norm'] = public_companies['total_yearly_compensation'].div(100000).round(8)\n",
    "public_companies['base_salary_norm'] = public_companies['base_salary'].div(100000).round(8)\n",
    "public_companies['employees_norm'] = public_companies['employees'].div(100000).round(8)\n",
    "public_companies['revenue_per_employee_norm'] = public_companies['revenue_per_employee'].div(100000).round(8)\n",
    "public_companies['profit_per_employee_norm'] = public_companies['profit_per_employee'].div(100000).round(8)"
   ]
  },
  {
   "cell_type": "code",
   "execution_count": 99,
   "id": "db971aa7-8648-4c74-b77c-fa8acd5ee9db",
   "metadata": {
    "tags": []
   },
   "outputs": [
    {
     "data": {
      "text/html": [
       "<div>\n",
       "<style scoped>\n",
       "    .dataframe tbody tr th:only-of-type {\n",
       "        vertical-align: middle;\n",
       "    }\n",
       "\n",
       "    .dataframe tbody tr th {\n",
       "        vertical-align: top;\n",
       "    }\n",
       "\n",
       "    .dataframe thead th {\n",
       "        text-align: right;\n",
       "    }\n",
       "</style>\n",
       "<table border=\"1\" class=\"dataframe\">\n",
       "  <thead>\n",
       "    <tr style=\"text-align: right;\">\n",
       "      <th></th>\n",
       "      <th>total_yearly_compensation</th>\n",
       "      <th>total_yearly_compensation_norm</th>\n",
       "      <th>base_salary</th>\n",
       "      <th>base_salary_norm</th>\n",
       "      <th>employees</th>\n",
       "      <th>employees_norm</th>\n",
       "      <th>revenue_per_employee</th>\n",
       "      <th>revenue_per_employee_norm</th>\n",
       "      <th>profit_per_employee</th>\n",
       "      <th>profit_per_employee_norm</th>\n",
       "    </tr>\n",
       "  </thead>\n",
       "  <tbody>\n",
       "    <tr>\n",
       "      <th>0</th>\n",
       "      <td>400000</td>\n",
       "      <td>4.00</td>\n",
       "      <td>210000</td>\n",
       "      <td>2.10</td>\n",
       "      <td>182381.0</td>\n",
       "      <td>1.82381</td>\n",
       "      <td>1685450.0</td>\n",
       "      <td>16.85450</td>\n",
       "      <td>404620.0</td>\n",
       "      <td>4.04620</td>\n",
       "    </tr>\n",
       "    <tr>\n",
       "      <th>1</th>\n",
       "      <td>136000</td>\n",
       "      <td>1.36</td>\n",
       "      <td>124000</td>\n",
       "      <td>1.24</td>\n",
       "      <td>221000.0</td>\n",
       "      <td>2.21000</td>\n",
       "      <td>1029787.0</td>\n",
       "      <td>10.29787</td>\n",
       "      <td>373489.0</td>\n",
       "      <td>3.73489</td>\n",
       "    </tr>\n",
       "    <tr>\n",
       "      <th>2</th>\n",
       "      <td>337000</td>\n",
       "      <td>3.37</td>\n",
       "      <td>177000</td>\n",
       "      <td>1.77</td>\n",
       "      <td>182381.0</td>\n",
       "      <td>1.82381</td>\n",
       "      <td>1685450.0</td>\n",
       "      <td>16.85450</td>\n",
       "      <td>404620.0</td>\n",
       "      <td>4.04620</td>\n",
       "    </tr>\n",
       "    <tr>\n",
       "      <th>3</th>\n",
       "      <td>222000</td>\n",
       "      <td>2.22</td>\n",
       "      <td>164000</td>\n",
       "      <td>1.64</td>\n",
       "      <td>221000.0</td>\n",
       "      <td>2.21000</td>\n",
       "      <td>1029787.0</td>\n",
       "      <td>10.29787</td>\n",
       "      <td>373489.0</td>\n",
       "      <td>3.73489</td>\n",
       "    </tr>\n",
       "    <tr>\n",
       "      <th>4</th>\n",
       "      <td>187000</td>\n",
       "      <td>1.87</td>\n",
       "      <td>165000</td>\n",
       "      <td>1.65</td>\n",
       "      <td>881.0</td>\n",
       "      <td>0.00881</td>\n",
       "      <td>178032.0</td>\n",
       "      <td>1.78032</td>\n",
       "      <td>-210352.0</td>\n",
       "      <td>-2.10352</td>\n",
       "    </tr>\n",
       "  </tbody>\n",
       "</table>\n",
       "</div>"
      ],
      "text/plain": [
       "   total_yearly_compensation  total_yearly_compensation_norm  base_salary  \\\n",
       "0                     400000                            4.00       210000   \n",
       "1                     136000                            1.36       124000   \n",
       "2                     337000                            3.37       177000   \n",
       "3                     222000                            2.22       164000   \n",
       "4                     187000                            1.87       165000   \n",
       "\n",
       "   base_salary_norm  employees  employees_norm  revenue_per_employee  \\\n",
       "0              2.10   182381.0         1.82381             1685450.0   \n",
       "1              1.24   221000.0         2.21000             1029787.0   \n",
       "2              1.77   182381.0         1.82381             1685450.0   \n",
       "3              1.64   221000.0         2.21000             1029787.0   \n",
       "4              1.65      881.0         0.00881              178032.0   \n",
       "\n",
       "   revenue_per_employee_norm  profit_per_employee  profit_per_employee_norm  \n",
       "0                   16.85450             404620.0                   4.04620  \n",
       "1                   10.29787             373489.0                   3.73489  \n",
       "2                   16.85450             404620.0                   4.04620  \n",
       "3                   10.29787             373489.0                   3.73489  \n",
       "4                    1.78032            -210352.0                  -2.10352  "
      ]
     },
     "execution_count": 99,
     "metadata": {},
     "output_type": "execute_result"
    }
   ],
   "source": [
    "public_companies.loc[:,['total_yearly_compensation','total_yearly_compensation_norm',\n",
    "                        'base_salary', 'base_salary_norm', 'employees', 'employees_norm',\n",
    "                        'revenue_per_employee', 'revenue_per_employee_norm',\n",
    "                        'profit_per_employee', 'profit_per_employee_norm']].head()"
   ]
  },
  {
   "cell_type": "code",
   "execution_count": 100,
   "id": "5e4584be-152a-47b3-a14f-473b8f6c424b",
   "metadata": {
    "tags": []
   },
   "outputs": [],
   "source": [
    "public_companies['debt_growth_year_over_year_norm'] = public_companies['debt_growth_year_over_year'].str.rstrip('%')\n",
    "public_companies['debt_growth_year_over_year_norm'] = public_companies['debt_growth_year_over_year_norm'].astype(float)\n",
    "public_companies['debt_growth_year_over_year_norm'] = public_companies['debt_growth_year_over_year_norm'].div(100).round(8)"
   ]
  },
  {
   "cell_type": "code",
   "execution_count": 101,
   "id": "f2a3cdb9-224b-4865-859a-7e4d3f0d2cab",
   "metadata": {
    "tags": []
   },
   "outputs": [],
   "source": [
    "public_companies['cash_over_market_cap_norm'] = public_companies['cash_over_market_cap'].str.rstrip('%')\n",
    "public_companies['cash_over_market_cap_norm'] = public_companies['cash_over_market_cap_norm'].astype(float)\n",
    "public_companies['cash_over_market_cap_norm'] = public_companies['cash_over_market_cap_norm'].div(100).round(8)"
   ]
  },
  {
   "cell_type": "code",
   "execution_count": 102,
   "id": "c61a69eb-2ef2-49ab-89b7-d1f197d61d64",
   "metadata": {
    "tags": []
   },
   "outputs": [
    {
     "data": {
      "text/html": [
       "<div>\n",
       "<style scoped>\n",
       "    .dataframe tbody tr th:only-of-type {\n",
       "        vertical-align: middle;\n",
       "    }\n",
       "\n",
       "    .dataframe tbody tr th {\n",
       "        vertical-align: top;\n",
       "    }\n",
       "\n",
       "    .dataframe thead th {\n",
       "        text-align: right;\n",
       "    }\n",
       "</style>\n",
       "<table border=\"1\" class=\"dataframe\">\n",
       "  <thead>\n",
       "    <tr style=\"text-align: right;\">\n",
       "      <th></th>\n",
       "      <th>debt_growth_year_over_year</th>\n",
       "      <th>debt_growth_year_over_year_norm</th>\n",
       "      <th>cash_over_market_cap</th>\n",
       "      <th>cash_over_market_cap_norm</th>\n",
       "    </tr>\n",
       "  </thead>\n",
       "  <tbody>\n",
       "    <tr>\n",
       "      <th>0</th>\n",
       "      <td>-5.47%</td>\n",
       "      <td>-0.0547</td>\n",
       "      <td>4.54%</td>\n",
       "      <td>0.0454</td>\n",
       "    </tr>\n",
       "    <tr>\n",
       "      <th>1</th>\n",
       "      <td>47.01%</td>\n",
       "      <td>0.4701</td>\n",
       "      <td>-0.23%</td>\n",
       "      <td>-0.0023</td>\n",
       "    </tr>\n",
       "    <tr>\n",
       "      <th>2</th>\n",
       "      <td>-5.47%</td>\n",
       "      <td>-0.0547</td>\n",
       "      <td>4.54%</td>\n",
       "      <td>0.0454</td>\n",
       "    </tr>\n",
       "    <tr>\n",
       "      <th>3</th>\n",
       "      <td>47.01%</td>\n",
       "      <td>0.4701</td>\n",
       "      <td>-0.23%</td>\n",
       "      <td>-0.0023</td>\n",
       "    </tr>\n",
       "    <tr>\n",
       "      <th>4</th>\n",
       "      <td>-36.23%</td>\n",
       "      <td>-0.3623</td>\n",
       "      <td>-1.06%</td>\n",
       "      <td>-0.0106</td>\n",
       "    </tr>\n",
       "    <tr>\n",
       "      <th>...</th>\n",
       "      <td>...</td>\n",
       "      <td>...</td>\n",
       "      <td>...</td>\n",
       "      <td>...</td>\n",
       "    </tr>\n",
       "    <tr>\n",
       "      <th>16897</th>\n",
       "      <td>93.22%</td>\n",
       "      <td>0.9322</td>\n",
       "      <td>-10.22%</td>\n",
       "      <td>-0.1022</td>\n",
       "    </tr>\n",
       "    <tr>\n",
       "      <th>16898</th>\n",
       "      <td>40.02%</td>\n",
       "      <td>0.4002</td>\n",
       "      <td>2.23%</td>\n",
       "      <td>0.0223</td>\n",
       "    </tr>\n",
       "    <tr>\n",
       "      <th>16899</th>\n",
       "      <td>-5.47%</td>\n",
       "      <td>-0.0547</td>\n",
       "      <td>4.54%</td>\n",
       "      <td>0.0454</td>\n",
       "    </tr>\n",
       "    <tr>\n",
       "      <th>16901</th>\n",
       "      <td>40.02%</td>\n",
       "      <td>0.4002</td>\n",
       "      <td>2.23%</td>\n",
       "      <td>0.0223</td>\n",
       "    </tr>\n",
       "    <tr>\n",
       "      <th>16902</th>\n",
       "      <td>40.02%</td>\n",
       "      <td>0.4002</td>\n",
       "      <td>2.23%</td>\n",
       "      <td>0.0223</td>\n",
       "    </tr>\n",
       "  </tbody>\n",
       "</table>\n",
       "<p>14208 rows × 4 columns</p>\n",
       "</div>"
      ],
      "text/plain": [
       "      debt_growth_year_over_year  debt_growth_year_over_year_norm  \\\n",
       "0                         -5.47%                          -0.0547   \n",
       "1                         47.01%                           0.4701   \n",
       "2                         -5.47%                          -0.0547   \n",
       "3                         47.01%                           0.4701   \n",
       "4                        -36.23%                          -0.3623   \n",
       "...                          ...                              ...   \n",
       "16897                     93.22%                           0.9322   \n",
       "16898                     40.02%                           0.4002   \n",
       "16899                     -5.47%                          -0.0547   \n",
       "16901                     40.02%                           0.4002   \n",
       "16902                     40.02%                           0.4002   \n",
       "\n",
       "      cash_over_market_cap  cash_over_market_cap_norm  \n",
       "0                    4.54%                     0.0454  \n",
       "1                   -0.23%                    -0.0023  \n",
       "2                    4.54%                     0.0454  \n",
       "3                   -0.23%                    -0.0023  \n",
       "4                   -1.06%                    -0.0106  \n",
       "...                    ...                        ...  \n",
       "16897              -10.22%                    -0.1022  \n",
       "16898                2.23%                     0.0223  \n",
       "16899                4.54%                     0.0454  \n",
       "16901                2.23%                     0.0223  \n",
       "16902                2.23%                     0.0223  \n",
       "\n",
       "[14208 rows x 4 columns]"
      ]
     },
     "execution_count": 102,
     "metadata": {},
     "output_type": "execute_result"
    }
   ],
   "source": [
    "public_companies.loc[:,['debt_growth_year_over_year', 'debt_growth_year_over_year_norm', 'cash_over_market_cap', 'cash_over_market_cap_norm']]"
   ]
  },
  {
   "cell_type": "markdown",
   "id": "1ce5be88-9ed1-475d-a97b-771ea068ae04",
   "metadata": {},
   "source": [
    "# Numerical Data: Summary Statistics and Visualizations"
   ]
  },
  {
   "cell_type": "markdown",
   "id": "13a74778-2994-4146-892a-fba92a6d0402",
   "metadata": {
    "tags": []
   },
   "source": [
    "Method to process and remove outliers from datasetdm"
   ]
  },
  {
   "cell_type": "code",
   "execution_count": 103,
   "id": "21d4e652-f8a9-4ae5-866a-e5154aa0566e",
   "metadata": {
    "tags": []
   },
   "outputs": [],
   "source": [
    "def processOutliers(dataframe, column):\n",
    "    lowerThreshold = dataframe[column].quantile(.005)\n",
    "    upperThreshold = dataframe[column].quantile(.995)\n",
    "\n",
    "    dataframe = dataframe[(public_companies[column] < upperThreshold) & (dataframe[column] > lowerThreshold)]\n",
    "\n",
    "    return dataframe"
   ]
  },
  {
   "cell_type": "markdown",
   "id": "8c46ba29-e309-4f9c-9bb2-26fdb60d2490",
   "metadata": {},
   "source": [
    "## Individual Data\n",
    "### Normalized Total Yearly Compensation Column"
   ]
  },
  {
   "cell_type": "code",
   "execution_count": 104,
   "id": "ccc35dfa-a1ab-4179-b786-e23c9938288a",
   "metadata": {
    "tags": []
   },
   "outputs": [
    {
     "data": {
      "text/plain": [
       "count    14208.000000\n",
       "mean         2.280078\n",
       "std          1.364616\n",
       "min          0.160000\n",
       "25%          1.500000\n",
       "50%          1.980000\n",
       "75%          2.700000\n",
       "max         49.800000\n",
       "Name: total_yearly_compensation_norm, dtype: float64"
      ]
     },
     "execution_count": 104,
     "metadata": {},
     "output_type": "execute_result"
    }
   ],
   "source": [
    "public_companies['total_yearly_compensation_norm'].describe()"
   ]
  },
  {
   "cell_type": "code",
   "execution_count": 105,
   "id": "9b240d0f-d345-4996-9be9-725bbae77337",
   "metadata": {
    "tags": []
   },
   "outputs": [
    {
     "data": {
      "image/png": "[encoded data removed]",
      "text/plain": [
       "<Figure size 640x480 with 1 Axes>"
      ]
     },
     "metadata": {},
     "output_type": "display_data"
    }
   ],
   "source": [
    "public_companies.boxplot('total_yearly_compensation_norm')\n",
    "plt.title('Box plot of total yearly compensation')\n",
    "plt.show()"
   ]
  },
  {
   "cell_type": "code",
   "execution_count": 106,
   "id": "13b959f0-4cbf-47fc-bf9c-501e3af4bb5d",
   "metadata": {
    "tags": []
   },
   "outputs": [],
   "source": [
    "public_companies = processOutliers(public_companies, 'total_yearly_compensation_norm')"
   ]
  },
  {
   "cell_type": "code",
   "execution_count": 107,
   "id": "0d622517-c88e-4f18-b2c0-4d35eb755b0a",
   "metadata": {
    "tags": []
   },
   "outputs": [
    {
     "data": {
      "image/png": "[encoded data removed]",
      "text/plain": [
       "<Figure size 640x480 with 1 Axes>"
      ]
     },
     "metadata": {},
     "output_type": "display_data"
    }
   ],
   "source": [
    "public_companies.boxplot('total_yearly_compensation_norm')\n",
    "plt.title('Box plot of total yearly compensation')\n",
    "plt.show()"
   ]
  },
  {
   "cell_type": "markdown",
   "id": "0dd036e6-f600-4151-9be6-e973e41efd61",
   "metadata": {},
   "source": [
    "### Normalized Base Salary Column"
   ]
  },
  {
   "cell_type": "code",
   "execution_count": 108,
   "id": "80f8c915-2ed0-4bd4-a805-2564a87fd7a4",
   "metadata": {
    "tags": []
   },
   "outputs": [
    {
     "data": {
      "text/plain": [
       "count    14054.000000\n",
       "mean         1.502673\n",
       "std          0.469442\n",
       "min          0.100000\n",
       "25%          1.200000\n",
       "50%          1.460000\n",
       "75%          1.700000\n",
       "max          7.600000\n",
       "Name: base_salary_norm, dtype: float64"
      ]
     },
     "execution_count": 108,
     "metadata": {},
     "output_type": "execute_result"
    }
   ],
   "source": [
    "public_companies['base_salary_norm'].describe()"
   ]
  },
  {
   "cell_type": "code",
   "execution_count": 109,
   "id": "f35f1a3c-d40a-48d2-92ff-dfb9491fd3c5",
   "metadata": {
    "tags": []
   },
   "outputs": [
    {
     "data": {
      "image/png": "[encoded data removed]",
      "text/plain": [
       "<Figure size 640x480 with 1 Axes>"
      ]
     },
     "metadata": {},
     "output_type": "display_data"
    }
   ],
   "source": [
    "public_companies.boxplot('base_salary_norm')\n",
    "plt.title('Box plot of base_salary')\n",
    "plt.show()"
   ]
  },
  {
   "cell_type": "code",
   "execution_count": 110,
   "id": "f536db23-29cf-46fe-836e-304ec29ecd43",
   "metadata": {
    "tags": []
   },
   "outputs": [],
   "source": [
    "public_companies = processOutliers(public_companies, 'base_salary_norm')"
   ]
  },
  {
   "cell_type": "code",
   "execution_count": 111,
   "id": "bdfdafef-99fd-4931-a829-6aaa3dc1c8bd",
   "metadata": {
    "tags": []
   },
   "outputs": [
    {
     "data": {
      "image/png": "[encoded data removed]",
      "text/plain": [
       "<Figure size 640x480 with 1 Axes>"
      ]
     },
     "metadata": {},
     "output_type": "display_data"
    }
   ],
   "source": [
    "public_companies.boxplot('base_salary_norm')\n",
    "plt.title('Box plot of base_salary')\n",
    "plt.show()"
   ]
  },
  {
   "cell_type": "markdown",
   "id": "b2ad6901-7996-4e56-9d3f-dfd5b14bc5f8",
   "metadata": {},
   "source": [
    "### Years of Experience Column"
   ]
  },
  {
   "cell_type": "code",
   "execution_count": 112,
   "id": "7d3be243-a911-4ef0-a429-7e2decd83a84",
   "metadata": {
    "tags": []
   },
   "outputs": [
    {
     "data": {
      "text/plain": [
       "count    13909.000000\n",
       "mean         7.326983\n",
       "std          6.104373\n",
       "min          0.000000\n",
       "25%          3.000000\n",
       "50%          6.000000\n",
       "75%         10.000000\n",
       "max         45.000000\n",
       "Name: years_of_experience, dtype: float64"
      ]
     },
     "execution_count": 112,
     "metadata": {},
     "output_type": "execute_result"
    }
   ],
   "source": [
    "public_companies['years_of_experience'].describe()"
   ]
  },
  {
   "cell_type": "code",
   "execution_count": 113,
   "id": "eefdc1cc-6d7e-491e-a469-2fef6cf7a5c5",
   "metadata": {
    "tags": []
   },
   "outputs": [
    {
     "data": {
      "image/png": "[encoded data removed]",
      "text/plain": [
       "<Figure size 640x480 with 1 Axes>"
      ]
     },
     "metadata": {},
     "output_type": "display_data"
    }
   ],
   "source": [
    "public_companies.boxplot('years_of_experience')\n",
    "plt.title('Box plot of years of experience')\n",
    "plt.show()"
   ]
  },
  {
   "cell_type": "code",
   "execution_count": 114,
   "id": "fadd2a39-6324-47bd-bfc8-0112293091d4",
   "metadata": {
    "tags": []
   },
   "outputs": [],
   "source": [
    "public_companies = processOutliers(public_companies, 'years_of_experience')"
   ]
  },
  {
   "cell_type": "code",
   "execution_count": 115,
   "id": "f70d1054-d20f-4c7e-9924-57e15e292b25",
   "metadata": {
    "tags": []
   },
   "outputs": [
    {
     "data": {
      "image/png": "[encoded data removed]",
      "text/plain": [
       "<Figure size 640x480 with 1 Axes>"
      ]
     },
     "metadata": {},
     "output_type": "display_data"
    }
   ],
   "source": [
    "public_companies.boxplot('years_of_experience')\n",
    "plt.title('Box plot of years of experience')\n",
    "plt.show()"
   ]
  },
  {
   "cell_type": "markdown",
   "id": "cd52b6f6-99db-401a-a0da-c6acad2ed171",
   "metadata": {},
   "source": [
    "### Years at Company Column"
   ]
  },
  {
   "cell_type": "code",
   "execution_count": 116,
   "id": "396a7a71-e2b2-4c69-a4d5-2b3dbe10dbe1",
   "metadata": {
    "tags": []
   },
   "outputs": [
    {
     "data": {
      "text/plain": [
       "count    12910.000000\n",
       "mean         3.019597\n",
       "std          3.510418\n",
       "min          0.000000\n",
       "25%          1.000000\n",
       "50%          2.000000\n",
       "75%          4.000000\n",
       "max         28.000000\n",
       "Name: years_at_company, dtype: float64"
      ]
     },
     "execution_count": 116,
     "metadata": {},
     "output_type": "execute_result"
    }
   ],
   "source": [
    "public_companies['years_at_company'].describe()"
   ]
  },
  {
   "cell_type": "code",
   "execution_count": 117,
   "id": "a07c5d43-8c9d-4efa-b084-af300c883ff9",
   "metadata": {
    "tags": []
   },
   "outputs": [
    {
     "data": {
      "image/png": "[encoded data removed]",
      "text/plain": [
       "<Figure size 640x480 with 1 Axes>"
      ]
     },
     "metadata": {},
     "output_type": "display_data"
    }
   ],
   "source": [
    "public_companies.boxplot('years_at_company')\n",
    "plt.title('Box plot of years at company')\n",
    "plt.show()"
   ]
  },
  {
   "cell_type": "code",
   "execution_count": 118,
   "id": "5144ad30-b549-4b05-9249-a8e428a86cc5",
   "metadata": {
    "tags": []
   },
   "outputs": [],
   "source": [
    "public_companies = processOutliers(public_companies, 'years_at_company')"
   ]
  },
  {
   "cell_type": "code",
   "execution_count": 119,
   "id": "876c727b-44b4-4f3f-8254-0159e4ca0684",
   "metadata": {
    "tags": []
   },
   "outputs": [
    {
     "data": {
      "image/png": "[encoded data removed]",
      "text/plain": [
       "<Figure size 640x480 with 1 Axes>"
      ]
     },
     "metadata": {},
     "output_type": "display_data"
    }
   ],
   "source": [
    "public_companies.boxplot('years_at_company')\n",
    "plt.title('Box plot of years at company')\n",
    "plt.show()"
   ]
  },
  {
   "cell_type": "markdown",
   "id": "959d5400-2880-4608-9158-3d0ad511c580",
   "metadata": {},
   "source": [
    "## Company Data"
   ]
  },
  {
   "cell_type": "markdown",
   "id": "7f5eec82-542e-44cd-8ea8-3efc5b8eda6d",
   "metadata": {},
   "source": [
    "### Normalized Number of Employees Column"
   ]
  },
  {
   "cell_type": "code",
   "execution_count": 120,
   "id": "7b02539b-346d-4ffc-b44d-0c769fe8a343",
   "metadata": {
    "tags": []
   },
   "outputs": [
    {
     "data": {
      "text/plain": [
       "count    9917.000000\n",
       "mean        3.399728\n",
       "std         5.349627\n",
       "min         0.000810\n",
       "25%         0.304000\n",
       "50%         1.248000\n",
       "75%         2.210000\n",
       "max        21.000000\n",
       "Name: employees_norm, dtype: float64"
      ]
     },
     "execution_count": 120,
     "metadata": {},
     "output_type": "execute_result"
    }
   ],
   "source": [
    "public_companies['employees_norm'].describe()"
   ]
  },
  {
   "cell_type": "code",
   "execution_count": 121,
   "id": "72a6b5de-5650-4600-a1df-291fbf86402b",
   "metadata": {
    "tags": []
   },
   "outputs": [
    {
     "data": {
      "image/png": "[encoded data removed]",
      "text/plain": [
       "<Figure size 640x480 with 1 Axes>"
      ]
     },
     "metadata": {},
     "output_type": "display_data"
    }
   ],
   "source": [
    "public_companies.boxplot('employees_norm')\n",
    "plt.title('Box plot of number of employees')\n",
    "plt.show()"
   ]
  },
  {
   "cell_type": "code",
   "execution_count": 122,
   "id": "174d438a-b121-4c89-b4a2-b4237bb158d8",
   "metadata": {
    "tags": []
   },
   "outputs": [],
   "source": [
    "public_companies = processOutliers(public_companies, 'employees_norm')"
   ]
  },
  {
   "cell_type": "code",
   "execution_count": 123,
   "id": "82ad5cbb-634a-4a6e-8880-5494a450b885",
   "metadata": {
    "tags": []
   },
   "outputs": [
    {
     "data": {
      "image/png": "[encoded data removed]",
      "text/plain": [
       "<Figure size 640x480 with 1 Axes>"
      ]
     },
     "metadata": {},
     "output_type": "display_data"
    }
   ],
   "source": [
    "public_companies.boxplot('employees_norm')\n",
    "plt.title('Box plot of number of employees')\n",
    "plt.show()"
   ]
  },
  {
   "cell_type": "markdown",
   "id": "c1eaeb8e-2d68-4113-9306-78e44c9a97a9",
   "metadata": {},
   "source": [
    "### Normalized Revenue per Employee Column"
   ]
  },
  {
   "cell_type": "code",
   "execution_count": 124,
   "id": "5c5ec52f-0a10-41f5-88af-8e5640c1fe17",
   "metadata": {
    "tags": []
   },
   "outputs": [
    {
     "data": {
      "text/plain": [
       "count    9739.000000\n",
       "mean        9.251272\n",
       "std         9.279961\n",
       "min         0.346780\n",
       "25%         3.769080\n",
       "50%         6.741220\n",
       "75%        11.580210\n",
       "max       128.519690\n",
       "Name: revenue_per_employee_norm, dtype: float64"
      ]
     },
     "execution_count": 124,
     "metadata": {},
     "output_type": "execute_result"
    }
   ],
   "source": [
    "public_companies['revenue_per_employee_norm'].describe()"
   ]
  },
  {
   "cell_type": "code",
   "execution_count": 125,
   "id": "77a98c07-c54d-47e2-b9d9-b364b76f8a0f",
   "metadata": {
    "tags": []
   },
   "outputs": [
    {
     "data": {
      "image/png": "[encoded data removed]",
      "text/plain": [
       "<Figure size 640x480 with 1 Axes>"
      ]
     },
     "metadata": {},
     "output_type": "display_data"
    }
   ],
   "source": [
    "public_companies.boxplot('revenue_per_employee_norm')\n",
    "plt.title('Box plot of revenue per employee')\n",
    "plt.show()"
   ]
  },
  {
   "cell_type": "code",
   "execution_count": 126,
   "id": "6d9e0084-83e3-46a6-8768-837f57101f8b",
   "metadata": {
    "tags": []
   },
   "outputs": [],
   "source": [
    "public_companies = processOutliers(public_companies, 'revenue_per_employee_norm')"
   ]
  },
  {
   "cell_type": "code",
   "execution_count": 127,
   "id": "7bfecf7b-21c2-4021-be1a-7c9038bb8b09",
   "metadata": {
    "tags": []
   },
   "outputs": [
    {
     "data": {
      "image/png": "[encoded data removed]",
      "text/plain": [
       "<Figure size 640x480 with 1 Axes>"
      ]
     },
     "metadata": {},
     "output_type": "display_data"
    }
   ],
   "source": [
    "public_companies.boxplot('revenue_per_employee_norm')\n",
    "plt.title('Box plot of revenue per employee')\n",
    "plt.show()"
   ]
  },
  {
   "cell_type": "markdown",
   "id": "d943cfc1-168c-45dd-a563-b2bb7b98e9f7",
   "metadata": {},
   "source": [
    "### Normalized Profit per Employee Column"
   ]
  },
  {
   "cell_type": "code",
   "execution_count": 128,
   "id": "b428405d-561b-4985-9035-6bffce454c99",
   "metadata": {
    "tags": []
   },
   "outputs": [
    {
     "data": {
      "text/plain": [
       "count    9544.000000\n",
       "mean        1.851787\n",
       "std         2.300348\n",
       "min       -10.508260\n",
       "25%         0.199510\n",
       "50%         0.780600\n",
       "75%         3.734890\n",
       "max        10.054050\n",
       "Name: profit_per_employee_norm, dtype: float64"
      ]
     },
     "execution_count": 128,
     "metadata": {},
     "output_type": "execute_result"
    }
   ],
   "source": [
    "public_companies['profit_per_employee_norm'].describe()"
   ]
  },
  {
   "cell_type": "code",
   "execution_count": 129,
   "id": "02a5239e-b324-496c-b41e-0e66ede019d7",
   "metadata": {
    "tags": []
   },
   "outputs": [
    {
     "data": {
      "image/png": "[encoded data removed]",
      "text/plain": [
       "<Figure size 640x480 with 1 Axes>"
      ]
     },
     "metadata": {},
     "output_type": "display_data"
    }
   ],
   "source": [
    "public_companies.boxplot('profit_per_employee_norm')\n",
    "plt.title('Box plot of profit per employee')\n",
    "plt.show()"
   ]
  },
  {
   "cell_type": "code",
   "execution_count": 130,
   "id": "16d8aa80-0a82-4dcb-9334-c0a6146a4f4c",
   "metadata": {
    "tags": []
   },
   "outputs": [],
   "source": [
    "public_companies = processOutliers(public_companies, 'profit_per_employee_norm')"
   ]
  },
  {
   "cell_type": "code",
   "execution_count": 131,
   "id": "33770bc7-97eb-4fb1-9d7c-db285fd6112b",
   "metadata": {
    "tags": []
   },
   "outputs": [
    {
     "data": {
      "image/png": "[encoded data removed]",
      "text/plain": [
       "<Figure size 640x480 with 1 Axes>"
      ]
     },
     "metadata": {},
     "output_type": "display_data"
    }
   ],
   "source": [
    "public_companies.boxplot('profit_per_employee_norm')\n",
    "plt.title('Box plot of profit per employee')\n",
    "plt.show()"
   ]
  },
  {
   "cell_type": "markdown",
   "id": "5ba47258-4f68-43a3-80ba-3b563f898c6a",
   "metadata": {},
   "source": [
    "### Normalized Debt Growth (YoY) column"
   ]
  },
  {
   "cell_type": "code",
   "execution_count": 132,
   "id": "fde0e38c-60dd-4c69-98d9-4cbaa5403156",
   "metadata": {
    "tags": []
   },
   "outputs": [
    {
     "data": {
      "text/plain": [
       "count    9354.000000\n",
       "mean        0.093486\n",
       "std         0.297144\n",
       "min        -0.915000\n",
       "25%        -0.041700\n",
       "50%        -0.016950\n",
       "75%         0.187000\n",
       "max        14.550800\n",
       "Name: debt_growth_year_over_year_norm, dtype: float64"
      ]
     },
     "execution_count": 132,
     "metadata": {},
     "output_type": "execute_result"
    }
   ],
   "source": [
    "public_companies['debt_growth_year_over_year_norm'].describe()"
   ]
  },
  {
   "cell_type": "code",
   "execution_count": 133,
   "id": "a2f4d0db-41b0-4e5e-b78c-0920b10c872c",
   "metadata": {
    "tags": []
   },
   "outputs": [
    {
     "data": {
      "image/png": "[encoded data removed]",
      "text/plain": [
       "<Figure size 640x480 with 1 Axes>"
      ]
     },
     "metadata": {},
     "output_type": "display_data"
    }
   ],
   "source": [
    "public_companies.boxplot('debt_growth_year_over_year_norm')\n",
    "plt.title('Box plot of debt growth (year over year)')\n",
    "plt.show()"
   ]
  },
  {
   "cell_type": "code",
   "execution_count": 134,
   "id": "5f1f8030-32a5-4060-a937-9c1eab78a513",
   "metadata": {
    "tags": []
   },
   "outputs": [],
   "source": [
    "public_companies = processOutliers(public_companies, 'debt_growth_year_over_year_norm')"
   ]
  },
  {
   "cell_type": "code",
   "execution_count": 135,
   "id": "03648040-999a-4fab-b228-237a2fb1aa7d",
   "metadata": {
    "tags": []
   },
   "outputs": [
    {
     "data": {
      "image/png": "[encoded data removed]",
      "text/plain": [
       "<Figure size 640x480 with 1 Axes>"
      ]
     },
     "metadata": {},
     "output_type": "display_data"
    }
   ],
   "source": [
    "public_companies.boxplot('debt_growth_year_over_year_norm')\n",
    "plt.title('Box plot of debt growth (year over year)')\n",
    "plt.show()"
   ]
  },
  {
   "cell_type": "markdown",
   "id": "4e8e521c-abb5-4780-9672-2cb16e2d751f",
   "metadata": {},
   "source": [
    "### Normalized Cash Over Market Cap Column"
   ]
  },
  {
   "cell_type": "code",
   "execution_count": 136,
   "id": "2d4f5cf5-51da-4985-9a0b-e8468ef7d02a",
   "metadata": {
    "tags": []
   },
   "outputs": [
    {
     "data": {
      "text/plain": [
       "count    9098.000000\n",
       "mean       -0.186206\n",
       "std         1.274723\n",
       "min       -42.670200\n",
       "25%        -0.122400\n",
       "50%        -0.018300\n",
       "75%         0.022300\n",
       "max         2.920500\n",
       "Name: cash_over_market_cap_norm, dtype: float64"
      ]
     },
     "execution_count": 136,
     "metadata": {},
     "output_type": "execute_result"
    }
   ],
   "source": [
    "public_companies['cash_over_market_cap_norm'].describe()"
   ]
  },
  {
   "cell_type": "code",
   "execution_count": 137,
   "id": "ea2eed16-14dd-4783-ad14-3405e888b7fb",
   "metadata": {
    "tags": []
   },
   "outputs": [
    {
     "data": {
      "image/png": "[encoded data removed]",
      "text/plain": [
       "<Figure size 640x480 with 1 Axes>"
      ]
     },
     "metadata": {},
     "output_type": "display_data"
    }
   ],
   "source": [
    "public_companies.boxplot('cash_over_market_cap_norm')\n",
    "plt.title('Box plot of cash over market cap')\n",
    "plt.show()"
   ]
  },
  {
   "cell_type": "code",
   "execution_count": 138,
   "id": "b602cf56-e440-4e2b-9e50-bac63c9e60de",
   "metadata": {
    "tags": []
   },
   "outputs": [],
   "source": [
    "public_companies = processOutliers(public_companies, 'cash_over_market_cap_norm')"
   ]
  },
  {
   "cell_type": "code",
   "execution_count": 139,
   "id": "af9d68fb-29b8-46df-be34-0af1751773c8",
   "metadata": {
    "tags": []
   },
   "outputs": [
    {
     "data": {
      "image/png": "[encoded data removed]",
      "text/plain": [
       "<Figure size 640x480 with 1 Axes>"
      ]
     },
     "metadata": {},
     "output_type": "display_data"
    }
   ],
   "source": [
    "public_companies.boxplot('cash_over_market_cap_norm')\n",
    "plt.title('Box plot of cash over market cap')\n",
    "plt.show()"
   ]
  },
  {
   "cell_type": "markdown",
   "id": "f5d0ac29-5853-46b3-9a1c-2aae0aae4c2a",
   "metadata": {
    "tags": []
   },
   "source": [
    "### RSI"
   ]
  },
  {
   "cell_type": "code",
   "execution_count": 140,
   "id": "15a6c167-5502-4beb-98f3-f368a83ec977",
   "metadata": {
    "tags": []
   },
   "outputs": [
    {
     "data": {
      "text/plain": [
       "count    8923.000000\n",
       "mean       57.376971\n",
       "std         8.400591\n",
       "min        22.750000\n",
       "25%        52.390000\n",
       "50%        56.250000\n",
       "75%        62.720000\n",
       "max        81.660000\n",
       "Name: rsi, dtype: float64"
      ]
     },
     "execution_count": 140,
     "metadata": {},
     "output_type": "execute_result"
    }
   ],
   "source": [
    "public_companies['rsi'].describe()"
   ]
  },
  {
   "cell_type": "code",
   "execution_count": 141,
   "id": "8b2aaa89-1d4a-4040-8ead-6033002ce6fb",
   "metadata": {
    "tags": []
   },
   "outputs": [
    {
     "data": {
      "image/png": "[encoded data removed]",
      "text/plain": [
       "<Figure size 640x480 with 1 Axes>"
      ]
     },
     "metadata": {},
     "output_type": "display_data"
    }
   ],
   "source": [
    "public_companies.boxplot('rsi')\n",
    "plt.title('Box plot of RSI')\n",
    "plt.show()"
   ]
  },
  {
   "cell_type": "code",
   "execution_count": 142,
   "id": "d658da78-5d09-43e8-8a29-e8b5c402f4b5",
   "metadata": {
    "tags": []
   },
   "outputs": [],
   "source": [
    "public_companies = processOutliers(public_companies, 'rsi')"
   ]
  },
  {
   "cell_type": "code",
   "execution_count": 143,
   "id": "c186b6a9-8c87-475d-bcfa-e3e3f2e338d1",
   "metadata": {
    "tags": []
   },
   "outputs": [
    {
     "data": {
      "image/png": "[encoded data removed]",
      "text/plain": [
       "<Figure size 640x480 with 1 Axes>"
      ]
     },
     "metadata": {},
     "output_type": "display_data"
    }
   ],
   "source": [
    "public_companies.boxplot('rsi')\n",
    "plt.title('Box plot of RSI')\n",
    "plt.show()"
   ]
  },
  {
   "cell_type": "code",
   "execution_count": 144,
   "id": "92b425b5-5b1a-48c3-996a-c8222f3908ed",
   "metadata": {
    "tags": []
   },
   "outputs": [
    {
     "data": {
      "text/plain": [
       "base_salary                        0\n",
       "total_yearly_compensation          0\n",
       "title                              0\n",
       "years_of_experience                0\n",
       "years_at_company                   0\n",
       "education                          0\n",
       "race                               0\n",
       "gender                             0\n",
       "mc_group                           0\n",
       "sector                             0\n",
       "industry                           0\n",
       "employees                          0\n",
       "revenue_per_employee               0\n",
       "profit_per_employee                0\n",
       "cash_over_market_cap               0\n",
       "debt_growth_year_over_year         0\n",
       "rsi                                0\n",
       "total_yearly_compensation_norm     0\n",
       "base_salary_norm                   0\n",
       "employees_norm                     0\n",
       "revenue_per_employee_norm          0\n",
       "profit_per_employee_norm           0\n",
       "debt_growth_year_over_year_norm    0\n",
       "cash_over_market_cap_norm          0\n",
       "dtype: int64"
      ]
     },
     "execution_count": 144,
     "metadata": {},
     "output_type": "execute_result"
    }
   ],
   "source": [
    "public_companies.isna().sum()"
   ]
  },
  {
   "cell_type": "code",
   "execution_count": 145,
   "id": "23ac08ba-a5b5-48ee-acf1-b231a1389462",
   "metadata": {
    "tags": []
   },
   "outputs": [
    {
     "data": {
      "text/plain": [
       "(8819, 24)"
      ]
     },
     "execution_count": 145,
     "metadata": {},
     "output_type": "execute_result"
    }
   ],
   "source": [
    "public_companies.shape"
   ]
  },
  {
   "cell_type": "code",
   "execution_count": 146,
   "id": "f988a40f-ddc5-4345-852c-273452b3f1c6",
   "metadata": {
    "tags": []
   },
   "outputs": [
    {
     "data": {
      "text/html": [
       "<div>\n",
       "<style scoped>\n",
       "    .dataframe tbody tr th:only-of-type {\n",
       "        vertical-align: middle;\n",
       "    }\n",
       "\n",
       "    .dataframe tbody tr th {\n",
       "        vertical-align: top;\n",
       "    }\n",
       "\n",
       "    .dataframe thead th {\n",
       "        text-align: right;\n",
       "    }\n",
       "</style>\n",
       "<table border=\"1\" class=\"dataframe\">\n",
       "  <thead>\n",
       "    <tr style=\"text-align: right;\">\n",
       "      <th></th>\n",
       "      <th>base_salary</th>\n",
       "      <th>total_yearly_compensation</th>\n",
       "      <th>years_of_experience</th>\n",
       "      <th>years_at_company</th>\n",
       "      <th>employees</th>\n",
       "      <th>revenue_per_employee</th>\n",
       "      <th>profit_per_employee</th>\n",
       "      <th>rsi</th>\n",
       "      <th>total_yearly_compensation_norm</th>\n",
       "      <th>base_salary_norm</th>\n",
       "      <th>employees_norm</th>\n",
       "      <th>revenue_per_employee_norm</th>\n",
       "      <th>profit_per_employee_norm</th>\n",
       "      <th>debt_growth_year_over_year_norm</th>\n",
       "      <th>cash_over_market_cap_norm</th>\n",
       "    </tr>\n",
       "  </thead>\n",
       "  <tbody>\n",
       "    <tr>\n",
       "      <th>count</th>\n",
       "      <td>8819.000000</td>\n",
       "      <td>8819.000000</td>\n",
       "      <td>8819.000000</td>\n",
       "      <td>8819.000000</td>\n",
       "      <td>8.819000e+03</td>\n",
       "      <td>8.819000e+03</td>\n",
       "      <td>8819.000000</td>\n",
       "      <td>8819.000000</td>\n",
       "      <td>8819.000000</td>\n",
       "      <td>8819.000000</td>\n",
       "      <td>8819.000000</td>\n",
       "      <td>8819.000000</td>\n",
       "      <td>8819.000000</td>\n",
       "      <td>8819.000000</td>\n",
       "      <td>8819.000000</td>\n",
       "    </tr>\n",
       "    <tr>\n",
       "      <th>mean</th>\n",
       "      <td>150042.068262</td>\n",
       "      <td>227385.644631</td>\n",
       "      <td>8.116453</td>\n",
       "      <td>3.747364</td>\n",
       "      <td>3.428252e+05</td>\n",
       "      <td>8.753423e+05</td>\n",
       "      <td>183033.332918</td>\n",
       "      <td>57.364468</td>\n",
       "      <td>2.273856</td>\n",
       "      <td>1.500421</td>\n",
       "      <td>3.428252</td>\n",
       "      <td>8.753423</td>\n",
       "      <td>1.830333</td>\n",
       "      <td>0.076129</td>\n",
       "      <td>-0.083401</td>\n",
       "    </tr>\n",
       "    <tr>\n",
       "      <th>std</th>\n",
       "      <td>38512.400163</td>\n",
       "      <td>110895.372126</td>\n",
       "      <td>5.722562</td>\n",
       "      <td>3.116348</td>\n",
       "      <td>5.206619e+05</td>\n",
       "      <td>6.244176e+05</td>\n",
       "      <td>209569.522943</td>\n",
       "      <td>8.065602</td>\n",
       "      <td>1.108954</td>\n",
       "      <td>0.385124</td>\n",
       "      <td>5.206619</td>\n",
       "      <td>6.244176</td>\n",
       "      <td>2.095695</td>\n",
       "      <td>0.208330</td>\n",
       "      <td>0.272475</td>\n",
       "    </tr>\n",
       "    <tr>\n",
       "      <th>min</th>\n",
       "      <td>69000.000000</td>\n",
       "      <td>69000.000000</td>\n",
       "      <td>1.000000</td>\n",
       "      <td>1.000000</td>\n",
       "      <td>9.750000e+02</td>\n",
       "      <td>8.825100e+04</td>\n",
       "      <td>-225257.000000</td>\n",
       "      <td>35.090000</td>\n",
       "      <td>0.690000</td>\n",
       "      <td>0.690000</td>\n",
       "      <td>0.009750</td>\n",
       "      <td>0.882510</td>\n",
       "      <td>-2.252570</td>\n",
       "      <td>-0.530700</td>\n",
       "      <td>-4.506800</td>\n",
       "    </tr>\n",
       "    <tr>\n",
       "      <th>25%</th>\n",
       "      <td>125000.000000</td>\n",
       "      <td>150000.000000</td>\n",
       "      <td>4.000000</td>\n",
       "      <td>2.000000</td>\n",
       "      <td>5.198700e+04</td>\n",
       "      <td>3.769080e+05</td>\n",
       "      <td>19951.000000</td>\n",
       "      <td>52.390000</td>\n",
       "      <td>1.500000</td>\n",
       "      <td>1.250000</td>\n",
       "      <td>0.519870</td>\n",
       "      <td>3.769080</td>\n",
       "      <td>0.199510</td>\n",
       "      <td>-0.041700</td>\n",
       "      <td>-0.098700</td>\n",
       "    </tr>\n",
       "    <tr>\n",
       "      <th>50%</th>\n",
       "      <td>148000.000000</td>\n",
       "      <td>201000.000000</td>\n",
       "      <td>7.000000</td>\n",
       "      <td>3.000000</td>\n",
       "      <td>1.610000e+05</td>\n",
       "      <td>6.536130e+05</td>\n",
       "      <td>78333.000000</td>\n",
       "      <td>56.250000</td>\n",
       "      <td>2.010000</td>\n",
       "      <td>1.480000</td>\n",
       "      <td>1.610000</td>\n",
       "      <td>6.536130</td>\n",
       "      <td>0.783330</td>\n",
       "      <td>-0.018900</td>\n",
       "      <td>-0.016900</td>\n",
       "    </tr>\n",
       "    <tr>\n",
       "      <th>75%</th>\n",
       "      <td>171000.000000</td>\n",
       "      <td>276000.000000</td>\n",
       "      <td>11.000000</td>\n",
       "      <td>5.000000</td>\n",
       "      <td>2.210000e+05</td>\n",
       "      <td>1.094522e+06</td>\n",
       "      <td>373489.000000</td>\n",
       "      <td>62.050000</td>\n",
       "      <td>2.760000</td>\n",
       "      <td>1.710000</td>\n",
       "      <td>2.210000</td>\n",
       "      <td>10.945220</td>\n",
       "      <td>3.734890</td>\n",
       "      <td>0.171600</td>\n",
       "      <td>0.022300</td>\n",
       "    </tr>\n",
       "    <tr>\n",
       "      <th>max</th>\n",
       "      <td>347000.000000</td>\n",
       "      <td>790000.000000</td>\n",
       "      <td>29.000000</td>\n",
       "      <td>19.000000</td>\n",
       "      <td>1.525000e+06</td>\n",
       "      <td>3.504541e+06</td>\n",
       "      <td>893576.000000</td>\n",
       "      <td>78.260000</td>\n",
       "      <td>7.900000</td>\n",
       "      <td>3.470000</td>\n",
       "      <td>15.250000</td>\n",
       "      <td>35.045410</td>\n",
       "      <td>8.935760</td>\n",
       "      <td>0.863000</td>\n",
       "      <td>0.234500</td>\n",
       "    </tr>\n",
       "  </tbody>\n",
       "</table>\n",
       "</div>"
      ],
      "text/plain": [
       "         base_salary  total_yearly_compensation  years_of_experience  \\\n",
       "count    8819.000000                8819.000000          8819.000000   \n",
       "mean   150042.068262              227385.644631             8.116453   \n",
       "std     38512.400163              110895.372126             5.722562   \n",
       "min     69000.000000               69000.000000             1.000000   \n",
       "25%    125000.000000              150000.000000             4.000000   \n",
       "50%    148000.000000              201000.000000             7.000000   \n",
       "75%    171000.000000              276000.000000            11.000000   \n",
       "max    347000.000000              790000.000000            29.000000   \n",
       "\n",
       "       years_at_company     employees  revenue_per_employee  \\\n",
       "count       8819.000000  8.819000e+03          8.819000e+03   \n",
       "mean           3.747364  3.428252e+05          8.753423e+05   \n",
       "std            3.116348  5.206619e+05          6.244176e+05   \n",
       "min            1.000000  9.750000e+02          8.825100e+04   \n",
       "25%            2.000000  5.198700e+04          3.769080e+05   \n",
       "50%            3.000000  1.610000e+05          6.536130e+05   \n",
       "75%            5.000000  2.210000e+05          1.094522e+06   \n",
       "max           19.000000  1.525000e+06          3.504541e+06   \n",
       "\n",
       "       profit_per_employee          rsi  total_yearly_compensation_norm  \\\n",
       "count          8819.000000  8819.000000                     8819.000000   \n",
       "mean         183033.332918    57.364468                        2.273856   \n",
       "std          209569.522943     8.065602                        1.108954   \n",
       "min         -225257.000000    35.090000                        0.690000   \n",
       "25%           19951.000000    52.390000                        1.500000   \n",
       "50%           78333.000000    56.250000                        2.010000   \n",
       "75%          373489.000000    62.050000                        2.760000   \n",
       "max          893576.000000    78.260000                        7.900000   \n",
       "\n",
       "       base_salary_norm  employees_norm  revenue_per_employee_norm  \\\n",
       "count       8819.000000     8819.000000                8819.000000   \n",
       "mean           1.500421        3.428252                   8.753423   \n",
       "std            0.385124        5.206619                   6.244176   \n",
       "min            0.690000        0.009750                   0.882510   \n",
       "25%            1.250000        0.519870                   3.769080   \n",
       "50%            1.480000        1.610000                   6.536130   \n",
       "75%            1.710000        2.210000                  10.945220   \n",
       "max            3.470000       15.250000                  35.045410   \n",
       "\n",
       "       profit_per_employee_norm  debt_growth_year_over_year_norm  \\\n",
       "count               8819.000000                      8819.000000   \n",
       "mean                   1.830333                         0.076129   \n",
       "std                    2.095695                         0.208330   \n",
       "min                   -2.252570                        -0.530700   \n",
       "25%                    0.199510                        -0.041700   \n",
       "50%                    0.783330                        -0.018900   \n",
       "75%                    3.734890                         0.171600   \n",
       "max                    8.935760                         0.863000   \n",
       "\n",
       "       cash_over_market_cap_norm  \n",
       "count                8819.000000  \n",
       "mean                   -0.083401  \n",
       "std                     0.272475  \n",
       "min                    -4.506800  \n",
       "25%                    -0.098700  \n",
       "50%                    -0.016900  \n",
       "75%                     0.022300  \n",
       "max                     0.234500  "
      ]
     },
     "execution_count": 146,
     "metadata": {},
     "output_type": "execute_result"
    }
   ],
   "source": [
    "public_companies.describe()"
   ]
  },
  {
   "cell_type": "markdown",
   "id": "3f003f46-0234-4136-ac42-bc208195f9a4",
   "metadata": {},
   "source": [
    "# Categorical Data\n",
    "## Individual Data"
   ]
  },
  {
   "cell_type": "markdown",
   "id": "32823021-2a91-4485-b436-9190a1e6706a",
   "metadata": {},
   "source": [
    "### Education Level"
   ]
  },
  {
   "cell_type": "code",
   "execution_count": 147,
   "id": "0c917a7e-e2fc-4d96-ab6b-c60af550de19",
   "metadata": {
    "tags": []
   },
   "outputs": [
    {
     "data": {
      "text/plain": [
       "count                  8819\n",
       "unique                    5\n",
       "top       Bachelor's Degree\n",
       "freq                   4154\n",
       "Name: education, dtype: object"
      ]
     },
     "execution_count": 147,
     "metadata": {},
     "output_type": "execute_result"
    }
   ],
   "source": [
    "public_companies['education'].describe()"
   ]
  },
  {
   "cell_type": "code",
   "execution_count": 148,
   "id": "96fdc207-8c14-4fbf-a5b9-e5febc917c05",
   "metadata": {
    "tags": []
   },
   "outputs": [
    {
     "data": {
      "image/png": "[encoded data removed]",
      "text/plain": [
       "<Figure size 640x480 with 1 Axes>"
      ]
     },
     "metadata": {},
     "output_type": "display_data"
    }
   ],
   "source": [
    "sns.countplot(x='education', data=public_companies)\n",
    "plt.xlabel('Education')\n",
    "plt.ylabel('Count')\n",
    "plt.title('Distribution of education level')\n",
    "plt.xticks(rotation=90)\n",
    "plt.show()"
   ]
  },
  {
   "cell_type": "markdown",
   "id": "3861d32d-9d15-4ea7-9d6f-f1ed42eb1fd0",
   "metadata": {},
   "source": [
    "### Race"
   ]
  },
  {
   "cell_type": "code",
   "execution_count": 412,
   "id": "1fd1d965-a00d-4c06-a255-32cec2ea9a80",
   "metadata": {
    "tags": []
   },
   "outputs": [
    {
     "data": {
      "text/plain": [
       "count     14208\n",
       "unique        5\n",
       "top       Asian\n",
       "freq       7393\n",
       "Name: race, dtype: object"
      ]
     },
     "execution_count": 412,
     "metadata": {},
     "output_type": "execute_result"
    }
   ],
   "source": [
    "public_companies['race'].describe()"
   ]
  },
  {
   "cell_type": "code",
   "execution_count": 77,
   "id": "557cbbe2-3baf-4b16-9708-fa4e3c5124e8",
   "metadata": {
    "tags": []
   },
   "outputs": [
    {
     "data": {
      "image/png": "[encoded data removed]",
      "text/plain": [
       "<Figure size 640x480 with 1 Axes>"
      ]
     },
     "metadata": {},
     "output_type": "display_data"
    }
   ],
   "source": [
    "sns.countplot(x='race', data=public_companies)\n",
    "plt.xlabel('Race')\n",
    "plt.ylabel('Count')\n",
    "plt.title('Distribution of race')\n",
    "plt.xticks(rotation=45)\n",
    "plt.show()"
   ]
  },
  {
   "cell_type": "markdown",
   "id": "4bcebfb5-385b-49bf-99e3-8d14384c73a2",
   "metadata": {},
   "source": [
    "### Sex"
   ]
  },
  {
   "cell_type": "code",
   "execution_count": 413,
   "id": "7d4d637b-8100-43e1-983e-bfb35ea41448",
   "metadata": {
    "tags": []
   },
   "outputs": [
    {
     "data": {
      "text/plain": [
       "count     14208\n",
       "unique        3\n",
       "top        Male\n",
       "freq      11270\n",
       "Name: gender, dtype: object"
      ]
     },
     "execution_count": 413,
     "metadata": {},
     "output_type": "execute_result"
    }
   ],
   "source": [
    "public_companies['gender'].describe()"
   ]
  },
  {
   "cell_type": "code",
   "execution_count": 78,
   "id": "d89d9563-8eb4-4e7e-be03-e19566a2ff6b",
   "metadata": {
    "tags": []
   },
   "outputs": [
    {
     "data": {
      "image/png": "[encoded data removed]",
      "text/plain": [
       "<Figure size 640x480 with 1 Axes>"
      ]
     },
     "metadata": {},
     "output_type": "display_data"
    }
   ],
   "source": [
    "sns.countplot(x='gender', data=public_companies)\n",
    "plt.xlabel('Gender')\n",
    "plt.ylabel('Count')\n",
    "plt.title('Distribution of gender')\n",
    "plt.xticks(rotation=90)\n",
    "plt.show()"
   ]
  },
  {
   "cell_type": "markdown",
   "id": "96d11b04-30ef-42df-a65d-822ddf2e9a75",
   "metadata": {},
   "source": [
    "## Company Data\n",
    "### Market Cap Group"
   ]
  },
  {
   "cell_type": "code",
   "execution_count": 414,
   "id": "66a9b4c6-b8f0-43b7-bba0-7694d4aa40b4",
   "metadata": {
    "tags": []
   },
   "outputs": [
    {
     "data": {
      "text/plain": [
       "count        14208\n",
       "unique           6\n",
       "top       Mega-Cap\n",
       "freq          8485\n",
       "Name: mc_group, dtype: object"
      ]
     },
     "execution_count": 414,
     "metadata": {},
     "output_type": "execute_result"
    }
   ],
   "source": [
    "public_companies['mc_group'].describe()"
   ]
  },
  {
   "cell_type": "code",
   "execution_count": 80,
   "id": "5fe9d2b1-f8f4-4349-a0e4-b1c5e316c5e4",
   "metadata": {
    "tags": []
   },
   "outputs": [
    {
     "data": {
      "image/png": "[encoded data removed]",
      "text/plain": [
       "<Figure size 640x480 with 1 Axes>"
      ]
     },
     "metadata": {},
     "output_type": "display_data"
    }
   ],
   "source": [
    "sns.countplot(x='mc_group', data=public_companies)\n",
    "plt.xlabel('mc_group')\n",
    "plt.ylabel('Count')\n",
    "plt.title('Distribution of market cap group')\n",
    "plt.xticks(rotation=45)\n",
    "plt.show()"
   ]
  },
  {
   "cell_type": "markdown",
   "id": "b9968a2b-58ff-452e-909f-e8319dc21d5e",
   "metadata": {},
   "source": [
    "### Sector"
   ]
  },
  {
   "cell_type": "code",
   "execution_count": 70,
   "id": "a6596f1e-a6bc-4c0c-8e9e-0e1563958bcb",
   "metadata": {
    "tags": []
   },
   "outputs": [
    {
     "data": {
      "text/plain": [
       "count           7558\n",
       "unique            10\n",
       "top       Technology\n",
       "freq            3109\n",
       "Name: sector, dtype: object"
      ]
     },
     "execution_count": 70,
     "metadata": {},
     "output_type": "execute_result"
    }
   ],
   "source": [
    "public_companies['sector'].describe()"
   ]
  },
  {
   "cell_type": "code",
   "execution_count": 71,
   "id": "bdb7fb19-9703-4556-8129-24c07990fa43",
   "metadata": {
    "tags": []
   },
   "outputs": [
    {
     "data": {
      "text/plain": [
       "sector\n",
       "Communication Services    1540\n",
       "Consumer Discretionary    1785\n",
       "Consumer Staples            45\n",
       "Energy                       5\n",
       "Financials                 652\n",
       "Healthcare                 117\n",
       "Industrials                290\n",
       "Materials                    4\n",
       "Real Estate                 11\n",
       "Technology                3109\n",
       "Name: base_salary, dtype: int64"
      ]
     },
     "execution_count": 71,
     "metadata": {},
     "output_type": "execute_result"
    }
   ],
   "source": [
    "public_companies.groupby('sector')['base_salary'].count()\n"
   ]
  },
  {
   "cell_type": "code",
   "execution_count": 74,
   "id": "082a967a-1202-4846-8023-dc4b530ce513",
   "metadata": {
    "tags": []
   },
   "outputs": [
    {
     "data": {
      "image/png": "[encoded data removed]",
      "text/plain": [
       "<Figure size 640x480 with 1 Axes>"
      ]
     },
     "metadata": {},
     "output_type": "display_data"
    }
   ],
   "source": [
    "sns.countplot(x='sector', data=public_companies)\n",
    "plt.xlabel('Sector')\n",
    "plt.ylabel('Count')\n",
    "plt.title('Distribution of companies by sector')\n",
    "plt.xticks(rotation=90)\n",
    "plt.show()"
   ]
  }
 ],
 "metadata": {
  "kernelspec": {
   "display_name": "Python 3 (ipykernel)",
   "language": "python",
   "name": "python3"
  },
  "language_info": {
   "codemirror_mode": {
    "name": "ipython",
    "version": 3
   },
   "file_extension": ".py",
   "mimetype": "text/x-python",
   "name": "python",
   "nbconvert_exporter": "python",
   "pygments_lexer": "ipython3",
   "version": "3.11.5"
  }
 },
 "nbformat": 4,
 "nbformat_minor": 5
}
