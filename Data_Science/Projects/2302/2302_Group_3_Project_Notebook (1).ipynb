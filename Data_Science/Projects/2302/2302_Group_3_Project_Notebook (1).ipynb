{
 "cells": [
  {
   "cell_type": "code",
   "execution_count": 27,
   "id": "a790c641-805e-4ee9-b87b-aec8ffe4cc50",
   "metadata": {
    "tags": []
   },
   "outputs": [],
   "source": [
    "# Import Packages\n",
    "import numpy as np\n",
    "import pandas as pd\n",
    "import matplotlib.pyplot as plt\n",
    "import seaborn as sns"
   ]
  },
  {
   "cell_type": "code",
   "execution_count": 28,
   "id": "c27f4251-0c08-44c6-bfac-888c0c123c14",
   "metadata": {
    "tags": []
   },
   "outputs": [
    {
     "name": "stdout",
     "output_type": "stream",
     "text": [
      "            timestamp    company level                         title  \\\n",
      "0    06-07-2017 11:33     Oracle    L3               Product Manager   \n",
      "1    06-10-2017 17:11       eBay  SE 2             Software Engineer   \n",
      "2    06-11-2017 14:53     Amazon    L7               Product Manager   \n",
      "3   6/17/2017 0:23:14      Apple    M1  Software Engineering Manager   \n",
      "4  6/20/2017 10:58:51  Microsoft    60             Software Engineer   \n",
      "\n",
      "   totalyearlycompensation           location  yearsofexperience  \\\n",
      "0                   127000   Redwood City, CA                1.5   \n",
      "1                   100000  San Francisco, CA                5.0   \n",
      "2                   310000        Seattle, WA                8.0   \n",
      "3                   372000      Sunnyvale, CA                7.0   \n",
      "4                   157000  Mountain View, CA                5.0   \n",
      "\n",
      "   yearsatcompany  tag  basesalary  ...  Doctorate_Degree  Highschool  \\\n",
      "0             1.5  NaN      107000  ...                 0           0   \n",
      "1             3.0  NaN           0  ...                 0           0   \n",
      "2             0.0  NaN      155000  ...                 0           0   \n",
      "3             5.0  NaN      157000  ...                 0           0   \n",
      "4             3.0  NaN           0  ...                 0           0   \n",
      "\n",
      "  Some_College Race_Asian  Race_White  Race_Two_Or_More  Race_Black  \\\n",
      "0            0          0           0                 0           0   \n",
      "1            0          0           0                 0           0   \n",
      "2            0          0           0                 0           0   \n",
      "3            0          0           0                 0           0   \n",
      "4            0          0           0                 0           0   \n",
      "\n",
      "   Race_Hispanic  Race  Education  \n",
      "0              0   NaN        NaN  \n",
      "1              0   NaN        NaN  \n",
      "2              0   NaN        NaN  \n",
      "3              0   NaN        NaN  \n",
      "4              0   NaN        NaN  \n",
      "\n",
      "[5 rows x 29 columns]\n"
     ]
    },
    {
     "data": {
      "text/plain": [
       "<bound method DataFrame.info of                 timestamp     company     level                         title  \\\n",
       "0        06-07-2017 11:33      Oracle        L3               Product Manager   \n",
       "1        06-10-2017 17:11        eBay      SE 2             Software Engineer   \n",
       "2        06-11-2017 14:53      Amazon        L7               Product Manager   \n",
       "3       6/17/2017 0:23:14       Apple        M1  Software Engineering Manager   \n",
       "4      6/20/2017 10:58:51   Microsoft        60             Software Engineer   \n",
       "...                   ...         ...       ...                           ...   \n",
       "62637    09-09-2018 11:52      Google        T4             Software Engineer   \n",
       "62638   9/13/2018 8:23:32   Microsoft        62             Software Engineer   \n",
       "62639  9/13/2018 14:35:59        MSFT        63             Software Engineer   \n",
       "62640  9/16/2018 16:10:35  Salesforce  Lead MTS             Software Engineer   \n",
       "62641   1/29/2019 5:12:59       apple      ict3             Software Engineer   \n",
       "\n",
       "       totalyearlycompensation           location  yearsofexperience  \\\n",
       "0                       127000   Redwood City, CA                1.5   \n",
       "1                       100000  San Francisco, CA                5.0   \n",
       "2                       310000        Seattle, WA                8.0   \n",
       "3                       372000      Sunnyvale, CA                7.0   \n",
       "4                       157000  Mountain View, CA                5.0   \n",
       "...                        ...                ...                ...   \n",
       "62637                   327000        Seattle, WA               10.0   \n",
       "62638                   237000        Redmond, WA                2.0   \n",
       "62639                   220000        Seattle, WA               14.0   \n",
       "62640                   280000  San Francisco, CA                8.0   \n",
       "62641                   200000      Sunnyvale, CA                0.0   \n",
       "\n",
       "       yearsatcompany                             tag  basesalary  ...  \\\n",
       "0                 1.5                             NaN      107000  ...   \n",
       "1                 3.0                             NaN           0  ...   \n",
       "2                 0.0                             NaN      155000  ...   \n",
       "3                 5.0                             NaN      157000  ...   \n",
       "4                 3.0                             NaN           0  ...   \n",
       "...               ...                             ...         ...  ...   \n",
       "62637             1.0  Distributed Systems (Back-End)      155000  ...   \n",
       "62638             2.0                      Full Stack      146900  ...   \n",
       "62639            12.0                      Full Stack      157000  ...   \n",
       "62640             4.0                             iOS      194688  ...   \n",
       "62641             0.0                         ML / AI      155000  ...   \n",
       "\n",
       "       Doctorate_Degree  Highschool Some_College Race_Asian  Race_White  \\\n",
       "0                     0           0            0          0           0   \n",
       "1                     0           0            0          0           0   \n",
       "2                     0           0            0          0           0   \n",
       "3                     0           0            0          0           0   \n",
       "4                     0           0            0          0           0   \n",
       "...                 ...         ...          ...        ...         ...   \n",
       "62637                 0           0            0          0           0   \n",
       "62638                 0           0            0          0           0   \n",
       "62639                 0           0            0          0           0   \n",
       "62640                 0           0            0          0           0   \n",
       "62641                 0           0            0          0           0   \n",
       "\n",
       "       Race_Two_Or_More  Race_Black  Race_Hispanic  Race  Education  \n",
       "0                     0           0              0   NaN        NaN  \n",
       "1                     0           0              0   NaN        NaN  \n",
       "2                     0           0              0   NaN        NaN  \n",
       "3                     0           0              0   NaN        NaN  \n",
       "4                     0           0              0   NaN        NaN  \n",
       "...                 ...         ...            ...   ...        ...  \n",
       "62637                 0           0              0   NaN        NaN  \n",
       "62638                 0           0              0   NaN        NaN  \n",
       "62639                 0           0              0   NaN        NaN  \n",
       "62640                 0           0              0   NaN        NaN  \n",
       "62641                 0           0              0   NaN        NaN  \n",
       "\n",
       "[62642 rows x 29 columns]>"
      ]
     },
     "execution_count": 28,
     "metadata": {},
     "output_type": "execute_result"
    }
   ],
   "source": [
    "# Load the dataset\n",
    "df = pd.read_csv('tech_companies_salary.csv')\n",
    "# Display the first few rows of the dataframe\n",
    "print(df.head())\n",
    "# Display summary information about the dataframe\n",
    "df.info"
   ]
  },
  {
   "cell_type": "code",
   "execution_count": 29,
   "id": "ea22b23f-ef98-4a2e-95b7-5ecd53b45016",
   "metadata": {
    "tags": []
   },
   "outputs": [
    {
     "data": {
      "text/plain": [
       "timestamp                      0\n",
       "company                        5\n",
       "level                        123\n",
       "title                          0\n",
       "totalyearlycompensation        0\n",
       "location                       0\n",
       "yearsofexperience              0\n",
       "yearsatcompany                 0\n",
       "tag                          870\n",
       "basesalary                     0\n",
       "stockgrantvalue                0\n",
       "bonus                          0\n",
       "gender                     19540\n",
       "otherdetails               22508\n",
       "cityid                         0\n",
       "dmaid                          2\n",
       "rowNumber                      0\n",
       "Masters_Degree                 0\n",
       "Bachelors_Degree               0\n",
       "Doctorate_Degree               0\n",
       "Highschool                     0\n",
       "Some_College                   0\n",
       "Race_Asian                     0\n",
       "Race_White                     0\n",
       "Race_Two_Or_More               0\n",
       "Race_Black                     0\n",
       "Race_Hispanic                  0\n",
       "Race                       40215\n",
       "Education                  32272\n",
       "dtype: int64"
      ]
     },
     "execution_count": 29,
     "metadata": {},
     "output_type": "execute_result"
    }
   ],
   "source": [
    "# Number of null values in each column\n",
    "df.isna().sum()"
   ]
  },
  {
   "cell_type": "markdown",
   "id": "f2d6006a-a0b3-4b06-a342-8e5465384a04",
   "metadata": {},
   "source": [
    "# Review data dropped to see if column with null values can be included based on variables used in model"
   ]
  },
  {
   "cell_type": "code",
   "execution_count": 26,
   "id": "c69d4602-4b79-49d3-9d75-32d578e47806",
   "metadata": {
    "tags": []
   },
   "outputs": [
    {
     "name": "stdout",
     "output_type": "stream",
     "text": [
      "timestamp                  0\n",
      "company                    0\n",
      "level                      0\n",
      "title                      0\n",
      "totalyearlycompensation    0\n",
      "location                   0\n",
      "yearsofexperience          0\n",
      "yearsatcompany             0\n",
      "tag                        0\n",
      "basesalary                 0\n",
      "stockgrantvalue            0\n",
      "bonus                      0\n",
      "gender                     0\n",
      "otherdetails               0\n",
      "cityid                     0\n",
      "dmaid                      0\n",
      "rowNumber                  0\n",
      "Masters_Degree             0\n",
      "Bachelors_Degree           0\n",
      "Doctorate_Degree           0\n",
      "Highschool                 0\n",
      "Some_College               0\n",
      "Race_Asian                 0\n",
      "Race_White                 0\n",
      "Race_Two_Or_More           0\n",
      "Race_Black                 0\n",
      "Race_Hispanic              0\n",
      "Race                       0\n",
      "Education                  0\n",
      "dtype: int64\n"
     ]
    }
   ],
   "source": [
    "# Remove rows with null values in subset columns\n",
    "df = df.dropna(subset=['gender', 'Education', 'company', 'Race', 'tag', 'level'])\n",
    "# Verify removal\n",
    "print(df.isna().sum())"
   ]
  }
 ],
 "metadata": {
  "kernelspec": {
   "display_name": "Python 3 (ipykernel)",
   "language": "python",
   "name": "python3"
  },
  "language_info": {
   "codemirror_mode": {
    "name": "ipython",
    "version": 3
   },
   "file_extension": ".py",
   "mimetype": "text/x-python",
   "name": "python",
   "nbconvert_exporter": "python",
   "pygments_lexer": "ipython3",
   "version": "3.11.5"
  }
 },
 "nbformat": 4,
 "nbformat_minor": 5
}
